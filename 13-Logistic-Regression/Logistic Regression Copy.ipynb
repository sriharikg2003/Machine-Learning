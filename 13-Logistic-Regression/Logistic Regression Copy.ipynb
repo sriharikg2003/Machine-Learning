{
 "cells": [
  {
   "cell_type": "markdown",
   "metadata": {},
   "source": [
    "___\n",
    "\n",
    "<a href='http://www.pieriandata.com'> <img src='../Pierian_Data_Logo.png' /></a>\n",
    "___\n",
    "# Logistic Regression with Python\n",
    "\n",
    "For this lecture we will be working with the [Titanic Data Set from Kaggle](https://www.kaggle.com/c/titanic). This is a very famous data set and very often is a student's first step in machine learning! \n",
    "\n",
    "We'll be trying to predict a classification- survival or deceased.\n",
    "Let's begin our understanding of implementing Logistic Regression in Python for classification.\n",
    "\n",
    "We'll use a \"semi-cleaned\" version of the titanic data set, if you use the data set hosted directly on Kaggle, you may need to do some additional cleaning not shown in this lecture notebook.\n",
    "\n",
    "## Import Libraries\n",
    "Let's import some libraries to get started!"
   ]
  },
  {
   "cell_type": "code",
   "execution_count": 229,
   "metadata": {},
   "outputs": [],
   "source": [
    "import pandas as pd\n",
    "import numpy as np\n",
    "import matplotlib.pyplot as plt\n",
    "import seaborn as sns\n",
    "%matplotlib inline"
   ]
  },
  {
   "cell_type": "markdown",
   "metadata": {},
   "source": [
    "## The Data\n",
    "\n",
    "Let's start by reading in the titanic_train.csv file into a pandas dataframe."
   ]
  },
  {
   "cell_type": "code",
   "execution_count": 230,
   "metadata": {},
   "outputs": [],
   "source": [
    "train = pd.read_csv('titanic_train.csv')"
   ]
  },
  {
   "cell_type": "code",
   "execution_count": 231,
   "metadata": {},
   "outputs": [
    {
     "data": {
      "text/html": [
       "<div>\n",
       "<style scoped>\n",
       "    .dataframe tbody tr th:only-of-type {\n",
       "        vertical-align: middle;\n",
       "    }\n",
       "\n",
       "    .dataframe tbody tr th {\n",
       "        vertical-align: top;\n",
       "    }\n",
       "\n",
       "    .dataframe thead th {\n",
       "        text-align: right;\n",
       "    }\n",
       "</style>\n",
       "<table border=\"1\" class=\"dataframe\">\n",
       "  <thead>\n",
       "    <tr style=\"text-align: right;\">\n",
       "      <th></th>\n",
       "      <th>PassengerId</th>\n",
       "      <th>Survived</th>\n",
       "      <th>Pclass</th>\n",
       "      <th>Name</th>\n",
       "      <th>Sex</th>\n",
       "      <th>Age</th>\n",
       "      <th>SibSp</th>\n",
       "      <th>Parch</th>\n",
       "      <th>Ticket</th>\n",
       "      <th>Fare</th>\n",
       "      <th>Cabin</th>\n",
       "      <th>Embarked</th>\n",
       "    </tr>\n",
       "  </thead>\n",
       "  <tbody>\n",
       "    <tr>\n",
       "      <th>0</th>\n",
       "      <td>1</td>\n",
       "      <td>0</td>\n",
       "      <td>3</td>\n",
       "      <td>Braund, Mr. Owen Harris</td>\n",
       "      <td>male</td>\n",
       "      <td>22.0</td>\n",
       "      <td>1</td>\n",
       "      <td>0</td>\n",
       "      <td>A/5 21171</td>\n",
       "      <td>7.2500</td>\n",
       "      <td>NaN</td>\n",
       "      <td>S</td>\n",
       "    </tr>\n",
       "    <tr>\n",
       "      <th>1</th>\n",
       "      <td>2</td>\n",
       "      <td>1</td>\n",
       "      <td>1</td>\n",
       "      <td>Cumings, Mrs. John Bradley (Florence Briggs Th...</td>\n",
       "      <td>female</td>\n",
       "      <td>38.0</td>\n",
       "      <td>1</td>\n",
       "      <td>0</td>\n",
       "      <td>PC 17599</td>\n",
       "      <td>71.2833</td>\n",
       "      <td>C85</td>\n",
       "      <td>C</td>\n",
       "    </tr>\n",
       "    <tr>\n",
       "      <th>2</th>\n",
       "      <td>3</td>\n",
       "      <td>1</td>\n",
       "      <td>3</td>\n",
       "      <td>Heikkinen, Miss. Laina</td>\n",
       "      <td>female</td>\n",
       "      <td>26.0</td>\n",
       "      <td>0</td>\n",
       "      <td>0</td>\n",
       "      <td>STON/O2. 3101282</td>\n",
       "      <td>7.9250</td>\n",
       "      <td>NaN</td>\n",
       "      <td>S</td>\n",
       "    </tr>\n",
       "    <tr>\n",
       "      <th>3</th>\n",
       "      <td>4</td>\n",
       "      <td>1</td>\n",
       "      <td>1</td>\n",
       "      <td>Futrelle, Mrs. Jacques Heath (Lily May Peel)</td>\n",
       "      <td>female</td>\n",
       "      <td>35.0</td>\n",
       "      <td>1</td>\n",
       "      <td>0</td>\n",
       "      <td>113803</td>\n",
       "      <td>53.1000</td>\n",
       "      <td>C123</td>\n",
       "      <td>S</td>\n",
       "    </tr>\n",
       "    <tr>\n",
       "      <th>4</th>\n",
       "      <td>5</td>\n",
       "      <td>0</td>\n",
       "      <td>3</td>\n",
       "      <td>Allen, Mr. William Henry</td>\n",
       "      <td>male</td>\n",
       "      <td>35.0</td>\n",
       "      <td>0</td>\n",
       "      <td>0</td>\n",
       "      <td>373450</td>\n",
       "      <td>8.0500</td>\n",
       "      <td>NaN</td>\n",
       "      <td>S</td>\n",
       "    </tr>\n",
       "  </tbody>\n",
       "</table>\n",
       "</div>"
      ],
      "text/plain": [
       "   PassengerId  Survived  Pclass  \\\n",
       "0            1         0       3   \n",
       "1            2         1       1   \n",
       "2            3         1       3   \n",
       "3            4         1       1   \n",
       "4            5         0       3   \n",
       "\n",
       "                                                Name     Sex   Age  SibSp  \\\n",
       "0                            Braund, Mr. Owen Harris    male  22.0      1   \n",
       "1  Cumings, Mrs. John Bradley (Florence Briggs Th...  female  38.0      1   \n",
       "2                             Heikkinen, Miss. Laina  female  26.0      0   \n",
       "3       Futrelle, Mrs. Jacques Heath (Lily May Peel)  female  35.0      1   \n",
       "4                           Allen, Mr. William Henry    male  35.0      0   \n",
       "\n",
       "   Parch            Ticket     Fare Cabin Embarked  \n",
       "0      0         A/5 21171   7.2500   NaN        S  \n",
       "1      0          PC 17599  71.2833   C85        C  \n",
       "2      0  STON/O2. 3101282   7.9250   NaN        S  \n",
       "3      0            113803  53.1000  C123        S  \n",
       "4      0            373450   8.0500   NaN        S  "
      ]
     },
     "execution_count": 231,
     "metadata": {},
     "output_type": "execute_result"
    }
   ],
   "source": [
    "train.head()\n",
    "# train.drop('Ticket',inplace=True,axis=1)"
   ]
  },
  {
   "cell_type": "markdown",
   "metadata": {},
   "source": [
    "# Exploratory Data Analysis\n",
    "\n",
    "Let's begin some exploratory data analysis! We'll start by checking out missing data!\n",
    "\n",
    "## Missing Data\n",
    "\n",
    "We can use seaborn to create a simple heatmap to see where we are missing data!"
   ]
  },
  {
   "cell_type": "code",
   "execution_count": 232,
   "metadata": {},
   "outputs": [
    {
     "name": "stdout",
     "output_type": "stream",
     "text": [
      "<class 'pandas.core.frame.DataFrame'>\n",
      "RangeIndex: 891 entries, 0 to 890\n",
      "Data columns (total 12 columns):\n",
      " #   Column       Non-Null Count  Dtype  \n",
      "---  ------       --------------  -----  \n",
      " 0   PassengerId  891 non-null    int64  \n",
      " 1   Survived     891 non-null    int64  \n",
      " 2   Pclass       891 non-null    int64  \n",
      " 3   Name         891 non-null    object \n",
      " 4   Sex          891 non-null    object \n",
      " 5   Age          714 non-null    float64\n",
      " 6   SibSp        891 non-null    int64  \n",
      " 7   Parch        891 non-null    int64  \n",
      " 8   Ticket       891 non-null    object \n",
      " 9   Fare         891 non-null    float64\n",
      " 10  Cabin        204 non-null    object \n",
      " 11  Embarked     889 non-null    object \n",
      "dtypes: float64(2), int64(5), object(5)\n",
      "memory usage: 83.7+ KB\n"
     ]
    }
   ],
   "source": [
    "train.info()"
   ]
  },
  {
   "cell_type": "code",
   "execution_count": 233,
   "metadata": {},
   "outputs": [],
   "source": [
    "# sns.pairplot(train,kind='scatter'),"
   ]
  },
  {
   "cell_type": "code",
   "execution_count": 234,
   "metadata": {},
   "outputs": [
    {
     "data": {
      "text/plain": [
       "<AxesSubplot:>"
      ]
     },
     "execution_count": 234,
     "metadata": {},
     "output_type": "execute_result"
    },
    {
     "data": {
      "image/png": "[encoded data removed]",
      "text/plain": [
       "<Figure size 640x480 with 1 Axes>"
      ]
     },
     "metadata": {},
     "output_type": "display_data"
    }
   ],
   "source": [
    "# sns.heatmap(train.isnull(),yticklabels=False,cbar=False,cmap='viridis')\n",
    "# sns.heatmap(train.isnull(),yticklabels=False,cbar=False,cmap='viridis')\n",
    "sns.heatmap(train.isnull(),cmap='viridis',yticklabels=False,cbar=False)"
   ]
  },
  {
   "cell_type": "markdown",
   "metadata": {},
   "source": [
    "Roughly 20 percent of the Age data is missing. The proportion of Age missing is likely small enough for reasonable replacement with some form of imputation. Looking at the Cabin column, it looks like we are just missing too much of that data to do something useful with at a basic level. We'll probably drop this later, or change it to another feature like \"Cabin Known: 1 or 0\"\n",
    "\n",
    "Let's continue on by visualizing some more of the data! Check out the video for full explanations over these plots, this code is just to serve as reference."
   ]
  },
  {
   "cell_type": "code",
   "execution_count": 235,
   "metadata": {},
   "outputs": [
    {
     "data": {
      "text/plain": [
       "<AxesSubplot:xlabel='Survived', ylabel='count'>"
      ]
     },
     "execution_count": 235,
     "metadata": {},
     "output_type": "execute_result"
    },
    {
     "data": {
      "image/png": "[encoded data removed]",
      "text/plain": [
       "<Figure size 640x480 with 1 Axes>"
      ]
     },
     "metadata": {},
     "output_type": "display_data"
    }
   ],
   "source": [
    "sns.set_style('whitegrid')\n",
    "sns.countplot(x='Survived',data=train,palette='RdBu_r')"
   ]
  },
  {
   "cell_type": "code",
   "execution_count": 236,
   "metadata": {},
   "outputs": [
    {
     "data": {
      "text/plain": [
       "'     PassengerId  Survived  Pclass                                                                                Name     Sex    Age  SibSp  Parch              Ticket      Fare            Cabin Embarked\\n0              1         0       3                                                             Braund, Mr. Owen Harris    male  22.00      1      0           A/5 21171    7.2500              NaN        S\\n1              2         1       1                                 Cumings, Mrs. John Bradley (Florence Briggs Thayer)  female  38.00      1      0            PC 17599   71.2833              C85        C\\n2              3         1       3                                                              Heikkinen, Miss. Laina  female  26.00      0      0    STON/O2. 3101282    7.9250              NaN        S\\n3              4         1       1                                        Futrelle, Mrs. Jacques Heath (Lily May Peel)  female  35.00      1      0              113803   53.1000             C123        S\\n4              5         0       3                                                            Allen, Mr. William Henry    male  35.00      0      0              373450    8.0500              NaN        S\\n5              6         0       3                                                                    Moran, Mr. James    male    NaN      0      0              330877    8.4583              NaN        Q\\n6              7         0       1                                                             McCarthy, Mr. Timothy J    male  54.00      0      0               17463   51.8625              E46        S\\n7              8         0       3                                                      Palsson, Master. Gosta Leonard    male   2.00      3      1              349909   21.0750              NaN        S\\n8              9         1       3                                   Johnson, Mrs. Oscar W (Elisabeth Vilhelmina Berg)  female  27.00      0      2              347742   11.1333              NaN        S\\n9             10         1       2                                                 Nasser, Mrs. Nicholas (Adele Achem)  female  14.00      1      0              237736   30.0708              NaN        C\\n10            11         1       3                                                     Sandstrom, Miss. Marguerite Rut  female   4.00      1      1             PP 9549   16.7000               G6        S\\n11            12         1       1                                                            Bonnell, Miss. Elizabeth  female  58.00      0      0              113783   26.5500             C103        S\\n12            13         0       3                                                      Saundercock, Mr. William Henry    male  20.00      0      0           A/5. 2151    8.0500              NaN        S\\n13            14         0       3                                                         Andersson, Mr. Anders Johan    male  39.00      1      5              347082   31.2750              NaN        S\\n14            15         0       3                                                Vestrom, Miss. Hulda Amanda Adolfina  female  14.00      0      0              350406    7.8542              NaN        S\\n15            16         1       2                                                    Hewlett, Mrs. (Mary D Kingcome)   female  55.00      0      0              248706   16.0000              NaN        S\\n16            17         0       3                                                                Rice, Master. Eugene    male   2.00      4      1              382652   29.1250              NaN        Q\\n17            18         1       2                                                        Williams, Mr. Charles Eugene    male    NaN      0      0              244373   13.0000              NaN        S\\n18            19         0       3                             Vander Planke, Mrs. Julius (Emelia Maria Vandemoortele)  female  31.00      1      0              345763   18.0000              NaN        S\\n19            20         1       3                                                             Masselmani, Mrs. Fatima  female    NaN      0      0                2649    7.2250              NaN        C\\n20            21         0       2                                                                Fynney, Mr. Joseph J    male  35.00      0      0              239865   26.0000              NaN        S\\n21            22         1       2                                                               Beesley, Mr. Lawrence    male  34.00      0      0              248698   13.0000              D56        S\\n22            23         1       3                                                         McGowan, Miss. Anna \"Annie\"  female  15.00      0      0              330923    8.0292              NaN        Q\\n23            24         1       1                                                        Sloper, Mr. William Thompson    male  28.00      0      0              113788   35.5000               A6        S\\n24            25         0       3                                                       Palsson, Miss. Torborg Danira  female   8.00      3      1              349909   21.0750              NaN        S\\n25            26         1       3                           Asplund, Mrs. Carl Oscar (Selma Augusta Emilia Johansson)  female  38.00      1      5              347077   31.3875              NaN        S\\n26            27         0       3                                                             Emir, Mr. Farred Chehab    male    NaN      0      0                2631    7.2250              NaN        C\\n27            28         0       1                                                      Fortune, Mr. Charles Alexander    male  19.00      3      2               19950  263.0000      C23 C25 C27        S\\n28            29         1       3                                                       O\\'Dwyer, Miss. Ellen \"Nellie\"  female    NaN      0      0              330959    7.8792              NaN        Q\\n29            30         0       3                                                                 Todoroff, Mr. Lalio    male    NaN      0      0              349216    7.8958              NaN        S\\n30            31         0       1                                                            Uruchurtu, Don. Manuel E    male  40.00      0      0            PC 17601   27.7208              NaN        C\\n31            32         1       1                                      Spencer, Mrs. William Augustus (Marie Eugenie)  female    NaN      1      0            PC 17569  146.5208              B78        C\\n32            33         1       3                                                            Glynn, Miss. Mary Agatha  female    NaN      0      0              335677    7.7500              NaN        Q\\n33            34         0       2                                                               Wheadon, Mr. Edward H    male  66.00      0      0          C.A. 24579   10.5000              NaN        S\\n34            35         0       1                                                             Meyer, Mr. Edgar Joseph    male  28.00      1      0            PC 17604   82.1708              NaN        C\\n35            36         0       1                                                      Holverson, Mr. Alexander Oskar    male  42.00      1      0              113789   52.0000              NaN        S\\n36            37         1       3                                                                    Mamee, Mr. Hanna    male    NaN      0      0                2677    7.2292              NaN        C\\n37            38         0       3                                                            Cann, Mr. Ernest Charles    male  21.00      0      0          A./5. 2152    8.0500              NaN        S\\n38            39         0       3                                                  Vander Planke, Miss. Augusta Maria  female  18.00      2      0              345764   18.0000              NaN        S\\n39            40         1       3                                                         Nicola-Yarred, Miss. Jamila  female  14.00      1      0                2651   11.2417              NaN        C\\n40            41         0       3                                      Ahlin, Mrs. Johan (Johanna Persdotter Larsson)  female  40.00      1      0                7546    9.4750              NaN        S\\n41            42         0       2                            Turpin, Mrs. William John Robert (Dorothy Ann Wonnacott)  female  27.00      1      0               11668   21.0000              NaN        S\\n42            43         0       3                                                                 Kraeff, Mr. Theodor    male    NaN      0      0              349253    7.8958              NaN        C\\n43            44         1       2                                            Laroche, Miss. Simonne Marie Anne Andree  female   3.00      1      2       SC/Paris 2123   41.5792              NaN        C\\n44            45         1       3                                                       Devaney, Miss. Margaret Delia  female  19.00      0      0              330958    7.8792              NaN        Q\\n45            46         0       3                                                            Rogers, Mr. William John    male    NaN      0      0     S.C./A.4. 23567    8.0500              NaN        S\\n46            47         0       3                                                                   Lennon, Mr. Denis    male    NaN      1      0              370371   15.5000              NaN        Q\\n47            48         1       3                                                           O\\'Driscoll, Miss. Bridget  female    NaN      0      0               14311    7.7500              NaN        Q\\n48            49         0       3                                                                 Samaan, Mr. Youssef    male    NaN      2      0                2662   21.6792              NaN        C\\n49            50         0       3                                       Arnold-Franchi, Mrs. Josef (Josefine Franchi)  female  18.00      1      0              349237   17.8000              NaN        S\\n50            51         0       3                                                          Panula, Master. Juha Niilo    male   7.00      4      1             3101295   39.6875              NaN        S\\n51            52         0       3                                                        Nosworthy, Mr. Richard Cater    male  21.00      0      0          A/4. 39886    7.8000              NaN        S\\n52            53         1       1                                            Harper, Mrs. Henry Sleeper (Myna Haxtun)  female  49.00      1      0            PC 17572   76.7292              D33        C\\n53            54         1       2                                  Faunthorpe, Mrs. Lizzie (Elizabeth Anne Wilkinson)  female  29.00      1      0                2926   26.0000              NaN        S\\n54            55         0       1                                                      Ostby, Mr. Engelhart Cornelius    male  65.00      0      1              113509   61.9792              B30        C\\n55            56         1       1                                                                   Woolner, Mr. Hugh    male    NaN      0      0               19947   35.5000              C52        S\\n56            57         1       2                                                                   Rugg, Miss. Emily  female  21.00      0      0          C.A. 31026   10.5000              NaN        S\\n57            58         0       3                                                                 Novel, Mr. Mansouer    male  28.50      0      0                2697    7.2292              NaN        C\\n58            59         1       2                                                        West, Miss. Constance Mirium  female   5.00      1      2          C.A. 34651   27.7500              NaN        S\\n59            60         0       3                                                  Goodwin, Master. William Frederick    male  11.00      5      2             CA 2144   46.9000              NaN        S\\n60            61         0       3                                                               Sirayanian, Mr. Orsen    male  22.00      0      0                2669    7.2292              NaN        C\\n61            62         1       1                                                                 Icard, Miss. Amelie  female  38.00      0      0              113572   80.0000              B28      NaN\\n62            63         0       1                                                         Harris, Mr. Henry Birkhardt    male  45.00      1      0               36973   83.4750              C83        S\\n63            64         0       3                                                               Skoog, Master. Harald    male   4.00      3      2              347088   27.9000              NaN        S\\n64            65         0       1                                                               Stewart, Mr. Albert A    male    NaN      0      0            PC 17605   27.7208              NaN        C\\n65            66         1       3                                                            Moubarek, Master. Gerios    male    NaN      1      1                2661   15.2458              NaN        C\\n66            67         1       2                                                        Nye, Mrs. (Elizabeth Ramell)  female  29.00      0      0          C.A. 29395   10.5000              F33        S\\n67            68         0       3                                                            Crease, Mr. Ernest James    male  19.00      0      0           S.P. 3464    8.1583              NaN        S\\n68            69         1       3                                                     Andersson, Miss. Erna Alexandra  female  17.00      4      2             3101281    7.9250              NaN        S\\n69            70         0       3                                                                   Kink, Mr. Vincenz    male  26.00      2      0              315151    8.6625              NaN        S\\n70            71         0       2                                                          Jenkin, Mr. Stephen Curnow    male  32.00      0      0          C.A. 33111   10.5000              NaN        S\\n71            72         0       3                                                          Goodwin, Miss. Lillian Amy  female  16.00      5      2             CA 2144   46.9000              NaN        S\\n72            73         0       2                                                                Hood, Mr. Ambrose Jr    male  21.00      0      0        S.O.C. 14879   73.5000              NaN        S\\n73            74         0       3                                                         Chronopoulos, Mr. Apostolos    male  26.00      1      0                2680   14.4542              NaN        C\\n74            75         1       3                                                                       Bing, Mr. Lee    male  32.00      0      0                1601   56.4958              NaN        S\\n75            76         0       3                                                             Moen, Mr. Sigurd Hansen    male  25.00      0      0              348123    7.6500            F G73        S\\n76            77         0       3                                                                   Staneff, Mr. Ivan    male    NaN      0      0              349208    7.8958              NaN        S\\n77            78         0       3                                                            Moutal, Mr. Rahamin Haim    male    NaN      0      0              374746    8.0500              NaN        S\\n78            79         1       2                                                       Caldwell, Master. Alden Gates    male   0.83      0      2              248738   29.0000              NaN        S\\n79            80         1       3                                                            Dowdell, Miss. Elizabeth  female  30.00      0      0              364516   12.4750              NaN        S\\n80            81         0       3                                                                Waelens, Mr. Achille    male  22.00      0      0              345767    9.0000              NaN        S\\n81            82         1       3                                                         Sheerlinck, Mr. Jan Baptist    male  29.00      0      0              345779    9.5000              NaN        S\\n82            83         1       3                                                      McDermott, Miss. Brigdet Delia  female    NaN      0      0              330932    7.7875              NaN        Q\\n83            84         0       1                                                             Carrau, Mr. Francisco M    male  28.00      0      0              113059   47.1000              NaN        S\\n84            85         1       2                                                                 Ilett, Miss. Bertha  female  17.00      0      0          SO/C 14885   10.5000              NaN        S\\n85            86         1       3                             Backstrom, Mrs. Karl Alfred (Maria Mathilda Gustafsson)  female  33.00      3      0             3101278   15.8500              NaN        S\\n86            87         0       3                                                              Ford, Mr. William Neal    male  16.00      1      3          W./C. 6608   34.3750              NaN        S\\n87            88         0       3                                                       Slocovski, Mr. Selman Francis    male    NaN      0      0     SOTON/OQ 392086    8.0500              NaN        S\\n88            89         1       1                                                          Fortune, Miss. Mabel Helen  female  23.00      3      2               19950  263.0000      C23 C25 C27        S\\n89            90         0       3                                                              Celotti, Mr. Francesco    male  24.00      0      0              343275    8.0500              NaN        S\\n90            91         0       3                                                                Christmann, Mr. Emil    male  29.00      0      0              343276    8.0500              NaN        S\\n91            92         0       3                                                          Andreasson, Mr. Paul Edvin    male  20.00      0      0              347466    7.8542              NaN        S\\n92            93         0       1                                                         Chaffee, Mr. Herbert Fuller    male  46.00      1      0         W.E.P. 5734   61.1750              E31        S\\n93            94         0       3                                                             Dean, Mr. Bertram Frank    male  26.00      1      2           C.A. 2315   20.5750              NaN        S\\n94            95         0       3                                                                   Coxon, Mr. Daniel    male  59.00      0      0              364500    7.2500              NaN        S\\n95            96         0       3                                                         Shorney, Mr. Charles Joseph    male    NaN      0      0              374910    8.0500              NaN        S\\n96            97         0       1                                                           Goldschmidt, Mr. George B    male  71.00      0      0            PC 17754   34.6542               A5        C\\n97            98         1       1                                                     Greenfield, Mr. William Bertram    male  23.00      0      1            PC 17759   63.3583          D10 D12        C\\n98            99         1       2                                                Doling, Mrs. John T (Ada Julia Bone)  female  34.00      0      1              231919   23.0000              NaN        S\\n99           100         0       2                                                                   Kantor, Mr. Sinai    male  34.00      1      0              244367   26.0000              NaN        S\\n100          101         0       3                                                             Petranec, Miss. Matilda  female  28.00      0      0              349245    7.8958              NaN        S\\n101          102         0       3                                                    Petroff, Mr. Pastcho (\"Pentcho\")    male    NaN      0      0              349215    7.8958              NaN        S\\n102          103         0       1                                                           White, Mr. Richard Frasar    male  21.00      0      1               35281   77.2875              D26        S\\n103          104         0       3                                                          Johansson, Mr. Gustaf Joel    male  33.00      0      0                7540    8.6542              NaN        S\\n104          105         0       3                                                      Gustafsson, Mr. Anders Vilhelm    male  37.00      2      0             3101276    7.9250              NaN        S\\n105          106         0       3                                                               Mionoff, Mr. Stoytcho    male  28.00      0      0              349207    7.8958              NaN        S\\n106          107         1       3                                                    Salkjelsvik, Miss. Anna Kristine  female  21.00      0      0              343120    7.6500              NaN        S\\n107          108         1       3                                                              Moss, Mr. Albert Johan    male    NaN      0      0              312991    7.7750              NaN        S\\n108          109         0       3                                                                     Rekic, Mr. Tido    male  38.00      0      0              349249    7.8958              NaN        S\\n109          110         1       3                                                                 Moran, Miss. Bertha  female    NaN      1      0              371110   24.1500              NaN        Q\\n110          111         0       1                                                      Porter, Mr. Walter Chamberlain    male  47.00      0      0              110465   52.0000             C110        S\\n111          112         0       3                                                                Zabour, Miss. Hileni  female  14.50      1      0                2665   14.4542              NaN        C\\n112          113         0       3                                                              Barton, Mr. David John    male  22.00      0      0              324669    8.0500              NaN        S\\n113          114         0       3                                                             Jussila, Miss. Katriina  female  20.00      1      0                4136    9.8250              NaN        S\\n114          115         0       3                                                               Attalah, Miss. Malake  female  17.00      0      0                2627   14.4583              NaN        C\\n115          116         0       3                                                               Pekoniemi, Mr. Edvard    male  21.00      0      0   STON/O 2. 3101294    7.9250              NaN        S\\n116          117         0       3                                                                Connors, Mr. Patrick    male  70.50      0      0              370369    7.7500              NaN        Q\\n117          118         0       2                                                     Turpin, Mr. William John Robert    male  29.00      1      0               11668   21.0000              NaN        S\\n118          119         0       1                                                            Baxter, Mr. Quigg Edmond    male  24.00      0      1            PC 17558  247.5208          B58 B60        C\\n119          120         0       3                                                   Andersson, Miss. Ellis Anna Maria  female   2.00      4      2              347082   31.2750              NaN        S\\n120          121         0       2                                                         Hickman, Mr. Stanley George    male  21.00      2      0        S.O.C. 14879   73.5000              NaN        S\\n121          122         0       3                                                          Moore, Mr. Leonard Charles    male    NaN      0      0           A4. 54510    8.0500              NaN        S\\n122          123         0       2                                                                Nasser, Mr. Nicholas    male  32.50      1      0              237736   30.0708              NaN        C\\n123          124         1       2                                                                 Webber, Miss. Susan  female  32.50      0      0               27267   13.0000             E101        S\\n124          125         0       1                                                         White, Mr. Percival Wayland    male  54.00      0      1               35281   77.2875              D26        S\\n125          126         1       3                                                        Nicola-Yarred, Master. Elias    male  12.00      1      0                2651   11.2417              NaN        C\\n126          127         0       3                                                                 McMahon, Mr. Martin    male    NaN      0      0              370372    7.7500              NaN        Q\\n127          128         1       3                                                           Madsen, Mr. Fridtjof Arne    male  24.00      0      0             C 17369    7.1417              NaN        S\\n128          129         1       3                                                                   Peter, Miss. Anna  female    NaN      1      1                2668   22.3583            F E69        C\\n129          130         0       3                                                                  Ekstrom, Mr. Johan    male  45.00      0      0              347061    6.9750              NaN        S\\n130          131         0       3                                                                Drazenoic, Mr. Jozef    male  33.00      0      0              349241    7.8958              NaN        C\\n131          132         0       3                                                      Coelho, Mr. Domingos Fernandeo    male  20.00      0      0  SOTON/O.Q. 3101307    7.0500              NaN        S\\n132          133         0       3                                      Robins, Mrs. Alexander A (Grace Charity Laury)  female  47.00      1      0           A/5. 3337   14.5000              NaN        S\\n133          134         1       2                                       Weisz, Mrs. Leopold (Mathilde Francoise Pede)  female  29.00      1      0              228414   26.0000              NaN        S\\n134          135         0       2                                                      Sobey, Mr. Samuel James Hayden    male  25.00      0      0          C.A. 29178   13.0000              NaN        S\\n135          136         0       2                                                                  Richard, Mr. Emile    male  23.00      0      0       SC/PARIS 2133   15.0458              NaN        C\\n136          137         1       1                                                        Newsom, Miss. Helen Monypeny  female  19.00      0      2               11752   26.2833              D47        S\\n137          138         0       1                                                         Futrelle, Mr. Jacques Heath    male  37.00      1      0              113803   53.1000             C123        S\\n138          139         0       3                                                                 Osen, Mr. Olaf Elon    male  16.00      0      0                7534    9.2167              NaN        S\\n139          140         0       1                                                                  Giglio, Mr. Victor    male  24.00      0      0            PC 17593   79.2000              B86        C\\n140          141         0       3                                                       Boulos, Mrs. Joseph (Sultana)  female    NaN      0      2                2678   15.2458              NaN        C\\n141          142         1       3                                                            Nysten, Miss. Anna Sofia  female  22.00      0      0              347081    7.7500              NaN        S\\n142          143         1       3                                Hakkarainen, Mrs. Pekka Pietari (Elin Matilda Dolck)  female  24.00      1      0    STON/O2. 3101279   15.8500              NaN        S\\n143          144         0       3                                                                 Burke, Mr. Jeremiah    male  19.00      0      0              365222    6.7500              NaN        Q\\n144          145         0       2                                                          Andrew, Mr. Edgardo Samuel    male  18.00      0      0              231945   11.5000              NaN        S\\n145          146         0       2                                                        Nicholls, Mr. Joseph Charles    male  19.00      1      1          C.A. 33112   36.7500              NaN        S\\n146          147         1       3                                        Andersson, Mr. August Edvard (\"Wennerstrom\")    male  27.00      0      0              350043    7.7958              NaN        S\\n147          148         0       3                                                    Ford, Miss. Robina Maggie \"Ruby\"  female   9.00      2      2          W./C. 6608   34.3750              NaN        S\\n148          149         0       2                                            Navratil, Mr. Michel (\"Louis M Hoffman\")    male  36.50      0      2              230080   26.0000               F2        S\\n149          150         0       2                                                   Byles, Rev. Thomas Roussel Davids    male  42.00      0      0              244310   13.0000              NaN        S\\n150          151         0       2                                                          Bateman, Rev. Robert James    male  51.00      0      0         S.O.P. 1166   12.5250              NaN        S\\n151          152         1       1                                                   Pears, Mrs. Thomas (Edith Wearne)  female  22.00      1      0              113776   66.6000               C2        S\\n152          153         0       3                                                                    Meo, Mr. Alfonzo    male  55.50      0      0          A.5. 11206    8.0500              NaN        S\\n153          154         0       3                                                     van Billiard, Mr. Austin Blyler    male  40.50      0      2            A/5. 851   14.5000              NaN        S\\n154          155         0       3                                                               Olsen, Mr. Ole Martin    male    NaN      0      0           Fa 265302    7.3125              NaN        S\\n155          156         0       1                                                         Williams, Mr. Charles Duane    male  51.00      0      1            PC 17597   61.3792              NaN        C\\n156          157         1       3                                                    Gilnagh, Miss. Katherine \"Katie\"  female  16.00      0      0               35851    7.7333              NaN        Q\\n157          158         0       3                                                                     Corn, Mr. Harry    male  30.00      0      0     SOTON/OQ 392090    8.0500              NaN        S\\n158          159         0       3                                                                 Smiljanic, Mr. Mile    male    NaN      0      0              315037    8.6625              NaN        S\\n159          160         0       3                                                          Sage, Master. Thomas Henry    male    NaN      8      2            CA. 2343   69.5500              NaN        S\\n160          161         0       3                                                            Cribb, Mr. John Hatfield    male  44.00      0      1              371362   16.1000              NaN        S\\n161          162         1       2                                  Watt, Mrs. James (Elizabeth \"Bessie\" Inglis Milne)  female  40.00      0      0          C.A. 33595   15.7500              NaN        S\\n162          163         0       3                                                          Bengtsson, Mr. John Viktor    male  26.00      0      0              347068    7.7750              NaN        S\\n163          164         0       3                                                                     Calic, Mr. Jovo    male  17.00      0      0              315093    8.6625              NaN        S\\n164          165         0       3                                                        Panula, Master. Eino Viljami    male   1.00      4      1             3101295   39.6875              NaN        S\\n165          166         1       3                                     Goldsmith, Master. Frank John William \"Frankie\"    male   9.00      0      2              363291   20.5250              NaN        S\\n166          167         1       1                                              Chibnall, Mrs. (Edith Martha Bowerman)  female    NaN      0      1              113505   55.0000              E33        S\\n167          168         0       3                                     Skoog, Mrs. William (Anna Bernhardina Karlsson)  female  45.00      1      4              347088   27.9000              NaN        S\\n168          169         0       1                                                                 Baumann, Mr. John D    male    NaN      0      0            PC 17318   25.9250              NaN        S\\n169          170         0       3                                                                       Ling, Mr. Lee    male  28.00      0      0                1601   56.4958              NaN        S\\n170          171         0       1                                                           Van der hoef, Mr. Wyckoff    male  61.00      0      0              111240   33.5000              B19        S\\n171          172         0       3                                                                Rice, Master. Arthur    male   4.00      4      1              382652   29.1250              NaN        Q\\n172          173         1       3                                                        Johnson, Miss. Eleanor Ileen  female   1.00      1      1              347742   11.1333              NaN        S\\n173          174         0       3                                                           Sivola, Mr. Antti Wilhelm    male  21.00      0      0   STON/O 2. 3101280    7.9250              NaN        S\\n174          175         0       1                                                             Smith, Mr. James Clinch    male  56.00      0      0               17764   30.6958               A7        C\\n175          176         0       3                                                              Klasen, Mr. Klas Albin    male  18.00      1      1              350404    7.8542              NaN        S\\n176          177         0       3                                                       Lefebre, Master. Henry Forbes    male    NaN      3      1                4133   25.4667              NaN        S\\n177          178         0       1                                                          Isham, Miss. Ann Elizabeth  female  50.00      0      0            PC 17595   28.7125              C49        C\\n178          179         0       2                                                                  Hale, Mr. Reginald    male  30.00      0      0              250653   13.0000              NaN        S\\n179          180         0       3                                                                 Leonard, Mr. Lionel    male  36.00      0      0                LINE    0.0000              NaN        S\\n180          181         0       3                                                        Sage, Miss. Constance Gladys  female    NaN      8      2            CA. 2343   69.5500              NaN        S\\n181          182         0       2                                                                    Pernot, Mr. Rene    male    NaN      0      0       SC/PARIS 2131   15.0500              NaN        C\\n182          183         0       3                                               Asplund, Master. Clarence Gustaf Hugo    male   9.00      4      2              347077   31.3875              NaN        S\\n183          184         1       2                                                           Becker, Master. Richard F    male   1.00      2      1              230136   39.0000               F4        S\\n184          185         1       3                                                 Kink-Heilmann, Miss. Luise Gretchen  female   4.00      0      2              315153   22.0250              NaN        S\\n185          186         0       1                                                               Rood, Mr. Hugh Roscoe    male    NaN      0      0              113767   50.0000              A32        S\\n186          187         1       3                                     O\\'Brien, Mrs. Thomas (Johanna \"Hannah\" Godfrey)  female    NaN      1      0              370365   15.5000              NaN        Q\\n187          188         1       1                                       Romaine, Mr. Charles Hallace (\"Mr C Rolmane\")    male  45.00      0      0              111428   26.5500              NaN        S\\n188          189         0       3                                                                    Bourke, Mr. John    male  40.00      1      1              364849   15.5000              NaN        Q\\n189          190         0       3                                                                 Turcin, Mr. Stjepan    male  36.00      0      0              349247    7.8958              NaN        S\\n190          191         1       2                                                                 Pinsky, Mrs. (Rosa)  female  32.00      0      0              234604   13.0000              NaN        S\\n191          192         0       2                                                               Carbines, Mr. William    male  19.00      0      0               28424   13.0000              NaN        S\\n192          193         1       3                                     Andersen-Jensen, Miss. Carla Christine Nielsine  female  19.00      1      0              350046    7.8542              NaN        S\\n193          194         1       2                                                          Navratil, Master. Michel M    male   3.00      1      1              230080   26.0000               F2        S\\n194          195         1       1                                           Brown, Mrs. James Joseph (Margaret Tobin)  female  44.00      0      0            PC 17610   27.7208               B4        C\\n195          196         1       1                                                                Lurette, Miss. Elise  female  58.00      0      0            PC 17569  146.5208              B80        C\\n196          197         0       3                                                                 Mernagh, Mr. Robert    male    NaN      0      0              368703    7.7500              NaN        Q\\n197          198         0       3                                                    Olsen, Mr. Karl Siegwart Andreas    male  42.00      0      1                4579    8.4042              NaN        S\\n198          199         1       3                                                    Madigan, Miss. Margaret \"Maggie\"  female    NaN      0      0              370370    7.7500              NaN        Q\\n199          200         0       2                                              Yrois, Miss. Henriette (\"Mrs Harbeck\")  female  24.00      0      0              248747   13.0000              NaN        S\\n200          201         0       3                                                      Vande Walle, Mr. Nestor Cyriel    male  28.00      0      0              345770    9.5000              NaN        S\\n201          202         0       3                                                                 Sage, Mr. Frederick    male    NaN      8      2            CA. 2343   69.5500              NaN        S\\n202          203         0       3                                                          Johanson, Mr. Jakob Alfred    male  34.00      0      0             3101264    6.4958              NaN        S\\n203          204         0       3                                                                Youseff, Mr. Gerious    male  45.50      0      0                2628    7.2250              NaN        C\\n204          205         1       3                                                            Cohen, Mr. Gurshon \"Gus\"    male  18.00      0      0            A/5 3540    8.0500              NaN        S\\n205          206         0       3                                                          Strom, Miss. Telma Matilda  female   2.00      0      1              347054   10.4625               G6        S\\n206          207         0       3                                                          Backstrom, Mr. Karl Alfred    male  32.00      1      0             3101278   15.8500              NaN        S\\n207          208         1       3                                                         Albimona, Mr. Nassef Cassem    male  26.00      0      0                2699   18.7875              NaN        C\\n208          209         1       3                                                           Carr, Miss. Helen \"Ellen\"  female  16.00      0      0              367231    7.7500              NaN        Q\\n209          210         1       1                                                                    Blank, Mr. Henry    male  40.00      0      0              112277   31.0000              A31        C\\n210          211         0       3                                                                      Ali, Mr. Ahmed    male  24.00      0      0  SOTON/O.Q. 3101311    7.0500              NaN        S\\n211          212         1       2                                                          Cameron, Miss. Clear Annie  female  35.00      0      0        F.C.C. 13528   21.0000              NaN        S\\n212          213         0       3                                                              Perkin, Mr. John Henry    male  22.00      0      0           A/5 21174    7.2500              NaN        S\\n213          214         0       2                                                         Givard, Mr. Hans Kristensen    male  30.00      0      0              250646   13.0000              NaN        S\\n214          215         0       3                                                                 Kiernan, Mr. Philip    male    NaN      1      0              367229    7.7500              NaN        Q\\n215          216         1       1                                                             Newell, Miss. Madeleine  female  31.00      1      0               35273  113.2750              D36        C\\n216          217         1       3                                                              Honkanen, Miss. Eliina  female  27.00      0      0    STON/O2. 3101283    7.9250              NaN        S\\n217          218         0       2                                                        Jacobsohn, Mr. Sidney Samuel    male  42.00      1      0              243847   27.0000              NaN        S\\n218          219         1       1                                                               Bazzani, Miss. Albina  female  32.00      0      0               11813   76.2917              D15        C\\n219          220         0       2                                                                  Harris, Mr. Walter    male  30.00      0      0           W/C 14208   10.5000              NaN        S\\n220          221         1       3                                                      Sunderland, Mr. Victor Francis    male  16.00      0      0     SOTON/OQ 392089    8.0500              NaN        S\\n221          222         0       2                                                                Bracken, Mr. James H    male  27.00      0      0              220367   13.0000              NaN        S\\n222          223         0       3                                                             Green, Mr. George Henry    male  51.00      0      0               21440    8.0500              NaN        S\\n223          224         0       3                                                                Nenkoff, Mr. Christo    male    NaN      0      0              349234    7.8958              NaN        S\\n224          225         1       1                                                        Hoyt, Mr. Frederick Maxfield    male  38.00      1      0               19943   90.0000              C93        S\\n225          226         0       3                                                        Berglund, Mr. Karl Ivar Sven    male  22.00      0      0             PP 4348    9.3500              NaN        S\\n226          227         1       2                                                           Mellors, Mr. William John    male  19.00      0      0           SW/PP 751   10.5000              NaN        S\\n227          228         0       3                                                     Lovell, Mr. John Hall (\"Henry\")    male  20.50      0      0           A/5 21173    7.2500              NaN        S\\n228          229         0       2                                                           Fahlstrom, Mr. Arne Jonas    male  18.00      0      0              236171   13.0000              NaN        S\\n229          230         0       3                                                             Lefebre, Miss. Mathilde  female    NaN      3      1                4133   25.4667              NaN        S\\n230          231         1       1                                        Harris, Mrs. Henry Birkhardt (Irene Wallach)  female  35.00      1      0               36973   83.4750              C83        S\\n231          232         0       3                                                            Larsson, Mr. Bengt Edvin    male  29.00      0      0              347067    7.7750              NaN        S\\n232          233         0       2                                                           Sjostedt, Mr. Ernst Adolf    male  59.00      0      0              237442   13.5000              NaN        S\\n233          234         1       3                                                      Asplund, Miss. Lillian Gertrud  female   5.00      4      2              347077   31.3875              NaN        S\\n234          235         0       2                                                   Leyson, Mr. Robert William Norman    male  24.00      0      0          C.A. 29566   10.5000              NaN        S\\n235          236         0       3                                                        Harknett, Miss. Alice Phoebe  female    NaN      0      0          W./C. 6609    7.5500              NaN        S\\n236          237         0       2                                                                   Hold, Mr. Stephen    male  44.00      1      0               26707   26.0000              NaN        S\\n237          238         1       2                                                    Collyer, Miss. Marjorie \"Lottie\"  female   8.00      0      2          C.A. 31921   26.2500              NaN        S\\n238          239         0       2                                                     Pengelly, Mr. Frederick William    male  19.00      0      0               28665   10.5000              NaN        S\\n239          240         0       2                                                              Hunt, Mr. George Henry    male  33.00      0      0          SCO/W 1585   12.2750              NaN        S\\n240          241         0       3                                                               Zabour, Miss. Thamine  female    NaN      1      0                2665   14.4542              NaN        C\\n241          242         1       3                                                      Murphy, Miss. Katherine \"Kate\"  female    NaN      1      0              367230   15.5000              NaN        Q\\n242          243         0       2                                                     Coleridge, Mr. Reginald Charles    male  29.00      0      0         W./C. 14263   10.5000              NaN        S\\n243          244         0       3                                                       Maenpaa, Mr. Matti Alexanteri    male  22.00      0      0   STON/O 2. 3101275    7.1250              NaN        S\\n244          245         0       3                                                                Attalah, Mr. Sleiman    male  30.00      0      0                2694    7.2250              NaN        C\\n245          246         0       1                                                         Minahan, Dr. William Edward    male  44.00      2      0               19928   90.0000              C78        Q\\n246          247         0       3                                               Lindahl, Miss. Agda Thorilda Viktoria  female  25.00      0      0              347071    7.7750              NaN        S\\n247          248         1       2                                                     Hamalainen, Mrs. William (Anna)  female  24.00      0      2              250649   14.5000              NaN        S\\n248          249         1       1                                                       Beckwith, Mr. Richard Leonard    male  37.00      1      1               11751   52.5542              D35        S\\n249          250         0       2                                                       Carter, Rev. Ernest Courtenay    male  54.00      1      0              244252   26.0000              NaN        S\\n250          251         0       3                                                              Reed, Mr. James George    male    NaN      0      0              362316    7.2500              NaN        S\\n251          252         0       3                                          Strom, Mrs. Wilhelm (Elna Matilda Persson)  female  29.00      1      1              347054   10.4625               G6        S\\n252          253         0       1                                                           Stead, Mr. William Thomas    male  62.00      0      0              113514   26.5500              C87        S\\n253          254         0       3                                                            Lobb, Mr. William Arthur    male  30.00      1      0           A/5. 3336   16.1000              NaN        S\\n254          255         0       3                                            Rosblom, Mrs. Viktor (Helena Wilhelmina)  female  41.00      0      2              370129   20.2125              NaN        S\\n255          256         1       3                                             Touma, Mrs. Darwis (Hanne Youssef Razi)  female  29.00      0      2                2650   15.2458              NaN        C\\n256          257         1       1                                                      Thorne, Mrs. Gertrude Maybelle  female    NaN      0      0            PC 17585   79.2000              NaN        C\\n257          258         1       1                                                                Cherry, Miss. Gladys  female  30.00      0      0              110152   86.5000              B77        S\\n258          259         1       1                                                                    Ward, Miss. Anna  female  35.00      0      0            PC 17755  512.3292              NaN        C\\n259          260         1       2                                                         Parrish, Mrs. (Lutie Davis)  female  50.00      0      1              230433   26.0000              NaN        S\\n260          261         0       3                                                                   Smith, Mr. Thomas    male    NaN      0      0              384461    7.7500              NaN        Q\\n261          262         1       3                                                   Asplund, Master. Edvin Rojj Felix    male   3.00      4      2              347077   31.3875              NaN        S\\n262          263         0       1                                                                   Taussig, Mr. Emil    male  52.00      1      1              110413   79.6500              E67        S\\n263          264         0       1                                                               Harrison, Mr. William    male  40.00      0      0              112059    0.0000              B94        S\\n264          265         0       3                                                                  Henry, Miss. Delia  female    NaN      0      0              382649    7.7500              NaN        Q\\n265          266         0       2                                                                   Reeves, Mr. David    male  36.00      0      0          C.A. 17248   10.5000              NaN        S\\n266          267         0       3                                                           Panula, Mr. Ernesti Arvid    male  16.00      4      1             3101295   39.6875              NaN        S\\n267          268         1       3                                                            Persson, Mr. Ernst Ulrik    male  25.00      1      0              347083    7.7750              NaN        S\\n268          269         1       1                                       Graham, Mrs. William Thompson (Edith Junkins)  female  58.00      0      1            PC 17582  153.4625             C125        S\\n269          270         1       1                                                              Bissette, Miss. Amelia  female  35.00      0      0            PC 17760  135.6333              C99        S\\n270          271         0       1                                                               Cairns, Mr. Alexander    male    NaN      0      0              113798   31.0000              NaN        S\\n271          272         1       3                                                        Tornquist, Mr. William Henry    male  25.00      0      0                LINE    0.0000              NaN        S\\n272          273         1       2                                           Mellinger, Mrs. (Elizabeth Anne Maidment)  female  41.00      0      1              250644   19.5000              NaN        S\\n273          274         0       1                                                               Natsch, Mr. Charles H    male  37.00      0      1            PC 17596   29.7000             C118        C\\n274          275         1       3                                                          Healy, Miss. Hanora \"Nora\"  female    NaN      0      0              370375    7.7500              NaN        Q\\n275          276         1       1                                                   Andrews, Miss. Kornelia Theodosia  female  63.00      1      0               13502   77.9583               D7        S\\n276          277         0       3                                                   Lindblom, Miss. Augusta Charlotta  female  45.00      0      0              347073    7.7500              NaN        S\\n277          278         0       2                                                         Parkes, Mr. Francis \"Frank\"    male    NaN      0      0              239853    0.0000              NaN        S\\n278          279         0       3                                                                  Rice, Master. Eric    male   7.00      4      1              382652   29.1250              NaN        Q\\n279          280         1       3                                                    Abbott, Mrs. Stanton (Rosa Hunt)  female  35.00      1      1           C.A. 2673   20.2500              NaN        S\\n280          281         0       3                                                                    Duane, Mr. Frank    male  65.00      0      0              336439    7.7500              NaN        Q\\n281          282         0       3                                                    Olsson, Mr. Nils Johan Goransson    male  28.00      0      0              347464    7.8542              NaN        S\\n282          283         0       3                                                           de Pelsmaeker, Mr. Alfons    male  16.00      0      0              345778    9.5000              NaN        S\\n283          284         1       3                                                          Dorking, Mr. Edward Arthur    male  19.00      0      0          A/5. 10482    8.0500              NaN        S\\n284          285         0       1                                                          Smith, Mr. Richard William    male    NaN      0      0              113056   26.0000              A19        S\\n285          286         0       3                                                                 Stankovic, Mr. Ivan    male  33.00      0      0              349239    8.6625              NaN        C\\n286          287         1       3                                                             de Mulder, Mr. Theodore    male  30.00      0      0              345774    9.5000              NaN        S\\n287          288         0       3                                                                Naidenoff, Mr. Penko    male  22.00      0      0              349206    7.8958              NaN        S\\n288          289         1       2                                                                Hosono, Mr. Masabumi    male  42.00      0      0              237798   13.0000              NaN        S\\n289          290         1       3                                                                Connolly, Miss. Kate  female  22.00      0      0              370373    7.7500              NaN        Q\\n290          291         1       1                                                        Barber, Miss. Ellen \"Nellie\"  female  26.00      0      0               19877   78.8500              NaN        S\\n291          292         1       1                                             Bishop, Mrs. Dickinson H (Helen Walton)  female  19.00      1      0               11967   91.0792              B49        C\\n292          293         0       2                                                              Levy, Mr. Rene Jacques    male  36.00      0      0       SC/Paris 2163   12.8750                D        C\\n293          294         0       3                                                                 Haas, Miss. Aloisia  female  24.00      0      0              349236    8.8500              NaN        S\\n294          295         0       3                                                                    Mineff, Mr. Ivan    male  24.00      0      0              349233    7.8958              NaN        S\\n295          296         0       1                                                                   Lewy, Mr. Ervin G    male    NaN      0      0            PC 17612   27.7208              NaN        C\\n296          297         0       3                                                                  Hanna, Mr. Mansour    male  23.50      0      0                2693    7.2292              NaN        C\\n297          298         0       1                                                        Allison, Miss. Helen Loraine  female   2.00      1      2              113781  151.5500          C22 C26        S\\n298          299         1       1                                                               Saalfeld, Mr. Adolphe    male    NaN      0      0               19988   30.5000             C106        S\\n299          300         1       1                                     Baxter, Mrs. James (Helene DeLaudeniere Chaput)  female  50.00      0      1            PC 17558  247.5208          B58 B60        C\\n300          301         1       3                                            Kelly, Miss. Anna Katherine \"Annie Kate\"  female    NaN      0      0                9234    7.7500              NaN        Q\\n301          302         1       3                                                                  McCoy, Mr. Bernard    male    NaN      2      0              367226   23.2500              NaN        Q\\n302          303         0       3                                                     Johnson, Mr. William Cahoone Jr    male  19.00      0      0                LINE    0.0000              NaN        S\\n303          304         1       2                                                                 Keane, Miss. Nora A  female    NaN      0      0              226593   12.3500             E101        Q\\n304          305         0       3                                                   Williams, Mr. Howard Hugh \"Harry\"    male    NaN      0      0            A/5 2466    8.0500              NaN        S\\n305          306         1       1                                                      Allison, Master. Hudson Trevor    male   0.92      1      2              113781  151.5500          C22 C26        S\\n306          307         1       1                                                             Fleming, Miss. Margaret  female    NaN      0      0               17421  110.8833              NaN        C\\n307          308         1       1  Penasco y Castellana, Mrs. Victor de Satode (Maria Josefa Perez de Soto y Vallejo)  female  17.00      1      0            PC 17758  108.9000              C65        C\\n308          309         0       2                                                                 Abelson, Mr. Samuel    male  30.00      1      0           P/PP 3381   24.0000              NaN        C\\n309          310         1       1                                                      Francatelli, Miss. Laura Mabel  female  30.00      0      0            PC 17485   56.9292              E36        C\\n310          311         1       1                                                      Hays, Miss. Margaret Bechstein  female  24.00      0      0               11767   83.1583              C54        C\\n311          312         1       1                                                          Ryerson, Miss. Emily Borie  female  18.00      2      2            PC 17608  262.3750  B57 B59 B63 B66        C\\n312          313         0       2                                               Lahtinen, Mrs. William (Anna Sylfven)  female  26.00      1      1              250651   26.0000              NaN        S\\n313          314         0       3                                                              Hendekovic, Mr. Ignjac    male  28.00      0      0              349243    7.8958              NaN        S\\n314          315         0       2                                                                  Hart, Mr. Benjamin    male  43.00      1      1        F.C.C. 13529   26.2500              NaN        S\\n315          316         1       3                                                     Nilsson, Miss. Helmina Josefina  female  26.00      0      0              347470    7.8542              NaN        S\\n316          317         1       2                                                 Kantor, Mrs. Sinai (Miriam Sternin)  female  24.00      1      0              244367   26.0000              NaN        S\\n317          318         0       2                                                                Moraweck, Dr. Ernest    male  54.00      0      0               29011   14.0000              NaN        S\\n318          319         1       1                                                            Wick, Miss. Mary Natalie  female  31.00      0      2               36928  164.8667               C7        S\\n319          320         1       1                            Spedden, Mrs. Frederic Oakley (Margaretta Corning Stone)  female  40.00      1      1               16966  134.5000              E34        C\\n320          321         0       3                                                                  Dennis, Mr. Samuel    male  22.00      0      0           A/5 21172    7.2500              NaN        S\\n321          322         0       3                                                                    Danoff, Mr. Yoto    male  27.00      0      0              349219    7.8958              NaN        S\\n322          323         1       2                                                           Slayter, Miss. Hilda Mary  female  30.00      0      0              234818   12.3500              NaN        Q\\n323          324         1       2                                 Caldwell, Mrs. Albert Francis (Sylvia Mae Harbaugh)  female  22.00      1      1              248738   29.0000              NaN        S\\n324          325         0       3                                                            Sage, Mr. George John Jr    male    NaN      8      2            CA. 2343   69.5500              NaN        S\\n325          326         1       1                                                            Young, Miss. Marie Grice  female  36.00      0      0            PC 17760  135.6333              C32        C\\n326          327         0       3                                                           Nysveen, Mr. Johan Hansen    male  61.00      0      0              345364    6.2375              NaN        S\\n327          328         1       2                                                             Ball, Mrs. (Ada E Hall)  female  36.00      0      0               28551   13.0000                D        S\\n328          329         1       3                                      Goldsmith, Mrs. Frank John (Emily Alice Brown)  female  31.00      1      1              363291   20.5250              NaN        S\\n329          330         1       1                                                        Hippach, Miss. Jean Gertrude  female  16.00      0      1              111361   57.9792              B18        C\\n330          331         1       3                                                                  McCoy, Miss. Agnes  female    NaN      2      0              367226   23.2500              NaN        Q\\n331          332         0       1                                                                 Partner, Mr. Austen    male  45.50      0      0              113043   28.5000             C124        S\\n332          333         0       1                                                           Graham, Mr. George Edward    male  38.00      0      1            PC 17582  153.4625              C91        S\\n333          334         0       3                                                     Vander Planke, Mr. Leo Edmondus    male  16.00      2      0              345764   18.0000              NaN        S\\n334          335         1       1                                  Frauenthal, Mrs. Henry William (Clara Heinsheimer)  female    NaN      1      0            PC 17611  133.6500              NaN        S\\n335          336         0       3                                                                  Denkoff, Mr. Mitto    male    NaN      0      0              349225    7.8958              NaN        S\\n336          337         0       1                                                           Pears, Mr. Thomas Clinton    male  29.00      1      0              113776   66.6000               C2        S\\n337          338         1       1                                                     Burns, Miss. Elizabeth Margaret  female  41.00      0      0               16966  134.5000              E40        C\\n338          339         1       3                                                               Dahl, Mr. Karl Edwart    male  45.00      0      0                7598    8.0500              NaN        S\\n339          340         0       1                                                        Blackwell, Mr. Stephen Weart    male  45.00      0      0              113784   35.5000                T        S\\n340          341         1       2                                                      Navratil, Master. Edmond Roger    male   2.00      1      1              230080   26.0000               F2        S\\n341          342         1       1                                                      Fortune, Miss. Alice Elizabeth  female  24.00      3      2               19950  263.0000      C23 C25 C27        S\\n342          343         0       2                                                          Collander, Mr. Erik Gustaf    male  28.00      0      0              248740   13.0000              NaN        S\\n343          344         0       2                                          Sedgwick, Mr. Charles Frederick Waddington    male  25.00      0      0              244361   13.0000              NaN        S\\n344          345         0       2                                                             Fox, Mr. Stanley Hubert    male  36.00      0      0              229236   13.0000              NaN        S\\n345          346         1       2                                                       Brown, Miss. Amelia \"Mildred\"  female  24.00      0      0              248733   13.0000              F33        S\\n346          347         1       2                                                           Smith, Miss. Marion Elsie  female  40.00      0      0               31418   13.0000              NaN        S\\n347          348         1       3                                           Davison, Mrs. Thomas Henry (Mary E Finck)  female    NaN      1      0              386525   16.1000              NaN        S\\n348          349         1       3                                              Coutts, Master. William Loch \"William\"    male   3.00      1      1          C.A. 37671   15.9000              NaN        S\\n349          350         0       3                                                                    Dimic, Mr. Jovan    male  42.00      0      0              315088    8.6625              NaN        S\\n350          351         0       3                                                              Odahl, Mr. Nils Martin    male  23.00      0      0                7267    9.2250              NaN        S\\n351          352         0       1                                              Williams-Lambert, Mr. Fletcher Fellows    male    NaN      0      0              113510   35.0000             C128        S\\n352          353         0       3                                                                  Elias, Mr. Tannous    male  15.00      1      1                2695    7.2292              NaN        C\\n353          354         0       3                                                           Arnold-Franchi, Mr. Josef    male  25.00      1      0              349237   17.8000              NaN        S\\n354          355         0       3                                                                   Yousif, Mr. Wazli    male    NaN      0      0                2647    7.2250              NaN        C\\n355          356         0       3                                                         Vanden Steen, Mr. Leo Peter    male  28.00      0      0              345783    9.5000              NaN        S\\n356          357         1       1                                                         Bowerman, Miss. Elsie Edith  female  22.00      0      1              113505   55.0000              E33        S\\n357          358         0       2                                                           Funk, Miss. Annie Clemmer  female  38.00      0      0              237671   13.0000              NaN        S\\n358          359         1       3                                                                McGovern, Miss. Mary  female    NaN      0      0              330931    7.8792              NaN        Q\\n359          360         1       3                                                   Mockler, Miss. Helen Mary \"Ellie\"  female    NaN      0      0              330980    7.8792              NaN        Q\\n360          361         0       3                                                                  Skoog, Mr. Wilhelm    male  40.00      1      4              347088   27.9000              NaN        S\\n361          362         0       2                                                           del Carlo, Mr. Sebastiano    male  29.00      1      0       SC/PARIS 2167   27.7208              NaN        C\\n362          363         0       3                                                     Barbara, Mrs. (Catherine David)  female  45.00      0      1                2691   14.4542              NaN        C\\n363          364         0       3                                                                     Asim, Mr. Adola    male  35.00      0      0  SOTON/O.Q. 3101310    7.0500              NaN        S\\n364          365         0       3                                                                 O\\'Brien, Mr. Thomas    male    NaN      1      0              370365   15.5000              NaN        Q\\n365          366         0       3                                                      Adahl, Mr. Mauritz Nils Martin    male  30.00      0      0              C 7076    7.2500              NaN        S\\n366          367         1       1                                    Warren, Mrs. Frank Manley (Anna Sophia Atkinson)  female  60.00      1      0              110813   75.2500              D37        C\\n367          368         1       3                                                      Moussa, Mrs. (Mantoura Boulos)  female    NaN      0      0                2626    7.2292              NaN        C\\n368          369         1       3                                                                 Jermyn, Miss. Annie  female    NaN      0      0               14313    7.7500              NaN        Q\\n369          370         1       1                                                       Aubart, Mme. Leontine Pauline  female  24.00      0      0            PC 17477   69.3000              B35        C\\n370          371         1       1                                                         Harder, Mr. George Achilles    male  25.00      1      0               11765   55.4417              E50        C\\n371          372         0       3                                                           Wiklund, Mr. Jakob Alfred    male  18.00      1      0             3101267    6.4958              NaN        S\\n372          373         0       3                                                          Beavan, Mr. William Thomas    male  19.00      0      0              323951    8.0500              NaN        S\\n373          374         0       1                                                                 Ringhini, Mr. Sante    male  22.00      0      0            PC 17760  135.6333              NaN        C\\n374          375         0       3                                                          Palsson, Miss. Stina Viola  female   3.00      3      1              349909   21.0750              NaN        S\\n375          376         1       1                                               Meyer, Mrs. Edgar Joseph (Leila Saks)  female    NaN      1      0            PC 17604   82.1708              NaN        C\\n376          377         1       3                                                     Landergren, Miss. Aurora Adelia  female  22.00      0      0              C 7077    7.2500              NaN        S\\n377          378         0       1                                                           Widener, Mr. Harry Elkins    male  27.00      0      2              113503  211.5000              C82        C\\n378          379         0       3                                                                 Betros, Mr. Tannous    male  20.00      0      0                2648    4.0125              NaN        C\\n379          380         0       3                                                         Gustafsson, Mr. Karl Gideon    male  19.00      0      0              347069    7.7750              NaN        S\\n380          381         1       1                                                               Bidois, Miss. Rosalie  female  42.00      0      0            PC 17757  227.5250              NaN        C\\n381          382         1       3                                                         Nakid, Miss. Maria (\"Mary\")  female   1.00      0      2                2653   15.7417              NaN        C\\n382          383         0       3                                                                  Tikkanen, Mr. Juho    male  32.00      0      0   STON/O 2. 3101293    7.9250              NaN        S\\n383          384         1       1                                 Holverson, Mrs. Alexander Oskar (Mary Aline Towner)  female  35.00      1      0              113789   52.0000              NaN        S\\n384          385         0       3                                                              Plotcharsky, Mr. Vasil    male    NaN      0      0              349227    7.8958              NaN        S\\n385          386         0       2                                                           Davies, Mr. Charles Henry    male  18.00      0      0        S.O.C. 14879   73.5000              NaN        S\\n386          387         0       3                                                     Goodwin, Master. Sidney Leonard    male   1.00      5      2             CA 2144   46.9000              NaN        S\\n387          388         1       2                                                                    Buss, Miss. Kate  female  36.00      0      0               27849   13.0000              NaN        S\\n388          389         0       3                                                                Sadlier, Mr. Matthew    male    NaN      0      0              367655    7.7292              NaN        Q\\n389          390         1       2                                                               Lehmann, Miss. Bertha  female  17.00      0      0             SC 1748   12.0000              NaN        C\\n390          391         1       1                                                          Carter, Mr. William Ernest    male  36.00      1      2              113760  120.0000          B96 B98        S\\n391          392         1       3                                                              Jansson, Mr. Carl Olof    male  21.00      0      0              350034    7.7958              NaN        S\\n392          393         0       3                                                        Gustafsson, Mr. Johan Birger    male  28.00      2      0             3101277    7.9250              NaN        S\\n393          394         1       1                                                              Newell, Miss. Marjorie  female  23.00      1      0               35273  113.2750              D36        C\\n394          395         1       3                                 Sandstrom, Mrs. Hjalmar (Agnes Charlotta Bengtsson)  female  24.00      0      2             PP 9549   16.7000               G6        S\\n395          396         0       3                                                                 Johansson, Mr. Erik    male  22.00      0      0              350052    7.7958              NaN        S\\n396          397         0       3                                                                 Olsson, Miss. Elina  female  31.00      0      0              350407    7.8542              NaN        S\\n397          398         0       2                                                             McKane, Mr. Peter David    male  46.00      0      0               28403   26.0000              NaN        S\\n398          399         0       2                                                                    Pain, Dr. Alfred    male  23.00      0      0              244278   10.5000              NaN        S\\n399          400         1       2                                                    Trout, Mrs. William H (Jessie L)  female  28.00      0      0              240929   12.6500              NaN        S\\n400          401         1       3                                                                  Niskanen, Mr. Juha    male  39.00      0      0   STON/O 2. 3101289    7.9250              NaN        S\\n401          402         0       3                                                                     Adams, Mr. John    male  26.00      0      0              341826    8.0500              NaN        S\\n402          403         0       3                                                            Jussila, Miss. Mari Aina  female  21.00      1      0                4137    9.8250              NaN        S\\n403          404         0       3                                                      Hakkarainen, Mr. Pekka Pietari    male  28.00      1      0    STON/O2. 3101279   15.8500              NaN        S\\n404          405         0       3                                                             Oreskovic, Miss. Marija  female  20.00      0      0              315096    8.6625              NaN        S\\n405          406         0       2                                                                  Gale, Mr. Shadrach    male  34.00      1      0               28664   21.0000              NaN        S\\n406          407         0       3                                                    Widegren, Mr. Carl/Charles Peter    male  51.00      0      0              347064    7.7500              NaN        S\\n407          408         1       2                                                      Richards, Master. William Rowe    male   3.00      1      1               29106   18.7500              NaN        S\\n408          409         0       3                                                   Birkeland, Mr. Hans Martin Monsen    male  21.00      0      0              312992    7.7750              NaN        S\\n409          410         0       3                                                                  Lefebre, Miss. Ida  female    NaN      3      1                4133   25.4667              NaN        S\\n410          411         0       3                                                                  Sdycoff, Mr. Todor    male    NaN      0      0              349222    7.8958              NaN        S\\n411          412         0       3                                                                     Hart, Mr. Henry    male    NaN      0      0              394140    6.8583              NaN        Q\\n412          413         1       1                                                              Minahan, Miss. Daisy E  female  33.00      1      0               19928   90.0000              C78        Q\\n413          414         0       2                                                      Cunningham, Mr. Alfred Fleming    male    NaN      0      0              239853    0.0000              NaN        S\\n414          415         1       3                                                           Sundman, Mr. Johan Julian    male  44.00      0      0   STON/O 2. 3101269    7.9250              NaN        S\\n415          416         0       3                                             Meek, Mrs. Thomas (Annie Louise Rowley)  female    NaN      0      0              343095    8.0500              NaN        S\\n416          417         1       2                                     Drew, Mrs. James Vivian (Lulu Thorne Christian)  female  34.00      1      1               28220   32.5000              NaN        S\\n417          418         1       2                                                       Silven, Miss. Lyyli Karoliina  female  18.00      0      2              250652   13.0000              NaN        S\\n418          419         0       2                                                          Matthews, Mr. William John    male  30.00      0      0               28228   13.0000              NaN        S\\n419          420         0       3                                                           Van Impe, Miss. Catharina  female  10.00      0      2              345773   24.1500              NaN        S\\n420          421         0       3                                                              Gheorgheff, Mr. Stanio    male    NaN      0      0              349254    7.8958              NaN        C\\n421          422         0       3                                                                 Charters, Mr. David    male  21.00      0      0          A/5. 13032    7.7333              NaN        Q\\n422          423         0       3                                                                  Zimmerman, Mr. Leo    male  29.00      0      0              315082    7.8750              NaN        S\\n423          424         0       3                              Danbom, Mrs. Ernst Gilbert (Anna Sigrid Maria Brogren)  female  28.00      1      1              347080   14.4000              NaN        S\\n424          425         0       3                                                         Rosblom, Mr. Viktor Richard    male  18.00      1      1              370129   20.2125              NaN        S\\n425          426         0       3                                                              Wiseman, Mr. Phillippe    male    NaN      0      0          A/4. 34244    7.2500              NaN        S\\n426          427         1       2                                         Clarke, Mrs. Charles V (Ada Maria Winfield)  female  28.00      1      0                2003   26.0000              NaN        S\\n427          428         1       2                 Phillips, Miss. Kate Florence (\"Mrs Kate Louise Phillips Marshall\")  female  19.00      0      0              250655   26.0000              NaN        S\\n428          429         0       3                                                                    Flynn, Mr. James    male    NaN      0      0              364851    7.7500              NaN        Q\\n429          430         1       3                                                  Pickard, Mr. Berk (Berk Trembisky)    male  32.00      0      0   SOTON/O.Q. 392078    8.0500              E10        S\\n430          431         1       1                                           Bjornstrom-Steffansson, Mr. Mauritz Hakan    male  28.00      0      0              110564   26.5500              C52        S\\n431          432         1       3                                   Thorneycroft, Mrs. Percival (Florence Kate White)  female    NaN      1      0              376564   16.1000              NaN        S\\n432          433         1       2                                 Louch, Mrs. Charles Alexander (Alice Adelaide Slow)  female  42.00      1      0          SC/AH 3085   26.0000              NaN        S\\n433          434         0       3                                                          Kallio, Mr. Nikolai Erland    male  17.00      0      0   STON/O 2. 3101274    7.1250              NaN        S\\n434          435         0       1                                                           Silvey, Mr. William Baird    male  50.00      1      0               13507   55.9000              E44        S\\n435          436         1       1                                                           Carter, Miss. Lucile Polk  female  14.00      1      2              113760  120.0000          B96 B98        S\\n436          437         0       3                                                Ford, Miss. Doolina Margaret \"Daisy\"  female  21.00      2      2          W./C. 6608   34.3750              NaN        S\\n437          438         1       2                                               Richards, Mrs. Sidney (Emily Hocking)  female  24.00      2      3               29106   18.7500              NaN        S\\n438          439         0       1                                                                   Fortune, Mr. Mark    male  64.00      1      4               19950  263.0000      C23 C25 C27        S\\n439          440         0       2                                              Kvillner, Mr. Johan Henrik Johannesson    male  31.00      0      0          C.A. 18723   10.5000              NaN        S\\n440          441         1       2                                         Hart, Mrs. Benjamin (Esther Ada Bloomfield)  female  45.00      1      1        F.C.C. 13529   26.2500              NaN        S\\n441          442         0       3                                                                     Hampe, Mr. Leon    male  20.00      0      0              345769    9.5000              NaN        S\\n442          443         0       3                                                           Petterson, Mr. Johan Emil    male  25.00      1      0              347076    7.7750              NaN        S\\n443          444         1       2                                                           Reynaldo, Ms. Encarnacion  female  28.00      0      0              230434   13.0000              NaN        S\\n444          445         1       3                                                   Johannesen-Bratthammer, Mr. Bernt    male    NaN      0      0               65306    8.1125              NaN        S\\n445          446         1       1                                                           Dodge, Master. Washington    male   4.00      0      2               33638   81.8583              A34        S\\n446          447         1       2                                                   Mellinger, Miss. Madeleine Violet  female  13.00      0      1              250644   19.5000              NaN        S\\n447          448         1       1                                                         Seward, Mr. Frederic Kimber    male  34.00      0      0              113794   26.5500              NaN        S\\n448          449         1       3                                                      Baclini, Miss. Marie Catherine  female   5.00      2      1                2666   19.2583              NaN        C\\n449          450         1       1                                                      Peuchen, Major. Arthur Godfrey    male  52.00      0      0              113786   30.5000             C104        S\\n450          451         0       2                                                               West, Mr. Edwy Arthur    male  36.00      1      2          C.A. 34651   27.7500              NaN        S\\n451          452         0       3                                                     Hagland, Mr. Ingvald Olai Olsen    male    NaN      1      0               65303   19.9667              NaN        S\\n452          453         0       1                                                     Foreman, Mr. Benjamin Laventall    male  30.00      0      0              113051   27.7500             C111        C\\n453          454         1       1                                                            Goldenberg, Mr. Samuel L    male  49.00      1      0               17453   89.1042              C92        C\\n454          455         0       3                                                                 Peduzzi, Mr. Joseph    male    NaN      0      0            A/5 2817    8.0500              NaN        S\\n455          456         1       3                                                                  Jalsevac, Mr. Ivan    male  29.00      0      0              349240    7.8958              NaN        C\\n456          457         0       1                                                           Millet, Mr. Francis Davis    male  65.00      0      0               13509   26.5500              E38        S\\n457          458         1       1                                                   Kenyon, Mrs. Frederick R (Marion)  female    NaN      1      0               17464   51.8625              D21        S\\n458          459         1       2                                                                 Toomey, Miss. Ellen  female  50.00      0      0        F.C.C. 13531   10.5000              NaN        S\\n459          460         0       3                                                               O\\'Connor, Mr. Maurice    male    NaN      0      0              371060    7.7500              NaN        Q\\n460          461         1       1                                                                 Anderson, Mr. Harry    male  48.00      0      0               19952   26.5500              E12        S\\n461          462         0       3                                                                 Morley, Mr. William    male  34.00      0      0              364506    8.0500              NaN        S\\n462          463         0       1                                                                   Gee, Mr. Arthur H    male  47.00      0      0              111320   38.5000              E63        S\\n463          464         0       2                                                        Milling, Mr. Jacob Christian    male  48.00      0      0              234360   13.0000              NaN        S\\n464          465         0       3                                                                  Maisner, Mr. Simon    male    NaN      0      0            A/S 2816    8.0500              NaN        S\\n465          466         0       3                                                     Goncalves, Mr. Manuel Estanslas    male  38.00      0      0  SOTON/O.Q. 3101306    7.0500              NaN        S\\n466          467         0       2                                                               Campbell, Mr. William    male    NaN      0      0              239853    0.0000              NaN        S\\n467          468         0       1                                                          Smart, Mr. John Montgomery    male  56.00      0      0              113792   26.5500              NaN        S\\n468          469         0       3                                                                  Scanlan, Mr. James    male    NaN      0      0               36209    7.7250              NaN        Q\\n469          470         1       3                                                       Baclini, Miss. Helene Barbara  female   0.75      2      1                2666   19.2583              NaN        C\\n470          471         0       3                                                                   Keefe, Mr. Arthur    male    NaN      0      0              323592    7.2500              NaN        S\\n471          472         0       3                                                                     Cacic, Mr. Luka    male  38.00      0      0              315089    8.6625              NaN        S\\n472          473         1       2                                             West, Mrs. Edwy Arthur (Ada Mary Worth)  female  33.00      1      2          C.A. 34651   27.7500              NaN        S\\n473          474         1       2                                        Jerwan, Mrs. Amin S (Marie Marthe Thuillard)  female  23.00      0      0     SC/AH Basle 541   13.7917                D        C\\n474          475         0       3                                                         Strandberg, Miss. Ida Sofia  female  22.00      0      0                7553    9.8375              NaN        S\\n475          476         0       1                                                         Clifford, Mr. George Quincy    male    NaN      0      0              110465   52.0000              A14        S\\n476          477         0       2                                                             Renouf, Mr. Peter Henry    male  34.00      1      0               31027   21.0000              NaN        S\\n477          478         0       3                                                           Braund, Mr. Lewis Richard    male  29.00      1      0                3460    7.0458              NaN        S\\n478          479         0       3                                                           Karlsson, Mr. Nils August    male  22.00      0      0              350060    7.5208              NaN        S\\n479          480         1       3                                                            Hirvonen, Miss. Hildur E  female   2.00      0      1             3101298   12.2875              NaN        S\\n480          481         0       3                                                      Goodwin, Master. Harold Victor    male   9.00      5      2             CA 2144   46.9000              NaN        S\\n481          482         0       2                                                    Frost, Mr. Anthony Wood \"Archie\"    male    NaN      0      0              239854    0.0000              NaN        S\\n482          483         0       3                                                            Rouse, Mr. Richard Henry    male  50.00      0      0            A/5 3594    8.0500              NaN        S\\n483          484         1       3                                                              Turkula, Mrs. (Hedwig)  female  63.00      0      0                4134    9.5875              NaN        S\\n484          485         1       1                                                             Bishop, Mr. Dickinson H    male  25.00      1      0               11967   91.0792              B49        C\\n485          486         0       3                                                              Lefebre, Miss. Jeannie  female    NaN      3      1                4133   25.4667              NaN        S\\n486          487         1       1                                     Hoyt, Mrs. Frederick Maxfield (Jane Anne Forby)  female  35.00      1      0               19943   90.0000              C93        S\\n487          488         0       1                                                             Kent, Mr. Edward Austin    male  58.00      0      0               11771   29.7000              B37        C\\n488          489         0       3                                                       Somerton, Mr. Francis William    male  30.00      0      0          A.5. 18509    8.0500              NaN        S\\n489          490         1       3                                               Coutts, Master. Eden Leslie \"Neville\"    male   9.00      1      1          C.A. 37671   15.9000              NaN        S\\n490          491         0       3                                                Hagland, Mr. Konrad Mathias Reiersen    male    NaN      1      0               65304   19.9667              NaN        S\\n491          492         0       3                                                                 Windelov, Mr. Einar    male  21.00      0      0    SOTON/OQ 3101317    7.2500              NaN        S\\n492          493         0       1                                                          Molson, Mr. Harry Markland    male  55.00      0      0              113787   30.5000              C30        S\\n493          494         0       1                                                             Artagaveytia, Mr. Ramon    male  71.00      0      0            PC 17609   49.5042              NaN        C\\n494          495         0       3                                                          Stanley, Mr. Edward Roland    male  21.00      0      0           A/4 45380    8.0500              NaN        S\\n495          496         0       3                                                               Yousseff, Mr. Gerious    male    NaN      0      0                2627   14.4583              NaN        C\\n496          497         1       1                                                      Eustis, Miss. Elizabeth Mussey  female  54.00      1      0               36947   78.2667              D20        C\\n497          498         0       3                                                     Shellard, Mr. Frederick William    male    NaN      0      0           C.A. 6212   15.1000              NaN        S\\n498          499         0       1                                     Allison, Mrs. Hudson J C (Bessie Waldo Daniels)  female  25.00      1      2              113781  151.5500          C22 C26        S\\n499          500         0       3                                                                  Svensson, Mr. Olof    male  24.00      0      0              350035    7.7958              NaN        S\\n500          501         0       3                                                                    Calic, Mr. Petar    male  17.00      0      0              315086    8.6625              NaN        S\\n501          502         0       3                                                                 Canavan, Miss. Mary  female  21.00      0      0              364846    7.7500              NaN        Q\\n502          503         0       3                                                      O\\'Sullivan, Miss. Bridget Mary  female    NaN      0      0              330909    7.6292              NaN        Q\\n503          504         0       3                                                      Laitinen, Miss. Kristina Sofia  female  37.00      0      0                4135    9.5875              NaN        S\\n504          505         1       1                                                               Maioni, Miss. Roberta  female  16.00      0      0              110152   86.5000              B79        S\\n505          506         0       1                                          Penasco y Castellana, Mr. Victor de Satode    male  18.00      1      0            PC 17758  108.9000              C65        C\\n506          507         1       2                                       Quick, Mrs. Frederick Charles (Jane Richards)  female  33.00      0      2               26360   26.0000              NaN        S\\n507          508         1       1                                       Bradley, Mr. George (\"George Arthur Brayton\")    male    NaN      0      0              111427   26.5500              NaN        S\\n508          509         0       3                                                            Olsen, Mr. Henry Margido    male  28.00      0      0              C 4001   22.5250              NaN        S\\n509          510         1       3                                                                      Lang, Mr. Fang    male  26.00      0      0                1601   56.4958              NaN        S\\n510          511         1       3                                                            Daly, Mr. Eugene Patrick    male  29.00      0      0              382651    7.7500              NaN        Q\\n511          512         0       3                                                                   Webber, Mr. James    male    NaN      0      0    SOTON/OQ 3101316    8.0500              NaN        S\\n512          513         1       1                                                           McGough, Mr. James Robert    male  36.00      0      0            PC 17473   26.2875              E25        S\\n513          514         1       1                                      Rothschild, Mrs. Martin (Elizabeth L. Barrett)  female  54.00      1      0            PC 17603   59.4000              NaN        C\\n514          515         0       3                                                                   Coleff, Mr. Satio    male  24.00      0      0              349209    7.4958              NaN        S\\n515          516         0       1                                                        Walker, Mr. William Anderson    male  47.00      0      0               36967   34.0208              D46        S\\n516          517         1       2                                                        Lemore, Mrs. (Amelia Milley)  female  34.00      0      0          C.A. 34260   10.5000              F33        S\\n517          518         0       3                                                                   Ryan, Mr. Patrick    male    NaN      0      0              371110   24.1500              NaN        Q\\n518          519         1       2                                Angle, Mrs. William A (Florence \"Mary\" Agnes Hughes)  female  36.00      1      0              226875   26.0000              NaN        S\\n519          520         0       3                                                                 Pavlovic, Mr. Stefo    male  32.00      0      0              349242    7.8958              NaN        S\\n520          521         1       1                                                               Perreault, Miss. Anne  female  30.00      0      0               12749   93.5000              B73        S\\n521          522         0       3                                                                     Vovk, Mr. Janko    male  22.00      0      0              349252    7.8958              NaN        S\\n522          523         0       3                                                                  Lahoud, Mr. Sarkis    male    NaN      0      0                2624    7.2250              NaN        C\\n523          524         1       1                                     Hippach, Mrs. Louis Albert (Ida Sophia Fischer)  female  44.00      0      1              111361   57.9792              B18        C\\n524          525         0       3                                                                   Kassem, Mr. Fared    male    NaN      0      0                2700    7.2292              NaN        C\\n525          526         0       3                                                                  Farrell, Mr. James    male  40.50      0      0              367232    7.7500              NaN        Q\\n526          527         1       2                                                                Ridsdale, Miss. Lucy  female  50.00      0      0         W./C. 14258   10.5000              NaN        S\\n527          528         0       1                                                                  Farthing, Mr. John    male    NaN      0      0            PC 17483  221.7792              C95        S\\n528          529         0       3                                                           Salonen, Mr. Johan Werner    male  39.00      0      0             3101296    7.9250              NaN        S\\n529          530         0       2                                                         Hocking, Mr. Richard George    male  23.00      2      1               29104   11.5000              NaN        S\\n530          531         1       2                                                            Quick, Miss. Phyllis May  female   2.00      1      1               26360   26.0000              NaN        S\\n531          532         0       3                                                                   Toufik, Mr. Nakli    male    NaN      0      0                2641    7.2292              NaN        C\\n532          533         0       3                                                                Elias, Mr. Joseph Jr    male  17.00      1      1                2690    7.2292              NaN        C\\n533          534         1       3                                              Peter, Mrs. Catherine (Catherine Rizk)  female    NaN      0      2                2668   22.3583              NaN        C\\n534          535         0       3                                                                 Cacic, Miss. Marija  female  30.00      0      0              315084    8.6625              NaN        S\\n535          536         1       2                                                              Hart, Miss. Eva Miriam  female   7.00      0      2        F.C.C. 13529   26.2500              NaN        S\\n536          537         0       1                                                   Butt, Major. Archibald Willingham    male  45.00      0      0              113050   26.5500              B38        S\\n537          538         1       1                                                                 LeRoy, Miss. Bertha  female  30.00      0      0            PC 17761  106.4250              NaN        C\\n538          539         0       3                                                            Risien, Mr. Samuel Beard    male    NaN      0      0              364498   14.5000              NaN        S\\n539          540         1       1                                                  Frolicher, Miss. Hedwig Margaritha  female  22.00      0      2               13568   49.5000              B39        C\\n540          541         1       1                                                             Crosby, Miss. Harriet R  female  36.00      0      2           WE/P 5735   71.0000              B22        S\\n541          542         0       3                                                Andersson, Miss. Ingeborg Constanzia  female   9.00      4      2              347082   31.2750              NaN        S\\n542          543         0       3                                                   Andersson, Miss. Sigrid Elisabeth  female  11.00      4      2              347082   31.2750              NaN        S\\n543          544         1       2                                                                   Beane, Mr. Edward    male  32.00      1      0                2908   26.0000              NaN        S\\n544          545         0       1                                                          Douglas, Mr. Walter Donald    male  50.00      1      0            PC 17761  106.4250              C86        C\\n545          546         0       1                                                        Nicholson, Mr. Arthur Ernest    male  64.00      0      0                 693   26.0000              NaN        S\\n546          547         1       2                                                   Beane, Mrs. Edward (Ethel Clarke)  female  19.00      1      0                2908   26.0000              NaN        S\\n547          548         1       2                                                          Padro y Manent, Mr. Julian    male    NaN      0      0       SC/PARIS 2146   13.8625              NaN        C\\n548          549         0       3                                                           Goldsmith, Mr. Frank John    male  33.00      1      1              363291   20.5250              NaN        S\\n549          550         1       2                                                      Davies, Master. John Morgan Jr    male   8.00      1      1          C.A. 33112   36.7500              NaN        S\\n550          551         1       1                                                         Thayer, Mr. John Borland Jr    male  17.00      0      2               17421  110.8833              C70        C\\n551          552         0       2                                                         Sharp, Mr. Percival James R    male  27.00      0      0              244358   26.0000              NaN        S\\n552          553         0       3                                                                O\\'Brien, Mr. Timothy    male    NaN      0      0              330979    7.8292              NaN        Q\\n553          554         1       3                                                   Leeni, Mr. Fahim (\"Philip Zenni\")    male  22.00      0      0                2620    7.2250              NaN        C\\n554          555         1       3                                                                  Ohman, Miss. Velin  female  22.00      0      0              347085    7.7750              NaN        S\\n555          556         0       1                                                                  Wright, Mr. George    male  62.00      0      0              113807   26.5500              NaN        S\\n556          557         1       1                   Duff Gordon, Lady. (Lucille Christiana Sutherland) (\"Mrs Morgan\")  female  48.00      1      0               11755   39.6000              A16        C\\n557          558         0       1                                                                 Robbins, Mr. Victor    male    NaN      0      0            PC 17757  227.5250              NaN        C\\n558          559         1       1                                              Taussig, Mrs. Emil (Tillie Mandelbaum)  female  39.00      1      1              110413   79.6500              E67        S\\n559          560         1       3                                        de Messemaeker, Mrs. Guillaume Joseph (Emma)  female  36.00      1      0              345572   17.4000              NaN        S\\n560          561         0       3                                                            Morrow, Mr. Thomas Rowan    male    NaN      0      0              372622    7.7500              NaN        Q\\n561          562         0       3                                                                   Sivic, Mr. Husein    male  40.00      0      0              349251    7.8958              NaN        S\\n562          563         0       2                                                          Norman, Mr. Robert Douglas    male  28.00      0      0              218629   13.5000              NaN        S\\n563          564         0       3                                                                   Simmons, Mr. John    male    NaN      0      0     SOTON/OQ 392082    8.0500              NaN        S\\n564          565         0       3                                                      Meanwell, Miss. (Marion Ogden)  female    NaN      0      0   SOTON/O.Q. 392087    8.0500              NaN        S\\n565          566         0       3                                                                Davies, Mr. Alfred J    male  24.00      2      0           A/4 48871   24.1500              NaN        S\\n566          567         0       3                                                                Stoytcheff, Mr. Ilia    male  19.00      0      0              349205    7.8958              NaN        S\\n567          568         0       3                                         Palsson, Mrs. Nils (Alma Cornelia Berglund)  female  29.00      0      4              349909   21.0750              NaN        S\\n568          569         0       3                                                                 Doharr, Mr. Tannous    male    NaN      0      0                2686    7.2292              NaN        C\\n569          570         1       3                                                                   Jonsson, Mr. Carl    male  32.00      0      0              350417    7.8542              NaN        S\\n570          571         1       2                                                                  Harris, Mr. George    male  62.00      0      0         S.W./PP 752   10.5000              NaN        S\\n571          572         1       1                                       Appleton, Mrs. Edward Dale (Charlotte Lamson)  female  53.00      2      0               11769   51.4792             C101        S\\n572          573         1       1                                                    Flynn, Mr. John Irwin (\"Irving\")    male  36.00      0      0            PC 17474   26.3875              E25        S\\n573          574         1       3                                                                   Kelly, Miss. Mary  female    NaN      0      0               14312    7.7500              NaN        Q\\n574          575         0       3                                                        Rush, Mr. Alfred George John    male  16.00      0      0          A/4. 20589    8.0500              NaN        S\\n575          576         0       3                                                                Patchett, Mr. George    male  19.00      0      0              358585   14.5000              NaN        S\\n576          577         1       2                                                                Garside, Miss. Ethel  female  34.00      0      0              243880   13.0000              NaN        S\\n577          578         1       1                                           Silvey, Mrs. William Baird (Alice Munger)  female  39.00      1      0               13507   55.9000              E44        S\\n578          579         0       3                                                    Caram, Mrs. Joseph (Maria Elias)  female    NaN      1      0                2689   14.4583              NaN        C\\n579          580         1       3                                                                 Jussila, Mr. Eiriik    male  32.00      0      0   STON/O 2. 3101286    7.9250              NaN        S\\n580          581         1       2                                                         Christy, Miss. Julie Rachel  female  25.00      1      1              237789   30.0000              NaN        S\\n581          582         1       1                                Thayer, Mrs. John Borland (Marian Longstreth Morris)  female  39.00      1      1               17421  110.8833              C68        C\\n582          583         0       2                                                          Downton, Mr. William James    male  54.00      0      0               28403   26.0000              NaN        S\\n583          584         0       1                                                                 Ross, Mr. John Hugo    male  36.00      0      0               13049   40.1250              A10        C\\n584          585         0       3                                                                 Paulner, Mr. Uscher    male    NaN      0      0                3411    8.7125              NaN        C\\n585          586         1       1                                                                 Taussig, Miss. Ruth  female  18.00      0      2              110413   79.6500              E68        S\\n586          587         0       2                                                             Jarvis, Mr. John Denzil    male  47.00      0      0              237565   15.0000              NaN        S\\n587          588         1       1                                                    Frolicher-Stehli, Mr. Maxmillian    male  60.00      1      1               13567   79.2000              B41        C\\n588          589         0       3                                                               Gilinski, Mr. Eliezer    male  22.00      0      0               14973    8.0500              NaN        S\\n589          590         0       3                                                                 Murdlin, Mr. Joseph    male    NaN      0      0          A./5. 3235    8.0500              NaN        S\\n590          591         0       3                                                                Rintamaki, Mr. Matti    male  35.00      0      0   STON/O 2. 3101273    7.1250              NaN        S\\n591          592         1       1                                     Stephenson, Mrs. Walter Bertram (Martha Eustis)  female  52.00      1      0               36947   78.2667              D20        C\\n592          593         0       3                                                          Elsbury, Mr. William James    male  47.00      0      0            A/5 3902    7.2500              NaN        S\\n593          594         0       3                                                                  Bourke, Miss. Mary  female    NaN      0      2              364848    7.7500              NaN        Q\\n594          595         0       2                                                             Chapman, Mr. John Henry    male  37.00      1      0         SC/AH 29037   26.0000              NaN        S\\n595          596         0       3                                                         Van Impe, Mr. Jean Baptiste    male  36.00      1      1              345773   24.1500              NaN        S\\n596          597         1       2                                                          Leitch, Miss. Jessie Wills  female    NaN      0      0              248727   33.0000              NaN        S\\n597          598         0       3                                                                 Johnson, Mr. Alfred    male  49.00      0      0                LINE    0.0000              NaN        S\\n598          599         0       3                                                                   Boulos, Mr. Hanna    male    NaN      0      0                2664    7.2250              NaN        C\\n599          600         1       1                                        Duff Gordon, Sir. Cosmo Edmund (\"Mr Morgan\")    male  49.00      1      0            PC 17485   56.9292              A20        C\\n600          601         1       2                                 Jacobsohn, Mrs. Sidney Samuel (Amy Frances Christy)  female  24.00      2      1              243847   27.0000              NaN        S\\n601          602         0       3                                                                Slabenoff, Mr. Petco    male    NaN      0      0              349214    7.8958              NaN        S\\n602          603         0       1                                                           Harrington, Mr. Charles H    male    NaN      0      0              113796   42.4000              NaN        S\\n603          604         0       3                                                           Torber, Mr. Ernst William    male  44.00      0      0              364511    8.0500              NaN        S\\n604          605         1       1                                                     Homer, Mr. Harry (\"Mr E Haven\")    male  35.00      0      0              111426   26.5500              NaN        C\\n605          606         0       3                                                       Lindell, Mr. Edvard Bengtsson    male  36.00      1      0              349910   15.5500              NaN        S\\n606          607         0       3                                                                   Karaic, Mr. Milan    male  30.00      0      0              349246    7.8958              NaN        S\\n607          608         1       1                                                         Daniel, Mr. Robert Williams    male  27.00      0      0              113804   30.5000              NaN        S\\n608          609         1       2                               Laroche, Mrs. Joseph (Juliette Marie Louise Lafargue)  female  22.00      1      2       SC/Paris 2123   41.5792              NaN        C\\n609          610         1       1                                                           Shutes, Miss. Elizabeth W  female  40.00      0      0            PC 17582  153.4625             C125        S\\n610          611         0       3                           Andersson, Mrs. Anders Johan (Alfrida Konstantia Brogren)  female  39.00      1      5              347082   31.2750              NaN        S\\n611          612         0       3                                                               Jardin, Mr. Jose Neto    male    NaN      0      0  SOTON/O.Q. 3101305    7.0500              NaN        S\\n612          613         1       3                                                         Murphy, Miss. Margaret Jane  female    NaN      1      0              367230   15.5000              NaN        Q\\n613          614         0       3                                                                    Horgan, Mr. John    male    NaN      0      0              370377    7.7500              NaN        Q\\n614          615         0       3                                                     Brocklebank, Mr. William Alfred    male  35.00      0      0              364512    8.0500              NaN        S\\n615          616         1       2                                                                 Herman, Miss. Alice  female  24.00      1      2              220845   65.0000              NaN        S\\n616          617         0       3                                                           Danbom, Mr. Ernst Gilbert    male  34.00      1      1              347080   14.4000              NaN        S\\n617          618         0       3                                     Lobb, Mrs. William Arthur (Cordelia K Stanlick)  female  26.00      1      0           A/5. 3336   16.1000              NaN        S\\n618          619         1       2                                                         Becker, Miss. Marion Louise  female   4.00      2      1              230136   39.0000               F4        S\\n619          620         0       2                                                                 Gavey, Mr. Lawrence    male  26.00      0      0               31028   10.5000              NaN        S\\n620          621         0       3                                                                 Yasbeck, Mr. Antoni    male  27.00      1      0                2659   14.4542              NaN        C\\n621          622         1       1                                                        Kimball, Mr. Edwin Nelson Jr    male  42.00      1      0               11753   52.5542              D19        S\\n622          623         1       3                                                                    Nakid, Mr. Sahid    male  20.00      1      1                2653   15.7417              NaN        C\\n623          624         0       3                                                         Hansen, Mr. Henry Damsgaard    male  21.00      0      0              350029    7.8542              NaN        S\\n624          625         0       3                                                         Bowen, Mr. David John \"Dai\"    male  21.00      0      0               54636   16.1000              NaN        S\\n625          626         0       1                                                               Sutton, Mr. Frederick    male  61.00      0      0               36963   32.3208              D50        S\\n626          627         0       2                                                      Kirkland, Rev. Charles Leonard    male  57.00      0      0              219533   12.3500              NaN        Q\\n627          628         1       1                                                       Longley, Miss. Gretchen Fiske  female  21.00      0      0               13502   77.9583               D9        S\\n628          629         0       3                                                           Bostandyeff, Mr. Guentcho    male  26.00      0      0              349224    7.8958              NaN        S\\n629          630         0       3                                                            O\\'Connell, Mr. Patrick D    male    NaN      0      0              334912    7.7333              NaN        Q\\n630          631         1       1                                                Barkworth, Mr. Algernon Henry Wilson    male  80.00      0      0               27042   30.0000              A23        S\\n631          632         0       3                                                         Lundahl, Mr. Johan Svensson    male  51.00      0      0              347743    7.0542              NaN        S\\n632          633         1       1                                                           Stahelin-Maeglin, Dr. Max    male  32.00      0      0               13214   30.5000              B50        C\\n633          634         0       1                                                       Parr, Mr. William Henry Marsh    male    NaN      0      0              112052    0.0000              NaN        S\\n634          635         0       3                                                                  Skoog, Miss. Mabel  female   9.00      3      2              347088   27.9000              NaN        S\\n635          636         1       2                                                                   Davis, Miss. Mary  female  28.00      0      0              237668   13.0000              NaN        S\\n636          637         0       3                                                          Leinonen, Mr. Antti Gustaf    male  32.00      0      0   STON/O 2. 3101292    7.9250              NaN        S\\n637          638         0       2                                                                 Collyer, Mr. Harvey    male  31.00      1      1          C.A. 31921   26.2500              NaN        S\\n638          639         0       3                                              Panula, Mrs. Juha (Maria Emilia Ojala)  female  41.00      0      5             3101295   39.6875              NaN        S\\n639          640         0       3                                                          Thorneycroft, Mr. Percival    male    NaN      1      0              376564   16.1000              NaN        S\\n640          641         0       3                                                              Jensen, Mr. Hans Peder    male  20.00      0      0              350050    7.8542              NaN        S\\n641          642         1       1                                                                Sagesser, Mlle. Emma  female  24.00      0      0            PC 17477   69.3000              B35        C\\n642          643         0       3                                                       Skoog, Miss. Margit Elizabeth  female   2.00      3      2              347088   27.9000              NaN        S\\n643          644         1       3                                                                     Foo, Mr. Choong    male    NaN      0      0                1601   56.4958              NaN        S\\n644          645         1       3                                                              Baclini, Miss. Eugenie  female   0.75      2      1                2666   19.2583              NaN        C\\n645          646         1       1                                                           Harper, Mr. Henry Sleeper    male  48.00      1      0            PC 17572   76.7292              D33        C\\n646          647         0       3                                                                   Cor, Mr. Liudevit    male  19.00      0      0              349231    7.8958              NaN        S\\n647          648         1       1                                                 Simonius-Blumer, Col. Oberst Alfons    male  56.00      0      0               13213   35.5000              A26        C\\n648          649         0       3                                                                  Willey, Mr. Edward    male    NaN      0      0       S.O./P.P. 751    7.5500              NaN        S\\n649          650         1       3                                                     Stanley, Miss. Amy Zillah Elsie  female  23.00      0      0            CA. 2314    7.5500              NaN        S\\n650          651         0       3                                                                   Mitkoff, Mr. Mito    male    NaN      0      0              349221    7.8958              NaN        S\\n651          652         1       2                                                                 Doling, Miss. Elsie  female  18.00      0      1              231919   23.0000              NaN        S\\n652          653         0       3                                                      Kalvik, Mr. Johannes Halvorsen    male  21.00      0      0                8475    8.4333              NaN        S\\n653          654         1       3                                                       O\\'Leary, Miss. Hanora \"Norah\"  female    NaN      0      0              330919    7.8292              NaN        Q\\n654          655         0       3                                                        Hegarty, Miss. Hanora \"Nora\"  female  18.00      0      0              365226    6.7500              NaN        Q\\n655          656         0       2                                                           Hickman, Mr. Leonard Mark    male  24.00      2      0        S.O.C. 14879   73.5000              NaN        S\\n656          657         0       3                                                               Radeff, Mr. Alexander    male    NaN      0      0              349223    7.8958              NaN        S\\n657          658         0       3                                                       Bourke, Mrs. John (Catherine)  female  32.00      1      1              364849   15.5000              NaN        Q\\n658          659         0       2                                                        Eitemiller, Mr. George Floyd    male  23.00      0      0               29751   13.0000              NaN        S\\n659          660         0       1                                                          Newell, Mr. Arthur Webster    male  58.00      0      2               35273  113.2750              D48        C\\n660          661         1       1                                                       Frauenthal, Dr. Henry William    male  50.00      2      0            PC 17611  133.6500              NaN        S\\n661          662         0       3                                                                   Badt, Mr. Mohamed    male  40.00      0      0                2623    7.2250              NaN        C\\n662          663         0       1                                                          Colley, Mr. Edward Pomeroy    male  47.00      0      0                5727   25.5875              E58        S\\n663          664         0       3                                                                    Coleff, Mr. Peju    male  36.00      0      0              349210    7.4958              NaN        S\\n664          665         1       3                                                         Lindqvist, Mr. Eino William    male  20.00      1      0   STON/O 2. 3101285    7.9250              NaN        S\\n665          666         0       2                                                                  Hickman, Mr. Lewis    male  32.00      2      0        S.O.C. 14879   73.5000              NaN        S\\n666          667         0       2                                                         Butler, Mr. Reginald Fenton    male  25.00      0      0              234686   13.0000              NaN        S\\n667          668         0       3                                                          Rommetvedt, Mr. Knud Paust    male    NaN      0      0              312993    7.7750              NaN        S\\n668          669         0       3                                                                     Cook, Mr. Jacob    male  43.00      0      0            A/5 3536    8.0500              NaN        S\\n669          670         1       1                                   Taylor, Mrs. Elmer Zebley (Juliet Cummins Wright)  female    NaN      1      0               19996   52.0000             C126        S\\n670          671         1       2                       Brown, Mrs. Thomas William Solomon (Elizabeth Catherine Ford)  female  40.00      1      1               29750   39.0000              NaN        S\\n671          672         0       1                                                              Davidson, Mr. Thornton    male  31.00      1      0          F.C. 12750   52.0000              B71        S\\n672          673         0       2                                                         Mitchell, Mr. Henry Michael    male  70.00      0      0          C.A. 24580   10.5000              NaN        S\\n673          674         1       2                                                               Wilhelms, Mr. Charles    male  31.00      0      0              244270   13.0000              NaN        S\\n674          675         0       2                                                          Watson, Mr. Ennis Hastings    male    NaN      0      0              239856    0.0000              NaN        S\\n675          676         0       3                                                      Edvardsson, Mr. Gustaf Hjalmar    male  18.00      0      0              349912    7.7750              NaN        S\\n676          677         0       3                                                       Sawyer, Mr. Frederick Charles    male  24.50      0      0              342826    8.0500              NaN        S\\n677          678         1       3                                                             Turja, Miss. Anna Sofia  female  18.00      0      0                4138    9.8417              NaN        S\\n678          679         0       3                                             Goodwin, Mrs. Frederick (Augusta Tyler)  female  43.00      1      6             CA 2144   46.9000              NaN        S\\n679          680         1       1                                                  Cardeza, Mr. Thomas Drake Martinez    male  36.00      0      1            PC 17755  512.3292      B51 B53 B55        C\\n680          681         0       3                                                                 Peters, Miss. Katie  female    NaN      0      0              330935    8.1375              NaN        Q\\n681          682         1       1                                                                  Hassab, Mr. Hammad    male  27.00      0      0            PC 17572   76.7292              D49        C\\n682          683         0       3                                                         Olsvigen, Mr. Thor Anderson    male  20.00      0      0                6563    9.2250              NaN        S\\n683          684         0       3                                                         Goodwin, Mr. Charles Edward    male  14.00      5      2             CA 2144   46.9000              NaN        S\\n684          685         0       2                                                   Brown, Mr. Thomas William Solomon    male  60.00      1      1               29750   39.0000              NaN        S\\n685          686         0       2                                              Laroche, Mr. Joseph Philippe Lemercier    male  25.00      1      2       SC/Paris 2123   41.5792              NaN        C\\n686          687         0       3                                                            Panula, Mr. Jaako Arnold    male  14.00      4      1             3101295   39.6875              NaN        S\\n687          688         0       3                                                                   Dakic, Mr. Branko    male  19.00      0      0              349228   10.1708              NaN        S\\n688          689         0       3                                                     Fischer, Mr. Eberhard Thelander    male  18.00      0      0              350036    7.7958              NaN        S\\n689          690         1       1                                                   Madill, Miss. Georgette Alexandra  female  15.00      0      1               24160  211.3375               B5        S\\n690          691         1       1                                                             Dick, Mr. Albert Adrian    male  31.00      1      0               17474   57.0000              B20        S\\n691          692         1       3                                                                  Karun, Miss. Manca  female   4.00      0      1              349256   13.4167              NaN        C\\n692          693         1       3                                                                        Lam, Mr. Ali    male    NaN      0      0                1601   56.4958              NaN        S\\n693          694         0       3                                                                    Saad, Mr. Khalil    male  25.00      0      0                2672    7.2250              NaN        C\\n694          695         0       1                                                                     Weir, Col. John    male  60.00      0      0              113800   26.5500              NaN        S\\n695          696         0       2                                                          Chapman, Mr. Charles Henry    male  52.00      0      0              248731   13.5000              NaN        S\\n696          697         0       3                                                                    Kelly, Mr. James    male  44.00      0      0              363592    8.0500              NaN        S\\n697          698         1       3                                                    Mullens, Miss. Katherine \"Katie\"  female    NaN      0      0               35852    7.7333              NaN        Q\\n698          699         0       1                                                            Thayer, Mr. John Borland    male  49.00      1      1               17421  110.8833              C68        C\\n699          700         0       3                                            Humblen, Mr. Adolf Mathias Nicolai Olsen    male  42.00      0      0              348121    7.6500            F G63        S\\n700          701         1       1                                   Astor, Mrs. John Jacob (Madeleine Talmadge Force)  female  18.00      1      0            PC 17757  227.5250          C62 C64        C\\n701          702         1       1                                                    Silverthorne, Mr. Spencer Victor    male  35.00      0      0            PC 17475   26.2875              E24        S\\n702          703         0       3                                                               Barbara, Miss. Saiide  female  18.00      0      1                2691   14.4542              NaN        C\\n703          704         0       3                                                               Gallagher, Mr. Martin    male  25.00      0      0               36864    7.7417              NaN        Q\\n704          705         0       3                                                             Hansen, Mr. Henrik Juul    male  26.00      1      0              350025    7.8542              NaN        S\\n705          706         0       2                                      Morley, Mr. Henry Samuel (\"Mr Henry Marshall\")    male  39.00      0      0              250655   26.0000              NaN        S\\n706          707         1       2                                                       Kelly, Mrs. Florence \"Fannie\"  female  45.00      0      0              223596   13.5000              NaN        S\\n707          708         1       1                                                   Calderhead, Mr. Edward Pennington    male  42.00      0      0            PC 17476   26.2875              E24        S\\n708          709         1       1                                                                Cleaver, Miss. Alice  female  22.00      0      0              113781  151.5500              NaN        S\\n709          710         1       3                                   Moubarek, Master. Halim Gonios (\"William George\")    male    NaN      1      1                2661   15.2458              NaN        C\\n710          711         1       1                                    Mayne, Mlle. Berthe Antonine (\"Mrs de Villiers\")  female  24.00      0      0            PC 17482   49.5042              C90        C\\n711          712         0       1                                                                  Klaber, Mr. Herman    male    NaN      0      0              113028   26.5500             C124        S\\n712          713         1       1                                                            Taylor, Mr. Elmer Zebley    male  48.00      1      0               19996   52.0000             C126        S\\n713          714         0       3                                                          Larsson, Mr. August Viktor    male  29.00      0      0                7545    9.4833              NaN        S\\n714          715         0       2                                                               Greenberg, Mr. Samuel    male  52.00      0      0              250647   13.0000              NaN        S\\n715          716         0       3                                          Soholt, Mr. Peter Andreas Lauritz Andersen    male  19.00      0      0              348124    7.6500            F G73        S\\n716          717         1       1                                                       Endres, Miss. Caroline Louise  female  38.00      0      0            PC 17757  227.5250              C45        C\\n717          718         1       2                                                 Troutt, Miss. Edwina Celia \"Winnie\"  female  27.00      0      0               34218   10.5000             E101        S\\n718          719         0       3                                                                 McEvoy, Mr. Michael    male    NaN      0      0               36568   15.5000              NaN        Q\\n719          720         0       3                                                        Johnson, Mr. Malkolm Joackim    male  33.00      0      0              347062    7.7750              NaN        S\\n720          721         1       2                                                   Harper, Miss. Annie Jessie \"Nina\"  female   6.00      0      1              248727   33.0000              NaN        S\\n721          722         0       3                                                           Jensen, Mr. Svend Lauritz    male  17.00      1      0              350048    7.0542              NaN        S\\n722          723         0       2                                                        Gillespie, Mr. William Henry    male  34.00      0      0               12233   13.0000              NaN        S\\n723          724         0       2                                                             Hodges, Mr. Henry Price    male  50.00      0      0              250643   13.0000              NaN        S\\n724          725         1       1                                                       Chambers, Mr. Norman Campbell    male  27.00      1      0              113806   53.1000               E8        S\\n725          726         0       3                                                                 Oreskovic, Mr. Luka    male  20.00      0      0              315094    8.6625              NaN        S\\n726          727         1       2                                         Renouf, Mrs. Peter Henry (Lillian Jefferys)  female  30.00      3      0               31027   21.0000              NaN        S\\n727          728         1       3                                                            Mannion, Miss. Margareth  female    NaN      0      0               36866    7.7375              NaN        Q\\n728          729         0       2                                                     Bryhl, Mr. Kurt Arnold Gottfrid    male  25.00      1      0              236853   26.0000              NaN        S\\n729          730         0       3                                                       Ilmakangas, Miss. Pieta Sofia  female  25.00      1      0    STON/O2. 3101271    7.9250              NaN        S\\n730          731         1       1                                                       Allen, Miss. Elisabeth Walton  female  29.00      0      0               24160  211.3375               B5        S\\n731          732         0       3                                                            Hassan, Mr. Houssein G N    male  11.00      0      0                2699   18.7875              NaN        C\\n732          733         0       2                                                                Knight, Mr. Robert J    male    NaN      0      0              239855    0.0000              NaN        S\\n733          734         0       2                                                          Berriman, Mr. William John    male  23.00      0      0               28425   13.0000              NaN        S\\n734          735         0       2                                                        Troupiansky, Mr. Moses Aaron    male  23.00      0      0              233639   13.0000              NaN        S\\n735          736         0       3                                                                Williams, Mr. Leslie    male  28.50      0      0               54636   16.1000              NaN        S\\n736          737         0       3                                             Ford, Mrs. Edward (Margaret Ann Watson)  female  48.00      1      3          W./C. 6608   34.3750              NaN        S\\n737          738         1       1                                                              Lesurer, Mr. Gustave J    male  35.00      0      0            PC 17755  512.3292             B101        C\\n738          739         0       3                                                                  Ivanoff, Mr. Kanio    male    NaN      0      0              349201    7.8958              NaN        S\\n739          740         0       3                                                                  Nankoff, Mr. Minko    male    NaN      0      0              349218    7.8958              NaN        S\\n740          741         1       1                                                         Hawksford, Mr. Walter James    male    NaN      0      0               16988   30.0000              D45        S\\n741          742         0       1                                                       Cavendish, Mr. Tyrell William    male  36.00      1      0               19877   78.8500              C46        S\\n742          743         1       1                                               Ryerson, Miss. Susan Parker \"Suzette\"  female  21.00      2      2            PC 17608  262.3750  B57 B59 B63 B66        C\\n743          744         0       3                                                                   McNamee, Mr. Neal    male  24.00      1      0              376566   16.1000              NaN        S\\n744          745         1       3                                                                  Stranden, Mr. Juho    male  31.00      0      0   STON/O 2. 3101288    7.9250              NaN        S\\n745          746         0       1                                                        Crosby, Capt. Edward Gifford    male  70.00      1      1           WE/P 5735   71.0000              B22        S\\n746          747         0       3                                                         Abbott, Mr. Rossmore Edward    male  16.00      1      1           C.A. 2673   20.2500              NaN        S\\n747          748         1       2                                                               Sinkkonen, Miss. Anna  female  30.00      0      0              250648   13.0000              NaN        S\\n748          749         0       1                                                           Marvin, Mr. Daniel Warner    male  19.00      1      0              113773   53.1000              D30        S\\n749          750         0       3                                                             Connaghton, Mr. Michael    male  31.00      0      0              335097    7.7500              NaN        Q\\n750          751         1       2                                                                   Wells, Miss. Joan  female   4.00      1      1               29103   23.0000              NaN        S\\n751          752         1       3                                                                 Moor, Master. Meier    male   6.00      0      1              392096   12.4750             E121        S\\n752          753         0       3                                                    Vande Velde, Mr. Johannes Joseph    male  33.00      0      0              345780    9.5000              NaN        S\\n753          754         0       3                                                                  Jonkoff, Mr. Lalio    male  23.00      0      0              349204    7.8958              NaN        S\\n754          755         1       2                                                    Herman, Mrs. Samuel (Jane Laver)  female  48.00      1      2              220845   65.0000              NaN        S\\n755          756         1       2                                                           Hamalainen, Master. Viljo    male   0.67      1      1              250649   14.5000              NaN        S\\n756          757         0       3                                                        Carlsson, Mr. August Sigfrid    male  28.00      0      0              350042    7.7958              NaN        S\\n757          758         0       2                                                            Bailey, Mr. Percy Andrew    male  18.00      0      0               29108   11.5000              NaN        S\\n758          759         0       3                                                        Theobald, Mr. Thomas Leonard    male  34.00      0      0              363294    8.0500              NaN        S\\n759          760         1       1                            Rothes, the Countess. of (Lucy Noel Martha Dyer-Edwards)  female  33.00      0      0              110152   86.5000              B77        S\\n760          761         0       3                                                                  Garfirth, Mr. John    male    NaN      0      0              358585   14.5000              NaN        S\\n761          762         0       3                                                      Nirva, Mr. Iisakki Antino Aijo    male  41.00      0      0    SOTON/O2 3101272    7.1250              NaN        S\\n762          763         1       3                                                               Barah, Mr. Hanna Assi    male  20.00      0      0                2663    7.2292              NaN        C\\n763          764         1       1                                           Carter, Mrs. William Ernest (Lucile Polk)  female  36.00      1      2              113760  120.0000          B96 B98        S\\n764          765         0       3                                                              Eklund, Mr. Hans Linus    male  16.00      0      0              347074    7.7750              NaN        S\\n765          766         1       1                                                Hogeboom, Mrs. John C (Anna Andrews)  female  51.00      1      0               13502   77.9583              D11        S\\n766          767         0       1                                                           Brewe, Dr. Arthur Jackson    male    NaN      0      0              112379   39.6000              NaN        C\\n767          768         0       3                                                                  Mangan, Miss. Mary  female  30.50      0      0              364850    7.7500              NaN        Q\\n768          769         0       3                                                                 Moran, Mr. Daniel J    male    NaN      1      0              371110   24.1500              NaN        Q\\n769          770         0       3                                                    Gronnestad, Mr. Daniel Danielsen    male  32.00      0      0                8471    8.3625              NaN        S\\n770          771         0       3                                                              Lievens, Mr. Rene Aime    male  24.00      0      0              345781    9.5000              NaN        S\\n771          772         0       3                                                             Jensen, Mr. Niels Peder    male  48.00      0      0              350047    7.8542              NaN        S\\n772          773         0       2                                                                   Mack, Mrs. (Mary)  female  57.00      0      0         S.O./P.P. 3   10.5000              E77        S\\n773          774         0       3                                                                     Elias, Mr. Dibo    male    NaN      0      0                2674    7.2250              NaN        C\\n774          775         1       2                                               Hocking, Mrs. Elizabeth (Eliza Needs)  female  54.00      1      3               29105   23.0000              NaN        S\\n775          776         0       3                                             Myhrman, Mr. Pehr Fabian Oliver Malkolm    male  18.00      0      0              347078    7.7500              NaN        S\\n776          777         0       3                                                                    Tobin, Mr. Roger    male    NaN      0      0              383121    7.7500              F38        Q\\n777          778         1       3                                                       Emanuel, Miss. Virginia Ethel  female   5.00      0      0              364516   12.4750              NaN        S\\n778          779         0       3                                                             Kilgannon, Mr. Thomas J    male    NaN      0      0               36865    7.7375              NaN        Q\\n779          780         1       1                               Robert, Mrs. Edward Scott (Elisabeth Walton McMillan)  female  43.00      0      1               24160  211.3375               B3        S\\n780          781         1       3                                                                Ayoub, Miss. Banoura  female  13.00      0      0                2687    7.2292              NaN        C\\n781          782         1       1                                           Dick, Mrs. Albert Adrian (Vera Gillespie)  female  17.00      1      0               17474   57.0000              B20        S\\n782          783         0       1                                                              Long, Mr. Milton Clyde    male  29.00      0      0              113501   30.0000               D6        S\\n783          784         0       3                                                              Johnston, Mr. Andrew G    male    NaN      1      2          W./C. 6607   23.4500              NaN        S\\n784          785         0       3                                                                    Ali, Mr. William    male  25.00      0      0  SOTON/O.Q. 3101312    7.0500              NaN        S\\n785          786         0       3                                                  Harmer, Mr. Abraham (David Lishin)    male  25.00      0      0              374887    7.2500              NaN        S\\n786          787         1       3                                                           Sjoblom, Miss. Anna Sofia  female  18.00      0      0             3101265    7.4958              NaN        S\\n787          788         0       3                                                           Rice, Master. George Hugh    male   8.00      4      1              382652   29.1250              NaN        Q\\n788          789         1       3                                                          Dean, Master. Bertram Vere    male   1.00      1      2           C.A. 2315   20.5750              NaN        S\\n789          790         0       1                                                            Guggenheim, Mr. Benjamin    male  46.00      0      0            PC 17593   79.2000          B82 B84        C\\n790          791         0       3                                                            Keane, Mr. Andrew \"Andy\"    male    NaN      0      0               12460    7.7500              NaN        Q\\n791          792         0       2                                                                 Gaskell, Mr. Alfred    male  16.00      0      0              239865   26.0000              NaN        S\\n792          793         0       3                                                             Sage, Miss. Stella Anna  female    NaN      8      2            CA. 2343   69.5500              NaN        S\\n793          794         0       1                                                            Hoyt, Mr. William Fisher    male    NaN      0      0            PC 17600   30.6958              NaN        C\\n794          795         0       3                                                               Dantcheff, Mr. Ristiu    male  25.00      0      0              349203    7.8958              NaN        S\\n795          796         0       2                                                                  Otter, Mr. Richard    male  39.00      0      0               28213   13.0000              NaN        S\\n796          797         1       1                                                         Leader, Dr. Alice (Farnham)  female  49.00      0      0               17465   25.9292              D17        S\\n797          798         1       3                                                                    Osman, Mrs. Mara  female  31.00      0      0              349244    8.6833              NaN        S\\n798          799         0       3                                                        Ibrahim Shawah, Mr. Yousseff    male  30.00      0      0                2685    7.2292              NaN        C\\n799          800         0       3                                Van Impe, Mrs. Jean Baptiste (Rosalie Paula Govaert)  female  30.00      1      1              345773   24.1500              NaN        S\\n800          801         0       2                                                                Ponesell, Mr. Martin    male  34.00      0      0              250647   13.0000              NaN        S\\n801          802         1       2                                         Collyer, Mrs. Harvey (Charlotte Annie Tate)  female  31.00      1      1          C.A. 31921   26.2500              NaN        S\\n802          803         1       1                                                 Carter, Master. William Thornton II    male  11.00      1      2              113760  120.0000          B96 B98        S\\n803          804         1       3                                                     Thomas, Master. Assad Alexander    male   0.42      0      1                2625    8.5167              NaN        C\\n804          805         1       3                                                             Hedman, Mr. Oskar Arvid    male  27.00      0      0              347089    6.9750              NaN        S\\n805          806         0       3                                                           Johansson, Mr. Karl Johan    male  31.00      0      0              347063    7.7750              NaN        S\\n806          807         0       1                                                              Andrews, Mr. Thomas Jr    male  39.00      0      0              112050    0.0000              A36        S\\n807          808         0       3                                                     Pettersson, Miss. Ellen Natalia  female  18.00      0      0              347087    7.7750              NaN        S\\n808          809         0       2                                                                   Meyer, Mr. August    male  39.00      0      0              248723   13.0000              NaN        S\\n809          810         1       1                                      Chambers, Mrs. Norman Campbell (Bertha Griggs)  female  33.00      1      0              113806   53.1000               E8        S\\n810          811         0       3                                                              Alexander, Mr. William    male  26.00      0      0                3474    7.8875              NaN        S\\n811          812         0       3                                                                   Lester, Mr. James    male  39.00      0      0           A/4 48871   24.1500              NaN        S\\n812          813         0       2                                                           Slemen, Mr. Richard James    male  35.00      0      0               28206   10.5000              NaN        S\\n813          814         0       3                                                  Andersson, Miss. Ebba Iris Alfrida  female   6.00      4      2              347082   31.2750              NaN        S\\n814          815         0       3                                                          Tomlin, Mr. Ernest Portage    male  30.50      0      0              364499    8.0500              NaN        S\\n815          816         0       1                                                                    Fry, Mr. Richard    male    NaN      0      0              112058    0.0000             B102        S\\n816          817         0       3                                                        Heininen, Miss. Wendla Maria  female  23.00      0      0    STON/O2. 3101290    7.9250              NaN        S\\n817          818         0       2                                                                  Mallet, Mr. Albert    male  31.00      1      1     S.C./PARIS 2079   37.0042              NaN        C\\n818          819         0       3                                                    Holm, Mr. John Fredrik Alexander    male  43.00      0      0              C 7075    6.4500              NaN        S\\n819          820         0       3                                                        Skoog, Master. Karl Thorsten    male  10.00      3      2              347088   27.9000              NaN        S\\n820          821         1       1                                  Hays, Mrs. Charles Melville (Clara Jennings Gregg)  female  52.00      1      1               12749   93.5000              B69        S\\n821          822         1       3                                                                   Lulic, Mr. Nikola    male  27.00      0      0              315098    8.6625              NaN        S\\n822          823         0       1                                                     Reuchlin, Jonkheer. John George    male  38.00      0      0               19972    0.0000              NaN        S\\n823          824         1       3                                                                  Moor, Mrs. (Beila)  female  27.00      0      1              392096   12.4750             E121        S\\n824          825         0       3                                                        Panula, Master. Urho Abraham    male   2.00      4      1             3101295   39.6875              NaN        S\\n825          826         0       3                                                                     Flynn, Mr. John    male    NaN      0      0              368323    6.9500              NaN        Q\\n826          827         0       3                                                                        Lam, Mr. Len    male    NaN      0      0                1601   56.4958              NaN        S\\n827          828         1       2                                                               Mallet, Master. Andre    male   1.00      0      2     S.C./PARIS 2079   37.0042              NaN        C\\n828          829         1       3                                                        McCormack, Mr. Thomas Joseph    male    NaN      0      0              367228    7.7500              NaN        Q\\n829          830         1       1                                           Stone, Mrs. George Nelson (Martha Evelyn)  female  62.00      0      0              113572   80.0000              B28      NaN\\n830          831         1       3                                             Yasbeck, Mrs. Antoni (Selini Alexander)  female  15.00      1      0                2659   14.4542              NaN        C\\n831          832         1       2                                                     Richards, Master. George Sibley    male   0.83      1      1               29106   18.7500              NaN        S\\n832          833         0       3                                                                      Saad, Mr. Amin    male    NaN      0      0                2671    7.2292              NaN        C\\n833          834         0       3                                                              Augustsson, Mr. Albert    male  23.00      0      0              347468    7.8542              NaN        S\\n834          835         0       3                                                              Allum, Mr. Owen George    male  18.00      0      0                2223    8.3000              NaN        S\\n835          836         1       1                                                         Compton, Miss. Sara Rebecca  female  39.00      1      1            PC 17756   83.1583              E49        C\\n836          837         0       3                                                                    Pasic, Mr. Jakob    male  21.00      0      0              315097    8.6625              NaN        S\\n837          838         0       3                                                                 Sirota, Mr. Maurice    male    NaN      0      0              392092    8.0500              NaN        S\\n838          839         1       3                                                                     Chip, Mr. Chang    male  32.00      0      0                1601   56.4958              NaN        S\\n839          840         1       1                                                                Marechal, Mr. Pierre    male    NaN      0      0               11774   29.7000              C47        C\\n840          841         0       3                                                         Alhomaki, Mr. Ilmari Rudolf    male  20.00      0      0    SOTON/O2 3101287    7.9250              NaN        S\\n841          842         0       2                                                            Mudd, Mr. Thomas Charles    male  16.00      0      0         S.O./P.P. 3   10.5000              NaN        S\\n842          843         1       1                                                             Serepeca, Miss. Augusta  female  30.00      0      0              113798   31.0000              NaN        C\\n843          844         0       3                                                          Lemberopolous, Mr. Peter L    male  34.50      0      0                2683    6.4375              NaN        C\\n844          845         0       3                                                                 Culumovic, Mr. Jeso    male  17.00      0      0              315090    8.6625              NaN        S\\n845          846         0       3                                                                 Abbing, Mr. Anthony    male  42.00      0      0           C.A. 5547    7.5500              NaN        S\\n846          847         0       3                                                            Sage, Mr. Douglas Bullen    male    NaN      8      2            CA. 2343   69.5500              NaN        S\\n847          848         0       3                                                                  Markoff, Mr. Marin    male  35.00      0      0              349213    7.8958              NaN        C\\n848          849         0       2                                                                   Harper, Rev. John    male  28.00      0      1              248727   33.0000              NaN        S\\n849          850         1       1                                        Goldenberg, Mrs. Samuel L (Edwiga Grabowska)  female    NaN      1      0               17453   89.1042              C92        C\\n850          851         0       3                                             Andersson, Master. Sigvard Harald Elias    male   4.00      4      2              347082   31.2750              NaN        S\\n851          852         0       3                                                                 Svensson, Mr. Johan    male  74.00      0      0              347060    7.7750              NaN        S\\n852          853         0       3                                                             Boulos, Miss. Nourelain  female   9.00      1      1                2678   15.2458              NaN        C\\n853          854         1       1                                                           Lines, Miss. Mary Conover  female  16.00      0      1            PC 17592   39.4000              D28        S\\n854          855         0       2                                       Carter, Mrs. Ernest Courtenay (Lilian Hughes)  female  44.00      1      0              244252   26.0000              NaN        S\\n855          856         1       3                                                          Aks, Mrs. Sam (Leah Rosen)  female  18.00      0      1              392091    9.3500              NaN        S\\n856          857         1       1                                          Wick, Mrs. George Dennick (Mary Hitchcock)  female  45.00      1      1               36928  164.8667              NaN        S\\n857          858         1       1                                                              Daly, Mr. Peter Denis     male  51.00      0      0              113055   26.5500              E17        S\\n858          859         1       3                                               Baclini, Mrs. Solomon (Latifa Qurban)  female  24.00      0      3                2666   19.2583              NaN        C\\n859          860         0       3                                                                    Razi, Mr. Raihed    male    NaN      0      0                2629    7.2292              NaN        C\\n860          861         0       3                                                             Hansen, Mr. Claus Peter    male  41.00      2      0              350026   14.1083              NaN        S\\n861          862         0       2                                                         Giles, Mr. Frederick Edward    male  21.00      1      0               28134   11.5000              NaN        S\\n862          863         1       1                                 Swift, Mrs. Frederick Joel (Margaret Welles Barron)  female  48.00      0      0               17466   25.9292              D17        S\\n863          864         0       3                                                   Sage, Miss. Dorothy Edith \"Dolly\"  female    NaN      8      2            CA. 2343   69.5500              NaN        S\\n864          865         0       2                                                              Gill, Mr. John William    male  24.00      0      0              233866   13.0000              NaN        S\\n865          866         1       2                                                            Bystrom, Mrs. (Karolina)  female  42.00      0      0              236852   13.0000              NaN        S\\n866          867         1       2                                                        Duran y More, Miss. Asuncion  female  27.00      1      0       SC/PARIS 2149   13.8583              NaN        C\\n867          868         0       1                                                Roebling, Mr. Washington Augustus II    male  31.00      0      0            PC 17590   50.4958              A24        S\\n868          869         0       3                                                         van Melkebeke, Mr. Philemon    male    NaN      0      0              345777    9.5000              NaN        S\\n869          870         1       3                                                     Johnson, Master. Harold Theodor    male   4.00      1      1              347742   11.1333              NaN        S\\n870          871         0       3                                                                   Balkic, Mr. Cerin    male  26.00      0      0              349248    7.8958              NaN        S\\n871          872         1       1                                    Beckwith, Mrs. Richard Leonard (Sallie Monypeny)  female  47.00      1      1               11751   52.5542              D35        S\\n872          873         0       1                                                            Carlsson, Mr. Frans Olof    male  33.00      0      0                 695    5.0000      B51 B53 B55        S\\n873          874         0       3                                                         Vander Cruyssen, Mr. Victor    male  47.00      0      0              345765    9.0000              NaN        S\\n874          875         1       2                                               Abelson, Mrs. Samuel (Hannah Wizosky)  female  28.00      1      0           P/PP 3381   24.0000              NaN        C\\n875          876         1       3                                                    Najib, Miss. Adele Kiamie \"Jane\"  female  15.00      0      0                2667    7.2250              NaN        C\\n876          877         0       3                                                       Gustafsson, Mr. Alfred Ossian    male  20.00      0      0                7534    9.8458              NaN        S\\n877          878         0       3                                                                Petroff, Mr. Nedelio    male  19.00      0      0              349212    7.8958              NaN        S\\n878          879         0       3                                                                  Laleff, Mr. Kristo    male    NaN      0      0              349217    7.8958              NaN        S\\n879          880         1       1                                       Potter, Mrs. Thomas Jr (Lily Alexenia Wilson)  female  56.00      0      1               11767   83.1583              C50        C\\n880          881         1       2                                        Shelley, Mrs. William (Imanita Parrish Hall)  female  25.00      0      1              230433   26.0000              NaN        S\\n881          882         0       3                                                                  Markun, Mr. Johann    male  33.00      0      0              349257    7.8958              NaN        S\\n882          883         0       3                                                        Dahlberg, Miss. Gerda Ulrika  female  22.00      0      0                7552   10.5167              NaN        S\\n883          884         0       2                                                       Banfield, Mr. Frederick James    male  28.00      0      0    C.A./SOTON 34068   10.5000              NaN        S\\n884          885         0       3                                                              Sutehall, Mr. Henry Jr    male  25.00      0      0     SOTON/OQ 392076    7.0500              NaN        S\\n885          886         0       3                                                Rice, Mrs. William (Margaret Norton)  female  39.00      0      5              382652   29.1250              NaN        Q\\n886          887         0       2                                                               Montvila, Rev. Juozas    male  27.00      0      0              211536   13.0000              NaN        S\\n887          888         1       1                                                        Graham, Miss. Margaret Edith  female  19.00      0      0              112053   30.0000              B42        S\\n888          889         0       3                                            Johnston, Miss. Catherine Helen \"Carrie\"  female    NaN      1      2          W./C. 6607   23.4500              NaN        S\\n889          890         1       1                                                               Behr, Mr. Karl Howell    male  26.00      0      0              111369   30.0000             C148        C\\n890          891         0       3                                                                 Dooley, Mr. Patrick    male  32.00      0      0              370376    7.7500              NaN        Q'"
      ]
     },
     "metadata": {},
     "output_type": "display_data"
    }
   ],
   "source": [
    "# sns.set_style('whitegrid')\n",
    "# sns.countplot(x='Survived',hue='Sex',data=train,palette='RdBu_r',dodge=True)\n",
    "display(train.to_string())\n"
   ]
  },
  {
   "cell_type": "code",
   "execution_count": 237,
   "metadata": {},
   "outputs": [
    {
     "data": {
      "text/plain": [
       "<AxesSubplot:xlabel='Survived', ylabel='count'>"
      ]
     },
     "execution_count": 237,
     "metadata": {},
     "output_type": "execute_result"
    },
    {
     "data": {
      "image/png": "[encoded data removed]",
      "text/plain": [
       "<Figure size 640x480 with 1 Axes>"
      ]
     },
     "metadata": {},
     "output_type": "display_data"
    }
   ],
   "source": [
    "sns.set_style('whitegrid')\n",
    "sns.countplot(x='Survived',hue='Pclass',data=train,palette='rainbow')"
   ]
  },
  {
   "cell_type": "code",
   "execution_count": 238,
   "metadata": {},
   "outputs": [
    {
     "name": "stderr",
     "output_type": "stream",
     "text": [
      "C:\\ProgramData\\Anaconda3\\lib\\site-packages\\seaborn\\distributions.py:2619: FutureWarning:\n",
      "\n",
      "`distplot` is a deprecated function and will be removed in a future version. Please adapt your code to use either `displot` (a figure-level function with similar flexibility) or `histplot` (an axes-level function for histograms).\n",
      "\n"
     ]
    },
    {
     "data": {
      "text/plain": [
       "<AxesSubplot:xlabel='Age'>"
      ]
     },
     "execution_count": 238,
     "metadata": {},
     "output_type": "execute_result"
    },
    {
     "data": {
      "image/png": "[encoded data removed]",
      "text/plain": [
       "<Figure size 640x480 with 1 Axes>"
      ]
     },
     "metadata": {},
     "output_type": "display_data"
    }
   ],
   "source": [
    "sns.distplot(train['Age'].dropna(),kde=False,color='darkred',bins=30)"
   ]
  },
  {
   "cell_type": "code",
   "execution_count": 239,
   "metadata": {},
   "outputs": [
    {
     "data": {
      "text/plain": [
       "<AxesSubplot:>"
      ]
     },
     "execution_count": 239,
     "metadata": {},
     "output_type": "execute_result"
    },
    {
     "data": {
      "image/png": "[encoded data removed]",
      "text/plain": [
       "<Figure size 640x480 with 1 Axes>"
      ]
     },
     "metadata": {},
     "output_type": "display_data"
    }
   ],
   "source": [
    "train['Age'].hist(bins=30,color='darkred',alpha=0.7)"
   ]
  },
  {
   "cell_type": "code",
   "execution_count": 240,
   "metadata": {},
   "outputs": [
    {
     "data": {
      "text/plain": [
       "<AxesSubplot:xlabel='SibSp', ylabel='count'>"
      ]
     },
     "execution_count": 240,
     "metadata": {},
     "output_type": "execute_result"
    },
    {
     "data": {
      "image/png": "[encoded data removed]",
      "text/plain": [
       "<Figure size 640x480 with 1 Axes>"
      ]
     },
     "metadata": {},
     "output_type": "display_data"
    }
   ],
   "source": [
    "sns.countplot(x='SibSp',data=train)"
   ]
  },
  {
   "cell_type": "code",
   "execution_count": 241,
   "metadata": {},
   "outputs": [
    {
     "data": {
      "text/plain": [
       "<AxesSubplot:>"
      ]
     },
     "execution_count": 241,
     "metadata": {},
     "output_type": "execute_result"
    },
    {
     "data": {
      "image/png": "[encoded data removed]",
      "text/plain": [
       "<Figure size 800x400 with 1 Axes>"
      ]
     },
     "metadata": {},
     "output_type": "display_data"
    }
   ],
   "source": [
    "train['Fare'].hist(color='green',bins=40,figsize=(8,4))"
   ]
  },
  {
   "cell_type": "markdown",
   "metadata": {},
   "source": [
    "____\n",
    "### Cufflinks for plots\n",
    "___\n",
    " Let's take a quick moment to show an example of cufflinks!"
   ]
  },
  {
   "cell_type": "code",
   "execution_count": 242,
   "metadata": {},
   "outputs": [
    {
     "data": {
      "text/html": [
       "        <script type=\"text/javascript\">\n",
       "        window.PlotlyConfig = {MathJaxConfig: 'local'};\n",
       "        if (window.MathJax && window.MathJax.Hub && window.MathJax.Hub.Config) {window.MathJax.Hub.Config({SVG: {font: \"STIX-Web\"}});}\n",
       "        if (typeof require !== 'undefined') {\n",
       "        require.undef(\"plotly\");\n",
       "        requirejs.config({\n",
       "            paths: {\n",
       "                'plotly': ['https://cdn.plot.ly/plotly-2.12.1.min']\n",
       "            }\n",
       "        });\n",
       "        require(['plotly'], function(Plotly) {\n",
       "            window._Plotly = Plotly;\n",
       "        });\n",
       "        }\n",
       "        </script>\n",
       "        "
      ]
     },
     "metadata": {},
     "output_type": "display_data"
    }
   ],
   "source": [
    "import cufflinks as cf\n",
    "cf.go_offline()"
   ]
  },
  {
   "cell_type": "code",
   "execution_count": 243,
   "metadata": {},
   "outputs": [
    {
     "data": {
      "application/vnd.plotly.v1+json": {
       "config": {
        "linkText": "Export to plot.ly",
        "plotlyServerURL": "https://plot.ly",
        "showLink": true
       },
       "data": [
        {
         "histfunc": "count",
         "histnorm": "",
         "marker": {
          "color": "rgba(0, 128, 0, 1.0)",
          "line": {
           "color": "#4D5663",
           "width": 1.3
          }
         },
         "name": "Fare",
         "nbinsx": 30,
         "opacity": 0.8,
         "orientation": "v",
         "type": "histogram",
         "x": [
          7.25,
          71.2833,
          7.925,
          53.1,
          8.05,
          8.4583,
          51.8625,
          21.075,
          11.1333,
          30.0708,
          16.7,
          26.55,
          8.05,
          31.275,
          7.8542,
          16,
          29.125,
          13,
          18,
          7.225,
          26,
          13,
          8.0292,
          35.5,
          21.075,
          31.3875,
          7.225,
          263,
          7.8792,
          7.8958,
          27.7208,
          146.5208,
          7.75,
          10.5,
          82.1708,
          52,
          7.2292,
          8.05,
          18,
          11.2417,
          9.475,
          21,
          7.8958,
          41.5792,
          7.8792,
          8.05,
          15.5,
          7.75,
          21.6792,
          17.8,
          39.6875,
          7.8,
          76.7292,
          26,
          61.9792,
          35.5,
          10.5,
          7.2292,
          27.75,
          46.9,
          7.2292,
          80,
          83.475,
          27.9,
          27.7208,
          15.2458,
          10.5,
          8.1583,
          7.925,
          8.6625,
          10.5,
          46.9,
          73.5,
          14.4542,
          56.4958,
          7.65,
          7.8958,
          8.05,
          29,
          12.475,
          9,
          9.5,
          7.7875,
          47.1,
          10.5,
          15.85,
          34.375,
          8.05,
          263,
          8.05,
          8.05,
          7.8542,
          61.175,
          20.575,
          7.25,
          8.05,
          34.6542,
          63.3583,
          23,
          26,
          7.8958,
          7.8958,
          77.2875,
          8.6542,
          7.925,
          7.8958,
          7.65,
          7.775,
          7.8958,
          24.15,
          52,
          14.4542,
          8.05,
          9.825,
          14.4583,
          7.925,
          7.75,
          21,
          247.5208,
          31.275,
          73.5,
          8.05,
          30.0708,
          13,
          77.2875,
          11.2417,
          7.75,
          7.1417,
          22.3583,
          6.975,
          7.8958,
          7.05,
          14.5,
          26,
          13,
          15.0458,
          26.2833,
          53.1,
          9.2167,
          79.2,
          15.2458,
          7.75,
          15.85,
          6.75,
          11.5,
          36.75,
          7.7958,
          34.375,
          26,
          13,
          12.525,
          66.6,
          8.05,
          14.5,
          7.3125,
          61.3792,
          7.7333,
          8.05,
          8.6625,
          69.55,
          16.1,
          15.75,
          7.775,
          8.6625,
          39.6875,
          20.525,
          55,
          27.9,
          25.925,
          56.4958,
          33.5,
          29.125,
          11.1333,
          7.925,
          30.6958,
          7.8542,
          25.4667,
          28.7125,
          13,
          0,
          69.55,
          15.05,
          31.3875,
          39,
          22.025,
          50,
          15.5,
          26.55,
          15.5,
          7.8958,
          13,
          13,
          7.8542,
          26,
          27.7208,
          146.5208,
          7.75,
          8.4042,
          7.75,
          13,
          9.5,
          69.55,
          6.4958,
          7.225,
          8.05,
          10.4625,
          15.85,
          18.7875,
          7.75,
          31,
          7.05,
          21,
          7.25,
          13,
          7.75,
          113.275,
          7.925,
          27,
          76.2917,
          10.5,
          8.05,
          13,
          8.05,
          7.8958,
          90,
          9.35,
          10.5,
          7.25,
          13,
          25.4667,
          83.475,
          7.775,
          13.5,
          31.3875,
          10.5,
          7.55,
          26,
          26.25,
          10.5,
          12.275,
          14.4542,
          15.5,
          10.5,
          7.125,
          7.225,
          90,
          7.775,
          14.5,
          52.5542,
          26,
          7.25,
          10.4625,
          26.55,
          16.1,
          20.2125,
          15.2458,
          79.2,
          86.5,
          512.3292,
          26,
          7.75,
          31.3875,
          79.65,
          0,
          7.75,
          10.5,
          39.6875,
          7.775,
          153.4625,
          135.6333,
          31,
          0,
          19.5,
          29.7,
          7.75,
          77.9583,
          7.75,
          0,
          29.125,
          20.25,
          7.75,
          7.8542,
          9.5,
          8.05,
          26,
          8.6625,
          9.5,
          7.8958,
          13,
          7.75,
          78.85,
          91.0792,
          12.875,
          8.85,
          7.8958,
          27.7208,
          7.2292,
          151.55,
          30.5,
          247.5208,
          7.75,
          23.25,
          0,
          12.35,
          8.05,
          151.55,
          110.8833,
          108.9,
          24,
          56.9292,
          83.1583,
          262.375,
          26,
          7.8958,
          26.25,
          7.8542,
          26,
          14,
          164.8667,
          134.5,
          7.25,
          7.8958,
          12.35,
          29,
          69.55,
          135.6333,
          6.2375,
          13,
          20.525,
          57.9792,
          23.25,
          28.5,
          153.4625,
          18,
          133.65,
          7.8958,
          66.6,
          134.5,
          8.05,
          35.5,
          26,
          263,
          13,
          13,
          13,
          13,
          13,
          16.1,
          15.9,
          8.6625,
          9.225,
          35,
          7.2292,
          17.8,
          7.225,
          9.5,
          55,
          13,
          7.8792,
          7.8792,
          27.9,
          27.7208,
          14.4542,
          7.05,
          15.5,
          7.25,
          75.25,
          7.2292,
          7.75,
          69.3,
          55.4417,
          6.4958,
          8.05,
          135.6333,
          21.075,
          82.1708,
          7.25,
          211.5,
          4.0125,
          7.775,
          227.525,
          15.7417,
          7.925,
          52,
          7.8958,
          73.5,
          46.9,
          13,
          7.7292,
          12,
          120,
          7.7958,
          7.925,
          113.275,
          16.7,
          7.7958,
          7.8542,
          26,
          10.5,
          12.65,
          7.925,
          8.05,
          9.825,
          15.85,
          8.6625,
          21,
          7.75,
          18.75,
          7.775,
          25.4667,
          7.8958,
          6.8583,
          90,
          0,
          7.925,
          8.05,
          32.5,
          13,
          13,
          24.15,
          7.8958,
          7.7333,
          7.875,
          14.4,
          20.2125,
          7.25,
          26,
          26,
          7.75,
          8.05,
          26.55,
          16.1,
          26,
          7.125,
          55.9,
          120,
          34.375,
          18.75,
          263,
          10.5,
          26.25,
          9.5,
          7.775,
          13,
          8.1125,
          81.8583,
          19.5,
          26.55,
          19.2583,
          30.5,
          27.75,
          19.9667,
          27.75,
          89.1042,
          8.05,
          7.8958,
          26.55,
          51.8625,
          10.5,
          7.75,
          26.55,
          8.05,
          38.5,
          13,
          8.05,
          7.05,
          0,
          26.55,
          7.725,
          19.2583,
          7.25,
          8.6625,
          27.75,
          13.7917,
          9.8375,
          52,
          21,
          7.0458,
          7.5208,
          12.2875,
          46.9,
          0,
          8.05,
          9.5875,
          91.0792,
          25.4667,
          90,
          29.7,
          8.05,
          15.9,
          19.9667,
          7.25,
          30.5,
          49.5042,
          8.05,
          14.4583,
          78.2667,
          15.1,
          151.55,
          7.7958,
          8.6625,
          7.75,
          7.6292,
          9.5875,
          86.5,
          108.9,
          26,
          26.55,
          22.525,
          56.4958,
          7.75,
          8.05,
          26.2875,
          59.4,
          7.4958,
          34.0208,
          10.5,
          24.15,
          26,
          7.8958,
          93.5,
          7.8958,
          7.225,
          57.9792,
          7.2292,
          7.75,
          10.5,
          221.7792,
          7.925,
          11.5,
          26,
          7.2292,
          7.2292,
          22.3583,
          8.6625,
          26.25,
          26.55,
          106.425,
          14.5,
          49.5,
          71,
          31.275,
          31.275,
          26,
          106.425,
          26,
          26,
          13.8625,
          20.525,
          36.75,
          110.8833,
          26,
          7.8292,
          7.225,
          7.775,
          26.55,
          39.6,
          227.525,
          79.65,
          17.4,
          7.75,
          7.8958,
          13.5,
          8.05,
          8.05,
          24.15,
          7.8958,
          21.075,
          7.2292,
          7.8542,
          10.5,
          51.4792,
          26.3875,
          7.75,
          8.05,
          14.5,
          13,
          55.9,
          14.4583,
          7.925,
          30,
          110.8833,
          26,
          40.125,
          8.7125,
          79.65,
          15,
          79.2,
          8.05,
          8.05,
          7.125,
          78.2667,
          7.25,
          7.75,
          26,
          24.15,
          33,
          0,
          7.225,
          56.9292,
          27,
          7.8958,
          42.4,
          8.05,
          26.55,
          15.55,
          7.8958,
          30.5,
          41.5792,
          153.4625,
          31.275,
          7.05,
          15.5,
          7.75,
          8.05,
          65,
          14.4,
          16.1,
          39,
          10.5,
          14.4542,
          52.5542,
          15.7417,
          7.8542,
          16.1,
          32.3208,
          12.35,
          77.9583,
          7.8958,
          7.7333,
          30,
          7.0542,
          30.5,
          0,
          27.9,
          13,
          7.925,
          26.25,
          39.6875,
          16.1,
          7.8542,
          69.3,
          27.9,
          56.4958,
          19.2583,
          76.7292,
          7.8958,
          35.5,
          7.55,
          7.55,
          7.8958,
          23,
          8.4333,
          7.8292,
          6.75,
          73.5,
          7.8958,
          15.5,
          13,
          113.275,
          133.65,
          7.225,
          25.5875,
          7.4958,
          7.925,
          73.5,
          13,
          7.775,
          8.05,
          52,
          39,
          52,
          10.5,
          13,
          0,
          7.775,
          8.05,
          9.8417,
          46.9,
          512.3292,
          8.1375,
          76.7292,
          9.225,
          46.9,
          39,
          41.5792,
          39.6875,
          10.1708,
          7.7958,
          211.3375,
          57,
          13.4167,
          56.4958,
          7.225,
          26.55,
          13.5,
          8.05,
          7.7333,
          110.8833,
          7.65,
          227.525,
          26.2875,
          14.4542,
          7.7417,
          7.8542,
          26,
          13.5,
          26.2875,
          151.55,
          15.2458,
          49.5042,
          26.55,
          52,
          9.4833,
          13,
          7.65,
          227.525,
          10.5,
          15.5,
          7.775,
          33,
          7.0542,
          13,
          13,
          53.1,
          8.6625,
          21,
          7.7375,
          26,
          7.925,
          211.3375,
          18.7875,
          0,
          13,
          13,
          16.1,
          34.375,
          512.3292,
          7.8958,
          7.8958,
          30,
          78.85,
          262.375,
          16.1,
          7.925,
          71,
          20.25,
          13,
          53.1,
          7.75,
          23,
          12.475,
          9.5,
          7.8958,
          65,
          14.5,
          7.7958,
          11.5,
          8.05,
          86.5,
          14.5,
          7.125,
          7.2292,
          120,
          7.775,
          77.9583,
          39.6,
          7.75,
          24.15,
          8.3625,
          9.5,
          7.8542,
          10.5,
          7.225,
          23,
          7.75,
          7.75,
          12.475,
          7.7375,
          211.3375,
          7.2292,
          57,
          30,
          23.45,
          7.05,
          7.25,
          7.4958,
          29.125,
          20.575,
          79.2,
          7.75,
          26,
          69.55,
          30.6958,
          7.8958,
          13,
          25.9292,
          8.6833,
          7.2292,
          24.15,
          13,
          26.25,
          120,
          8.5167,
          6.975,
          7.775,
          0,
          7.775,
          13,
          53.1,
          7.8875,
          24.15,
          10.5,
          31.275,
          8.05,
          0,
          7.925,
          37.0042,
          6.45,
          27.9,
          93.5,
          8.6625,
          0,
          12.475,
          39.6875,
          6.95,
          56.4958,
          37.0042,
          7.75,
          80,
          14.4542,
          18.75,
          7.2292,
          7.8542,
          8.3,
          83.1583,
          8.6625,
          8.05,
          56.4958,
          29.7,
          7.925,
          10.5,
          31,
          6.4375,
          8.6625,
          7.55,
          69.55,
          7.8958,
          33,
          89.1042,
          31.275,
          7.775,
          15.2458,
          39.4,
          26,
          9.35,
          164.8667,
          26.55,
          19.2583,
          7.2292,
          14.1083,
          11.5,
          25.9292,
          69.55,
          13,
          13,
          13.8583,
          50.4958,
          9.5,
          11.1333,
          7.8958,
          52.5542,
          5,
          9,
          24,
          7.225,
          9.8458,
          7.8958,
          7.8958,
          83.1583,
          26,
          7.8958,
          10.5167,
          10.5,
          7.05,
          29.125,
          13,
          30,
          23.45,
          30,
          7.75
         ]
        }
       ],
       "layout": {
        "barmode": "overlay",
        "legend": {
         "bgcolor": "#F5F6F9",
         "font": {
          "color": "#4D5663"
         }
        },
        "paper_bgcolor": "#F5F6F9",
        "plot_bgcolor": "#F5F6F9",
        "template": {
         "data": {
          "bar": [
           {
            "error_x": {
             "color": "#2a3f5f"
            },
            "error_y": {
             "color": "#2a3f5f"
            },
            "marker": {
             "line": {
              "color": "#E5ECF6",
              "width": 0.5
             },
             "pattern": {
              "fillmode": "overlay",
              "size": 10,
              "solidity": 0.2
             }
            },
            "type": "bar"
           }
          ],
          "barpolar": [
           {
            "marker": {
             "line": {
              "color": "#E5ECF6",
              "width": 0.5
             },
             "pattern": {
              "fillmode": "overlay",
              "size": 10,
              "solidity": 0.2
             }
            },
            "type": "barpolar"
           }
          ],
          "carpet": [
           {
            "aaxis": {
             "endlinecolor": "#2a3f5f",
             "gridcolor": "white",
             "linecolor": "white",
             "minorgridcolor": "white",
             "startlinecolor": "#2a3f5f"
            },
            "baxis": {
             "endlinecolor": "#2a3f5f",
             "gridcolor": "white",
             "linecolor": "white",
             "minorgridcolor": "white",
             "startlinecolor": "#2a3f5f"
            },
            "type": "carpet"
           }
          ],
          "choropleth": [
           {
            "colorbar": {
             "outlinewidth": 0,
             "ticks": ""
            },
            "type": "choropleth"
           }
          ],
          "contour": [
           {
            "colorbar": {
             "outlinewidth": 0,
             "ticks": ""
            },
            "colorscale": [
             [
              0,
              "#0d0887"
             ],
             [
              0.1111111111111111,
              "#46039f"
             ],
             [
              0.2222222222222222,
              "#7201a8"
             ],
             [
              0.3333333333333333,
              "#9c179e"
             ],
             [
              0.4444444444444444,
              "#bd3786"
             ],
             [
              0.5555555555555556,
              "#d8576b"
             ],
             [
              0.6666666666666666,
              "#ed7953"
             ],
             [
              0.7777777777777778,
              "#fb9f3a"
             ],
             [
              0.8888888888888888,
              "#fdca26"
             ],
             [
              1,
              "#f0f921"
             ]
            ],
            "type": "contour"
           }
          ],
          "contourcarpet": [
           {
            "colorbar": {
             "outlinewidth": 0,
             "ticks": ""
            },
            "type": "contourcarpet"
           }
          ],
          "heatmap": [
           {
            "colorbar": {
             "outlinewidth": 0,
             "ticks": ""
            },
            "colorscale": [
             [
              0,
              "#0d0887"
             ],
             [
              0.1111111111111111,
              "#46039f"
             ],
             [
              0.2222222222222222,
              "#7201a8"
             ],
             [
              0.3333333333333333,
              "#9c179e"
             ],
             [
              0.4444444444444444,
              "#bd3786"
             ],
             [
              0.5555555555555556,
              "#d8576b"
             ],
             [
              0.6666666666666666,
              "#ed7953"
             ],
             [
              0.7777777777777778,
              "#fb9f3a"
             ],
             [
              0.8888888888888888,
              "#fdca26"
             ],
             [
              1,
              "#f0f921"
             ]
            ],
            "type": "heatmap"
           }
          ],
          "heatmapgl": [
           {
            "colorbar": {
             "outlinewidth": 0,
             "ticks": ""
            },
            "colorscale": [
             [
              0,
              "#0d0887"
             ],
             [
              0.1111111111111111,
              "#46039f"
             ],
             [
              0.2222222222222222,
              "#7201a8"
             ],
             [
              0.3333333333333333,
              "#9c179e"
             ],
             [
              0.4444444444444444,
              "#bd3786"
             ],
             [
              0.5555555555555556,
              "#d8576b"
             ],
             [
              0.6666666666666666,
              "#ed7953"
             ],
             [
              0.7777777777777778,
              "#fb9f3a"
             ],
             [
              0.8888888888888888,
              "#fdca26"
             ],
             [
              1,
              "#f0f921"
             ]
            ],
            "type": "heatmapgl"
           }
          ],
          "histogram": [
           {
            "marker": {
             "pattern": {
              "fillmode": "overlay",
              "size": 10,
              "solidity": 0.2
             }
            },
            "type": "histogram"
           }
          ],
          "histogram2d": [
           {
            "colorbar": {
             "outlinewidth": 0,
             "ticks": ""
            },
            "colorscale": [
             [
              0,
              "#0d0887"
             ],
             [
              0.1111111111111111,
              "#46039f"
             ],
             [
              0.2222222222222222,
              "#7201a8"
             ],
             [
              0.3333333333333333,
              "#9c179e"
             ],
             [
              0.4444444444444444,
              "#bd3786"
             ],
             [
              0.5555555555555556,
              "#d8576b"
             ],
             [
              0.6666666666666666,
              "#ed7953"
             ],
             [
              0.7777777777777778,
              "#fb9f3a"
             ],
             [
              0.8888888888888888,
              "#fdca26"
             ],
             [
              1,
              "#f0f921"
             ]
            ],
            "type": "histogram2d"
           }
          ],
          "histogram2dcontour": [
           {
            "colorbar": {
             "outlinewidth": 0,
             "ticks": ""
            },
            "colorscale": [
             [
              0,
              "#0d0887"
             ],
             [
              0.1111111111111111,
              "#46039f"
             ],
             [
              0.2222222222222222,
              "#7201a8"
             ],
             [
              0.3333333333333333,
              "#9c179e"
             ],
             [
              0.4444444444444444,
              "#bd3786"
             ],
             [
              0.5555555555555556,
              "#d8576b"
             ],
             [
              0.6666666666666666,
              "#ed7953"
             ],
             [
              0.7777777777777778,
              "#fb9f3a"
             ],
             [
              0.8888888888888888,
              "#fdca26"
             ],
             [
              1,
              "#f0f921"
             ]
            ],
            "type": "histogram2dcontour"
           }
          ],
          "mesh3d": [
           {
            "colorbar": {
             "outlinewidth": 0,
             "ticks": ""
            },
            "type": "mesh3d"
           }
          ],
          "parcoords": [
           {
            "line": {
             "colorbar": {
              "outlinewidth": 0,
              "ticks": ""
             }
            },
            "type": "parcoords"
           }
          ],
          "pie": [
           {
            "automargin": true,
            "type": "pie"
           }
          ],
          "scatter": [
           {
            "fillpattern": {
             "fillmode": "overlay",
             "size": 10,
             "solidity": 0.2
            },
            "type": "scatter"
           }
          ],
          "scatter3d": [
           {
            "line": {
             "colorbar": {
              "outlinewidth": 0,
              "ticks": ""
             }
            },
            "marker": {
             "colorbar": {
              "outlinewidth": 0,
              "ticks": ""
             }
            },
            "type": "scatter3d"
           }
          ],
          "scattercarpet": [
           {
            "marker": {
             "colorbar": {
              "outlinewidth": 0,
              "ticks": ""
             }
            },
            "type": "scattercarpet"
           }
          ],
          "scattergeo": [
           {
            "marker": {
             "colorbar": {
              "outlinewidth": 0,
              "ticks": ""
             }
            },
            "type": "scattergeo"
           }
          ],
          "scattergl": [
           {
            "marker": {
             "colorbar": {
              "outlinewidth": 0,
              "ticks": ""
             }
            },
            "type": "scattergl"
           }
          ],
          "scattermapbox": [
           {
            "marker": {
             "colorbar": {
              "outlinewidth": 0,
              "ticks": ""
             }
            },
            "type": "scattermapbox"
           }
          ],
          "scatterpolar": [
           {
            "marker": {
             "colorbar": {
              "outlinewidth": 0,
              "ticks": ""
             }
            },
            "type": "scatterpolar"
           }
          ],
          "scatterpolargl": [
           {
            "marker": {
             "colorbar": {
              "outlinewidth": 0,
              "ticks": ""
             }
            },
            "type": "scatterpolargl"
           }
          ],
          "scatterternary": [
           {
            "marker": {
             "colorbar": {
              "outlinewidth": 0,
              "ticks": ""
             }
            },
            "type": "scatterternary"
           }
          ],
          "surface": [
           {
            "colorbar": {
             "outlinewidth": 0,
             "ticks": ""
            },
            "colorscale": [
             [
              0,
              "#0d0887"
             ],
             [
              0.1111111111111111,
              "#46039f"
             ],
             [
              0.2222222222222222,
              "#7201a8"
             ],
             [
              0.3333333333333333,
              "#9c179e"
             ],
             [
              0.4444444444444444,
              "#bd3786"
             ],
             [
              0.5555555555555556,
              "#d8576b"
             ],
             [
              0.6666666666666666,
              "#ed7953"
             ],
             [
              0.7777777777777778,
              "#fb9f3a"
             ],
             [
              0.8888888888888888,
              "#fdca26"
             ],
             [
              1,
              "#f0f921"
             ]
            ],
            "type": "surface"
           }
          ],
          "table": [
           {
            "cells": {
             "fill": {
              "color": "#EBF0F8"
             },
             "line": {
              "color": "white"
             }
            },
            "header": {
             "fill": {
              "color": "#C8D4E3"
             },
             "line": {
              "color": "white"
             }
            },
            "type": "table"
           }
          ]
         },
         "layout": {
          "annotationdefaults": {
           "arrowcolor": "#2a3f5f",
           "arrowhead": 0,
           "arrowwidth": 1
          },
          "autotypenumbers": "strict",
          "coloraxis": {
           "colorbar": {
            "outlinewidth": 0,
            "ticks": ""
           }
          },
          "colorscale": {
           "diverging": [
            [
             0,
             "#8e0152"
            ],
            [
             0.1,
             "#c51b7d"
            ],
            [
             0.2,
             "#de77ae"
            ],
            [
             0.3,
             "#f1b6da"
            ],
            [
             0.4,
             "#fde0ef"
            ],
            [
             0.5,
             "#f7f7f7"
            ],
            [
             0.6,
             "#e6f5d0"
            ],
            [
             0.7,
             "#b8e186"
            ],
            [
             0.8,
             "#7fbc41"
            ],
            [
             0.9,
             "#4d9221"
            ],
            [
             1,
             "#276419"
            ]
           ],
           "sequential": [
            [
             0,
             "#0d0887"
            ],
            [
             0.1111111111111111,
             "#46039f"
            ],
            [
             0.2222222222222222,
             "#7201a8"
            ],
            [
             0.3333333333333333,
             "#9c179e"
            ],
            [
             0.4444444444444444,
             "#bd3786"
            ],
            [
             0.5555555555555556,
             "#d8576b"
            ],
            [
             0.6666666666666666,
             "#ed7953"
            ],
            [
             0.7777777777777778,
             "#fb9f3a"
            ],
            [
             0.8888888888888888,
             "#fdca26"
            ],
            [
             1,
             "#f0f921"
            ]
           ],
           "sequentialminus": [
            [
             0,
             "#0d0887"
            ],
            [
             0.1111111111111111,
             "#46039f"
            ],
            [
             0.2222222222222222,
             "#7201a8"
            ],
            [
             0.3333333333333333,
             "#9c179e"
            ],
            [
             0.4444444444444444,
             "#bd3786"
            ],
            [
             0.5555555555555556,
             "#d8576b"
            ],
            [
             0.6666666666666666,
             "#ed7953"
            ],
            [
             0.7777777777777778,
             "#fb9f3a"
            ],
            [
             0.8888888888888888,
             "#fdca26"
            ],
            [
             1,
             "#f0f921"
            ]
           ]
          },
          "colorway": [
           "#636efa",
           "#EF553B",
           "#00cc96",
           "#ab63fa",
           "#FFA15A",
           "#19d3f3",
           "#FF6692",
           "#B6E880",
           "#FF97FF",
           "#FECB52"
          ],
          "font": {
           "color": "#2a3f5f"
          },
          "geo": {
           "bgcolor": "white",
           "lakecolor": "white",
           "landcolor": "#E5ECF6",
           "showlakes": true,
           "showland": true,
           "subunitcolor": "white"
          },
          "hoverlabel": {
           "align": "left"
          },
          "hovermode": "closest",
          "mapbox": {
           "style": "light"
          },
          "paper_bgcolor": "white",
          "plot_bgcolor": "#E5ECF6",
          "polar": {
           "angularaxis": {
            "gridcolor": "white",
            "linecolor": "white",
            "ticks": ""
           },
           "bgcolor": "#E5ECF6",
           "radialaxis": {
            "gridcolor": "white",
            "linecolor": "white",
            "ticks": ""
           }
          },
          "scene": {
           "xaxis": {
            "backgroundcolor": "#E5ECF6",
            "gridcolor": "white",
            "gridwidth": 2,
            "linecolor": "white",
            "showbackground": true,
            "ticks": "",
            "zerolinecolor": "white"
           },
           "yaxis": {
            "backgroundcolor": "#E5ECF6",
            "gridcolor": "white",
            "gridwidth": 2,
            "linecolor": "white",
            "showbackground": true,
            "ticks": "",
            "zerolinecolor": "white"
           },
           "zaxis": {
            "backgroundcolor": "#E5ECF6",
            "gridcolor": "white",
            "gridwidth": 2,
            "linecolor": "white",
            "showbackground": true,
            "ticks": "",
            "zerolinecolor": "white"
           }
          },
          "shapedefaults": {
           "line": {
            "color": "#2a3f5f"
           }
          },
          "ternary": {
           "aaxis": {
            "gridcolor": "white",
            "linecolor": "white",
            "ticks": ""
           },
           "baxis": {
            "gridcolor": "white",
            "linecolor": "white",
            "ticks": ""
           },
           "bgcolor": "#E5ECF6",
           "caxis": {
            "gridcolor": "white",
            "linecolor": "white",
            "ticks": ""
           }
          },
          "title": {
           "x": 0.05
          },
          "xaxis": {
           "automargin": true,
           "gridcolor": "white",
           "linecolor": "white",
           "ticks": "",
           "title": {
            "standoff": 15
           },
           "zerolinecolor": "white",
           "zerolinewidth": 2
          },
          "yaxis": {
           "automargin": true,
           "gridcolor": "white",
           "linecolor": "white",
           "ticks": "",
           "title": {
            "standoff": 15
           },
           "zerolinecolor": "white",
           "zerolinewidth": 2
          }
         }
        },
        "title": {
         "font": {
          "color": "#4D5663"
         }
        },
        "xaxis": {
         "gridcolor": "#E1E5ED",
         "showgrid": true,
         "tickfont": {
          "color": "#4D5663"
         },
         "title": {
          "font": {
           "color": "#4D5663"
          },
          "text": ""
         },
         "zerolinecolor": "#E1E5ED"
        },
        "yaxis": {
         "gridcolor": "#E1E5ED",
         "showgrid": true,
         "tickfont": {
          "color": "#4D5663"
         },
         "title": {
          "font": {
           "color": "#4D5663"
          },
          "text": ""
         },
         "zerolinecolor": "#E1E5ED"
        }
       }
      },
      "text/html": [
       "<div>                            <div id=\"92cff4f1-a5ed-43a3-903a-533682549433\" class=\"plotly-graph-div\" style=\"height:525px; width:100%;\"></div>            <script type=\"text/javascript\">                require([\"plotly\"], function(Plotly) {                    window.PLOTLYENV=window.PLOTLYENV || {};\n",
       "                    window.PLOTLYENV.BASE_URL='https://plot.ly';                                    if (document.getElementById(\"92cff4f1-a5ed-43a3-903a-533682549433\")) {                    Plotly.newPlot(                        \"92cff4f1-a5ed-43a3-903a-533682549433\",                        [{\"histfunc\":\"count\",\"histnorm\":\"\",\"marker\":{\"color\":\"rgba(0, 128, 0, 1.0)\",\"line\":{\"color\":\"#4D5663\",\"width\":1.3}},\"name\":\"Fare\",\"nbinsx\":30,\"opacity\":0.8,\"orientation\":\"v\",\"x\":[7.25,71.2833,7.925,53.1,8.05,8.4583,51.8625,21.075,11.1333,30.0708,16.7,26.55,8.05,31.275,7.8542,16.0,29.125,13.0,18.0,7.225,26.0,13.0,8.0292,35.5,21.075,31.3875,7.225,263.0,7.8792,7.8958,27.7208,146.5208,7.75,10.5,82.1708,52.0,7.2292,8.05,18.0,11.2417,9.475,21.0,7.8958,41.5792,7.8792,8.05,15.5,7.75,21.6792,17.8,39.6875,7.8,76.7292,26.0,61.9792,35.5,10.5,7.2292,27.75,46.9,7.2292,80.0,83.475,27.9,27.7208,15.2458,10.5,8.1583,7.925,8.6625,10.5,46.9,73.5,14.4542,56.4958,7.65,7.8958,8.05,29.0,12.475,9.0,9.5,7.7875,47.1,10.5,15.85,34.375,8.05,263.0,8.05,8.05,7.8542,61.175,20.575,7.25,8.05,34.6542,63.3583,23.0,26.0,7.8958,7.8958,77.2875,8.6542,7.925,7.8958,7.65,7.775,7.8958,24.15,52.0,14.4542,8.05,9.825,14.4583,7.925,7.75,21.0,247.5208,31.275,73.5,8.05,30.0708,13.0,77.2875,11.2417,7.75,7.1417,22.3583,6.975,7.8958,7.05,14.5,26.0,13.0,15.0458,26.2833,53.1,9.2167,79.2,15.2458,7.75,15.85,6.75,11.5,36.75,7.7958,34.375,26.0,13.0,12.525,66.6,8.05,14.5,7.3125,61.3792,7.7333,8.05,8.6625,69.55,16.1,15.75,7.775,8.6625,39.6875,20.525,55.0,27.9,25.925,56.4958,33.5,29.125,11.1333,7.925,30.6958,7.8542,25.4667,28.7125,13.0,0.0,69.55,15.05,31.3875,39.0,22.025,50.0,15.5,26.55,15.5,7.8958,13.0,13.0,7.8542,26.0,27.7208,146.5208,7.75,8.4042,7.75,13.0,9.5,69.55,6.4958,7.225,8.05,10.4625,15.85,18.7875,7.75,31.0,7.05,21.0,7.25,13.0,7.75,113.275,7.925,27.0,76.2917,10.5,8.05,13.0,8.05,7.8958,90.0,9.35,10.5,7.25,13.0,25.4667,83.475,7.775,13.5,31.3875,10.5,7.55,26.0,26.25,10.5,12.275,14.4542,15.5,10.5,7.125,7.225,90.0,7.775,14.5,52.5542,26.0,7.25,10.4625,26.55,16.1,20.2125,15.2458,79.2,86.5,512.3292,26.0,7.75,31.3875,79.65,0.0,7.75,10.5,39.6875,7.775,153.4625,135.6333,31.0,0.0,19.5,29.7,7.75,77.9583,7.75,0.0,29.125,20.25,7.75,7.8542,9.5,8.05,26.0,8.6625,9.5,7.8958,13.0,7.75,78.85,91.0792,12.875,8.85,7.8958,27.7208,7.2292,151.55,30.5,247.5208,7.75,23.25,0.0,12.35,8.05,151.55,110.8833,108.9,24.0,56.9292,83.1583,262.375,26.0,7.8958,26.25,7.8542,26.0,14.0,164.8667,134.5,7.25,7.8958,12.35,29.0,69.55,135.6333,6.2375,13.0,20.525,57.9792,23.25,28.5,153.4625,18.0,133.65,7.8958,66.6,134.5,8.05,35.5,26.0,263.0,13.0,13.0,13.0,13.0,13.0,16.1,15.9,8.6625,9.225,35.0,7.2292,17.8,7.225,9.5,55.0,13.0,7.8792,7.8792,27.9,27.7208,14.4542,7.05,15.5,7.25,75.25,7.2292,7.75,69.3,55.4417,6.4958,8.05,135.6333,21.075,82.1708,7.25,211.5,4.0125,7.775,227.525,15.7417,7.925,52.0,7.8958,73.5,46.9,13.0,7.7292,12.0,120.0,7.7958,7.925,113.275,16.7,7.7958,7.8542,26.0,10.5,12.65,7.925,8.05,9.825,15.85,8.6625,21.0,7.75,18.75,7.775,25.4667,7.8958,6.8583,90.0,0.0,7.925,8.05,32.5,13.0,13.0,24.15,7.8958,7.7333,7.875,14.4,20.2125,7.25,26.0,26.0,7.75,8.05,26.55,16.1,26.0,7.125,55.9,120.0,34.375,18.75,263.0,10.5,26.25,9.5,7.775,13.0,8.1125,81.8583,19.5,26.55,19.2583,30.5,27.75,19.9667,27.75,89.1042,8.05,7.8958,26.55,51.8625,10.5,7.75,26.55,8.05,38.5,13.0,8.05,7.05,0.0,26.55,7.725,19.2583,7.25,8.6625,27.75,13.7917,9.8375,52.0,21.0,7.0458,7.5208,12.2875,46.9,0.0,8.05,9.5875,91.0792,25.4667,90.0,29.7,8.05,15.9,19.9667,7.25,30.5,49.5042,8.05,14.4583,78.2667,15.1,151.55,7.7958,8.6625,7.75,7.6292,9.5875,86.5,108.9,26.0,26.55,22.525,56.4958,7.75,8.05,26.2875,59.4,7.4958,34.0208,10.5,24.15,26.0,7.8958,93.5,7.8958,7.225,57.9792,7.2292,7.75,10.5,221.7792,7.925,11.5,26.0,7.2292,7.2292,22.3583,8.6625,26.25,26.55,106.425,14.5,49.5,71.0,31.275,31.275,26.0,106.425,26.0,26.0,13.8625,20.525,36.75,110.8833,26.0,7.8292,7.225,7.775,26.55,39.6,227.525,79.65,17.4,7.75,7.8958,13.5,8.05,8.05,24.15,7.8958,21.075,7.2292,7.8542,10.5,51.4792,26.3875,7.75,8.05,14.5,13.0,55.9,14.4583,7.925,30.0,110.8833,26.0,40.125,8.7125,79.65,15.0,79.2,8.05,8.05,7.125,78.2667,7.25,7.75,26.0,24.15,33.0,0.0,7.225,56.9292,27.0,7.8958,42.4,8.05,26.55,15.55,7.8958,30.5,41.5792,153.4625,31.275,7.05,15.5,7.75,8.05,65.0,14.4,16.1,39.0,10.5,14.4542,52.5542,15.7417,7.8542,16.1,32.3208,12.35,77.9583,7.8958,7.7333,30.0,7.0542,30.5,0.0,27.9,13.0,7.925,26.25,39.6875,16.1,7.8542,69.3,27.9,56.4958,19.2583,76.7292,7.8958,35.5,7.55,7.55,7.8958,23.0,8.4333,7.8292,6.75,73.5,7.8958,15.5,13.0,113.275,133.65,7.225,25.5875,7.4958,7.925,73.5,13.0,7.775,8.05,52.0,39.0,52.0,10.5,13.0,0.0,7.775,8.05,9.8417,46.9,512.3292,8.1375,76.7292,9.225,46.9,39.0,41.5792,39.6875,10.1708,7.7958,211.3375,57.0,13.4167,56.4958,7.225,26.55,13.5,8.05,7.7333,110.8833,7.65,227.525,26.2875,14.4542,7.7417,7.8542,26.0,13.5,26.2875,151.55,15.2458,49.5042,26.55,52.0,9.4833,13.0,7.65,227.525,10.5,15.5,7.775,33.0,7.0542,13.0,13.0,53.1,8.6625,21.0,7.7375,26.0,7.925,211.3375,18.7875,0.0,13.0,13.0,16.1,34.375,512.3292,7.8958,7.8958,30.0,78.85,262.375,16.1,7.925,71.0,20.25,13.0,53.1,7.75,23.0,12.475,9.5,7.8958,65.0,14.5,7.7958,11.5,8.05,86.5,14.5,7.125,7.2292,120.0,7.775,77.9583,39.6,7.75,24.15,8.3625,9.5,7.8542,10.5,7.225,23.0,7.75,7.75,12.475,7.7375,211.3375,7.2292,57.0,30.0,23.45,7.05,7.25,7.4958,29.125,20.575,79.2,7.75,26.0,69.55,30.6958,7.8958,13.0,25.9292,8.6833,7.2292,24.15,13.0,26.25,120.0,8.5167,6.975,7.775,0.0,7.775,13.0,53.1,7.8875,24.15,10.5,31.275,8.05,0.0,7.925,37.0042,6.45,27.9,93.5,8.6625,0.0,12.475,39.6875,6.95,56.4958,37.0042,7.75,80.0,14.4542,18.75,7.2292,7.8542,8.3,83.1583,8.6625,8.05,56.4958,29.7,7.925,10.5,31.0,6.4375,8.6625,7.55,69.55,7.8958,33.0,89.1042,31.275,7.775,15.2458,39.4,26.0,9.35,164.8667,26.55,19.2583,7.2292,14.1083,11.5,25.9292,69.55,13.0,13.0,13.8583,50.4958,9.5,11.1333,7.8958,52.5542,5.0,9.0,24.0,7.225,9.8458,7.8958,7.8958,83.1583,26.0,7.8958,10.5167,10.5,7.05,29.125,13.0,30.0,23.45,30.0,7.75],\"type\":\"histogram\"}],                        {\"barmode\":\"overlay\",\"legend\":{\"bgcolor\":\"#F5F6F9\",\"font\":{\"color\":\"#4D5663\"}},\"paper_bgcolor\":\"#F5F6F9\",\"plot_bgcolor\":\"#F5F6F9\",\"template\":{\"data\":{\"barpolar\":[{\"marker\":{\"line\":{\"color\":\"#E5ECF6\",\"width\":0.5},\"pattern\":{\"fillmode\":\"overlay\",\"size\":10,\"solidity\":0.2}},\"type\":\"barpolar\"}],\"bar\":[{\"error_x\":{\"color\":\"#2a3f5f\"},\"error_y\":{\"color\":\"#2a3f5f\"},\"marker\":{\"line\":{\"color\":\"#E5ECF6\",\"width\":0.5},\"pattern\":{\"fillmode\":\"overlay\",\"size\":10,\"solidity\":0.2}},\"type\":\"bar\"}],\"carpet\":[{\"aaxis\":{\"endlinecolor\":\"#2a3f5f\",\"gridcolor\":\"white\",\"linecolor\":\"white\",\"minorgridcolor\":\"white\",\"startlinecolor\":\"#2a3f5f\"},\"baxis\":{\"endlinecolor\":\"#2a3f5f\",\"gridcolor\":\"white\",\"linecolor\":\"white\",\"minorgridcolor\":\"white\",\"startlinecolor\":\"#2a3f5f\"},\"type\":\"carpet\"}],\"choropleth\":[{\"colorbar\":{\"outlinewidth\":0,\"ticks\":\"\"},\"type\":\"choropleth\"}],\"contourcarpet\":[{\"colorbar\":{\"outlinewidth\":0,\"ticks\":\"\"},\"type\":\"contourcarpet\"}],\"contour\":[{\"colorbar\":{\"outlinewidth\":0,\"ticks\":\"\"},\"colorscale\":[[0.0,\"#0d0887\"],[0.1111111111111111,\"#46039f\"],[0.2222222222222222,\"#7201a8\"],[0.3333333333333333,\"#9c179e\"],[0.4444444444444444,\"#bd3786\"],[0.5555555555555556,\"#d8576b\"],[0.6666666666666666,\"#ed7953\"],[0.7777777777777778,\"#fb9f3a\"],[0.8888888888888888,\"#fdca26\"],[1.0,\"#f0f921\"]],\"type\":\"contour\"}],\"heatmapgl\":[{\"colorbar\":{\"outlinewidth\":0,\"ticks\":\"\"},\"colorscale\":[[0.0,\"#0d0887\"],[0.1111111111111111,\"#46039f\"],[0.2222222222222222,\"#7201a8\"],[0.3333333333333333,\"#9c179e\"],[0.4444444444444444,\"#bd3786\"],[0.5555555555555556,\"#d8576b\"],[0.6666666666666666,\"#ed7953\"],[0.7777777777777778,\"#fb9f3a\"],[0.8888888888888888,\"#fdca26\"],[1.0,\"#f0f921\"]],\"type\":\"heatmapgl\"}],\"heatmap\":[{\"colorbar\":{\"outlinewidth\":0,\"ticks\":\"\"},\"colorscale\":[[0.0,\"#0d0887\"],[0.1111111111111111,\"#46039f\"],[0.2222222222222222,\"#7201a8\"],[0.3333333333333333,\"#9c179e\"],[0.4444444444444444,\"#bd3786\"],[0.5555555555555556,\"#d8576b\"],[0.6666666666666666,\"#ed7953\"],[0.7777777777777778,\"#fb9f3a\"],[0.8888888888888888,\"#fdca26\"],[1.0,\"#f0f921\"]],\"type\":\"heatmap\"}],\"histogram2dcontour\":[{\"colorbar\":{\"outlinewidth\":0,\"ticks\":\"\"},\"colorscale\":[[0.0,\"#0d0887\"],[0.1111111111111111,\"#46039f\"],[0.2222222222222222,\"#7201a8\"],[0.3333333333333333,\"#9c179e\"],[0.4444444444444444,\"#bd3786\"],[0.5555555555555556,\"#d8576b\"],[0.6666666666666666,\"#ed7953\"],[0.7777777777777778,\"#fb9f3a\"],[0.8888888888888888,\"#fdca26\"],[1.0,\"#f0f921\"]],\"type\":\"histogram2dcontour\"}],\"histogram2d\":[{\"colorbar\":{\"outlinewidth\":0,\"ticks\":\"\"},\"colorscale\":[[0.0,\"#0d0887\"],[0.1111111111111111,\"#46039f\"],[0.2222222222222222,\"#7201a8\"],[0.3333333333333333,\"#9c179e\"],[0.4444444444444444,\"#bd3786\"],[0.5555555555555556,\"#d8576b\"],[0.6666666666666666,\"#ed7953\"],[0.7777777777777778,\"#fb9f3a\"],[0.8888888888888888,\"#fdca26\"],[1.0,\"#f0f921\"]],\"type\":\"histogram2d\"}],\"histogram\":[{\"marker\":{\"pattern\":{\"fillmode\":\"overlay\",\"size\":10,\"solidity\":0.2}},\"type\":\"histogram\"}],\"mesh3d\":[{\"colorbar\":{\"outlinewidth\":0,\"ticks\":\"\"},\"type\":\"mesh3d\"}],\"parcoords\":[{\"line\":{\"colorbar\":{\"outlinewidth\":0,\"ticks\":\"\"}},\"type\":\"parcoords\"}],\"pie\":[{\"automargin\":true,\"type\":\"pie\"}],\"scatter3d\":[{\"line\":{\"colorbar\":{\"outlinewidth\":0,\"ticks\":\"\"}},\"marker\":{\"colorbar\":{\"outlinewidth\":0,\"ticks\":\"\"}},\"type\":\"scatter3d\"}],\"scattercarpet\":[{\"marker\":{\"colorbar\":{\"outlinewidth\":0,\"ticks\":\"\"}},\"type\":\"scattercarpet\"}],\"scattergeo\":[{\"marker\":{\"colorbar\":{\"outlinewidth\":0,\"ticks\":\"\"}},\"type\":\"scattergeo\"}],\"scattergl\":[{\"marker\":{\"colorbar\":{\"outlinewidth\":0,\"ticks\":\"\"}},\"type\":\"scattergl\"}],\"scattermapbox\":[{\"marker\":{\"colorbar\":{\"outlinewidth\":0,\"ticks\":\"\"}},\"type\":\"scattermapbox\"}],\"scatterpolargl\":[{\"marker\":{\"colorbar\":{\"outlinewidth\":0,\"ticks\":\"\"}},\"type\":\"scatterpolargl\"}],\"scatterpolar\":[{\"marker\":{\"colorbar\":{\"outlinewidth\":0,\"ticks\":\"\"}},\"type\":\"scatterpolar\"}],\"scatter\":[{\"fillpattern\":{\"fillmode\":\"overlay\",\"size\":10,\"solidity\":0.2},\"type\":\"scatter\"}],\"scatterternary\":[{\"marker\":{\"colorbar\":{\"outlinewidth\":0,\"ticks\":\"\"}},\"type\":\"scatterternary\"}],\"surface\":[{\"colorbar\":{\"outlinewidth\":0,\"ticks\":\"\"},\"colorscale\":[[0.0,\"#0d0887\"],[0.1111111111111111,\"#46039f\"],[0.2222222222222222,\"#7201a8\"],[0.3333333333333333,\"#9c179e\"],[0.4444444444444444,\"#bd3786\"],[0.5555555555555556,\"#d8576b\"],[0.6666666666666666,\"#ed7953\"],[0.7777777777777778,\"#fb9f3a\"],[0.8888888888888888,\"#fdca26\"],[1.0,\"#f0f921\"]],\"type\":\"surface\"}],\"table\":[{\"cells\":{\"fill\":{\"color\":\"#EBF0F8\"},\"line\":{\"color\":\"white\"}},\"header\":{\"fill\":{\"color\":\"#C8D4E3\"},\"line\":{\"color\":\"white\"}},\"type\":\"table\"}]},\"layout\":{\"annotationdefaults\":{\"arrowcolor\":\"#2a3f5f\",\"arrowhead\":0,\"arrowwidth\":1},\"autotypenumbers\":\"strict\",\"coloraxis\":{\"colorbar\":{\"outlinewidth\":0,\"ticks\":\"\"}},\"colorscale\":{\"diverging\":[[0,\"#8e0152\"],[0.1,\"#c51b7d\"],[0.2,\"#de77ae\"],[0.3,\"#f1b6da\"],[0.4,\"#fde0ef\"],[0.5,\"#f7f7f7\"],[0.6,\"#e6f5d0\"],[0.7,\"#b8e186\"],[0.8,\"#7fbc41\"],[0.9,\"#4d9221\"],[1,\"#276419\"]],\"sequential\":[[0.0,\"#0d0887\"],[0.1111111111111111,\"#46039f\"],[0.2222222222222222,\"#7201a8\"],[0.3333333333333333,\"#9c179e\"],[0.4444444444444444,\"#bd3786\"],[0.5555555555555556,\"#d8576b\"],[0.6666666666666666,\"#ed7953\"],[0.7777777777777778,\"#fb9f3a\"],[0.8888888888888888,\"#fdca26\"],[1.0,\"#f0f921\"]],\"sequentialminus\":[[0.0,\"#0d0887\"],[0.1111111111111111,\"#46039f\"],[0.2222222222222222,\"#7201a8\"],[0.3333333333333333,\"#9c179e\"],[0.4444444444444444,\"#bd3786\"],[0.5555555555555556,\"#d8576b\"],[0.6666666666666666,\"#ed7953\"],[0.7777777777777778,\"#fb9f3a\"],[0.8888888888888888,\"#fdca26\"],[1.0,\"#f0f921\"]]},\"colorway\":[\"#636efa\",\"#EF553B\",\"#00cc96\",\"#ab63fa\",\"#FFA15A\",\"#19d3f3\",\"#FF6692\",\"#B6E880\",\"#FF97FF\",\"#FECB52\"],\"font\":{\"color\":\"#2a3f5f\"},\"geo\":{\"bgcolor\":\"white\",\"lakecolor\":\"white\",\"landcolor\":\"#E5ECF6\",\"showlakes\":true,\"showland\":true,\"subunitcolor\":\"white\"},\"hoverlabel\":{\"align\":\"left\"},\"hovermode\":\"closest\",\"mapbox\":{\"style\":\"light\"},\"paper_bgcolor\":\"white\",\"plot_bgcolor\":\"#E5ECF6\",\"polar\":{\"angularaxis\":{\"gridcolor\":\"white\",\"linecolor\":\"white\",\"ticks\":\"\"},\"bgcolor\":\"#E5ECF6\",\"radialaxis\":{\"gridcolor\":\"white\",\"linecolor\":\"white\",\"ticks\":\"\"}},\"scene\":{\"xaxis\":{\"backgroundcolor\":\"#E5ECF6\",\"gridcolor\":\"white\",\"gridwidth\":2,\"linecolor\":\"white\",\"showbackground\":true,\"ticks\":\"\",\"zerolinecolor\":\"white\"},\"yaxis\":{\"backgroundcolor\":\"#E5ECF6\",\"gridcolor\":\"white\",\"gridwidth\":2,\"linecolor\":\"white\",\"showbackground\":true,\"ticks\":\"\",\"zerolinecolor\":\"white\"},\"zaxis\":{\"backgroundcolor\":\"#E5ECF6\",\"gridcolor\":\"white\",\"gridwidth\":2,\"linecolor\":\"white\",\"showbackground\":true,\"ticks\":\"\",\"zerolinecolor\":\"white\"}},\"shapedefaults\":{\"line\":{\"color\":\"#2a3f5f\"}},\"ternary\":{\"aaxis\":{\"gridcolor\":\"white\",\"linecolor\":\"white\",\"ticks\":\"\"},\"baxis\":{\"gridcolor\":\"white\",\"linecolor\":\"white\",\"ticks\":\"\"},\"bgcolor\":\"#E5ECF6\",\"caxis\":{\"gridcolor\":\"white\",\"linecolor\":\"white\",\"ticks\":\"\"}},\"title\":{\"x\":0.05},\"xaxis\":{\"automargin\":true,\"gridcolor\":\"white\",\"linecolor\":\"white\",\"ticks\":\"\",\"title\":{\"standoff\":15},\"zerolinecolor\":\"white\",\"zerolinewidth\":2},\"yaxis\":{\"automargin\":true,\"gridcolor\":\"white\",\"linecolor\":\"white\",\"ticks\":\"\",\"title\":{\"standoff\":15},\"zerolinecolor\":\"white\",\"zerolinewidth\":2}}},\"title\":{\"font\":{\"color\":\"#4D5663\"}},\"xaxis\":{\"gridcolor\":\"#E1E5ED\",\"showgrid\":true,\"tickfont\":{\"color\":\"#4D5663\"},\"title\":{\"font\":{\"color\":\"#4D5663\"},\"text\":\"\"},\"zerolinecolor\":\"#E1E5ED\"},\"yaxis\":{\"gridcolor\":\"#E1E5ED\",\"showgrid\":true,\"tickfont\":{\"color\":\"#4D5663\"},\"title\":{\"font\":{\"color\":\"#4D5663\"},\"text\":\"\"},\"zerolinecolor\":\"#E1E5ED\"}},                        {\"showLink\": true, \"linkText\": \"Export to plot.ly\", \"plotlyServerURL\": \"https://plot.ly\", \"responsive\": true}                    ).then(function(){\n",
       "                            \n",
       "var gd = document.getElementById('92cff4f1-a5ed-43a3-903a-533682549433');\n",
       "var x = new MutationObserver(function (mutations, observer) {{\n",
       "        var display = window.getComputedStyle(gd).display;\n",
       "        if (!display || display === 'none') {{\n",
       "            console.log([gd, 'removed!']);\n",
       "            Plotly.purge(gd);\n",
       "            observer.disconnect();\n",
       "        }}\n",
       "}});\n",
       "\n",
       "// Listen for the removal of the full notebook cells\n",
       "var notebookContainer = gd.closest('#notebook-container');\n",
       "if (notebookContainer) {{\n",
       "    x.observe(notebookContainer, {childList: true});\n",
       "}}\n",
       "\n",
       "// Listen for the clearing of the current output cell\n",
       "var outputEl = gd.closest('.output');\n",
       "if (outputEl) {{\n",
       "    x.observe(outputEl, {childList: true});\n",
       "}}\n",
       "\n",
       "                        })                };                });            </script>        </div>"
      ]
     },
     "metadata": {},
     "output_type": "display_data"
    }
   ],
   "source": [
    "train['Fare'].iplot(kind='hist',bins=30,color='green')"
   ]
  },
  {
   "cell_type": "markdown",
   "metadata": {},
   "source": [
    "___\n",
    "## Data Cleaning\n",
    "We want to fill in missing age data instead of just dropping the missing age data rows. One way to do this is by filling in the mean age of all the passengers (imputation).\n",
    "However we can be smarter about this and check the average age by passenger class. For example:\n"
   ]
  },
  {
   "cell_type": "code",
   "execution_count": 244,
   "metadata": {},
   "outputs": [
    {
     "data": {
      "text/plain": [
       "<AxesSubplot:xlabel='Pclass', ylabel='Age'>"
      ]
     },
     "execution_count": 244,
     "metadata": {},
     "output_type": "execute_result"
    },
    {
     "data": {
      "image/png": "[encoded data removed]",
      "text/plain": [
       "<Figure size 1200x700 with 1 Axes>"
      ]
     },
     "metadata": {},
     "output_type": "display_data"
    }
   ],
   "source": [
    "plt.figure(figsize=(12, 7))\n",
    "sns.boxplot(x='Pclass',y='Age',data=train,palette='winter')"
   ]
  },
  {
   "cell_type": "markdown",
   "metadata": {},
   "source": [
    "We can see the wealthier passengers in the higher classes tend to be older, which makes sense. We'll use these average age values to impute based on Pclass for Age."
   ]
  },
  {
   "cell_type": "code",
   "execution_count": 245,
   "metadata": {},
   "outputs": [],
   "source": [
    "def input_age(cols):\n",
    "    Age = cols[0]\n",
    "    Pclass = cols[1]\n",
    "    \n",
    "    if pd.isnull(Age):\n",
    "\n",
    "        if Pclass == 1:\n",
    "            return 37\n",
    "\n",
    "        elif Pclass == 2:\n",
    "            return 29\n",
    "\n",
    "        else:\n",
    "            return 24\n",
    "\n",
    "    else:\n",
    "        return Age\n"
   ]
  },
  {
   "cell_type": "markdown",
   "metadata": {},
   "source": [
    "Now apply that function!"
   ]
  },
  {
   "cell_type": "code",
   "execution_count": 246,
   "metadata": {},
   "outputs": [],
   "source": [
    "# train['Age'] = train[['Age','Pclass']].apply(impute_age,axis=1)\n",
    "train['Age']=train[['Age','Pclass']].apply(input_age,axis=1)"
   ]
  },
  {
   "cell_type": "markdown",
   "metadata": {},
   "source": [
    "Now let's check that heat map again!"
   ]
  },
  {
   "cell_type": "code",
   "execution_count": 247,
   "metadata": {},
   "outputs": [
    {
     "data": {
      "text/plain": [
       "<AxesSubplot:>"
      ]
     },
     "execution_count": 247,
     "metadata": {},
     "output_type": "execute_result"
    },
    {
     "data": {
      "image/png": "[encoded data removed]",
      "text/plain": [
       "<Figure size 640x480 with 1 Axes>"
      ]
     },
     "metadata": {},
     "output_type": "display_data"
    }
   ],
   "source": [
    "sns.heatmap(train.isnull(),yticklabels=False,cbar=False,cmap='viridis')"
   ]
  },
  {
   "cell_type": "markdown",
   "metadata": {},
   "source": [
    "Great! Let's go ahead and drop the Cabin column and the row in Embarked that is NaN."
   ]
  },
  {
   "cell_type": "code",
   "execution_count": 248,
   "metadata": {},
   "outputs": [],
   "source": [
    "# train.drop('Cabin',axis=1,inplace=True)\n",
    "# \n",
    "# train.drop('Name',inplace=True,axis=1)\n"
   ]
  },
  {
   "cell_type": "code",
   "execution_count": 249,
   "metadata": {},
   "outputs": [
    {
     "data": {
      "text/html": [
       "<div>\n",
       "<style scoped>\n",
       "    .dataframe tbody tr th:only-of-type {\n",
       "        vertical-align: middle;\n",
       "    }\n",
       "\n",
       "    .dataframe tbody tr th {\n",
       "        vertical-align: top;\n",
       "    }\n",
       "\n",
       "    .dataframe thead th {\n",
       "        text-align: right;\n",
       "    }\n",
       "</style>\n",
       "<table border=\"1\" class=\"dataframe\">\n",
       "  <thead>\n",
       "    <tr style=\"text-align: right;\">\n",
       "      <th></th>\n",
       "      <th>PassengerId</th>\n",
       "      <th>Survived</th>\n",
       "      <th>Pclass</th>\n",
       "      <th>Name</th>\n",
       "      <th>Sex</th>\n",
       "      <th>Age</th>\n",
       "      <th>SibSp</th>\n",
       "      <th>Parch</th>\n",
       "      <th>Ticket</th>\n",
       "      <th>Fare</th>\n",
       "      <th>Cabin</th>\n",
       "      <th>Embarked</th>\n",
       "    </tr>\n",
       "  </thead>\n",
       "  <tbody>\n",
       "    <tr>\n",
       "      <th>0</th>\n",
       "      <td>1</td>\n",
       "      <td>0</td>\n",
       "      <td>3</td>\n",
       "      <td>Braund, Mr. Owen Harris</td>\n",
       "      <td>male</td>\n",
       "      <td>22.0</td>\n",
       "      <td>1</td>\n",
       "      <td>0</td>\n",
       "      <td>A/5 21171</td>\n",
       "      <td>7.2500</td>\n",
       "      <td>NaN</td>\n",
       "      <td>S</td>\n",
       "    </tr>\n",
       "    <tr>\n",
       "      <th>1</th>\n",
       "      <td>2</td>\n",
       "      <td>1</td>\n",
       "      <td>1</td>\n",
       "      <td>Cumings, Mrs. John Bradley (Florence Briggs Th...</td>\n",
       "      <td>female</td>\n",
       "      <td>38.0</td>\n",
       "      <td>1</td>\n",
       "      <td>0</td>\n",
       "      <td>PC 17599</td>\n",
       "      <td>71.2833</td>\n",
       "      <td>C85</td>\n",
       "      <td>C</td>\n",
       "    </tr>\n",
       "    <tr>\n",
       "      <th>2</th>\n",
       "      <td>3</td>\n",
       "      <td>1</td>\n",
       "      <td>3</td>\n",
       "      <td>Heikkinen, Miss. Laina</td>\n",
       "      <td>female</td>\n",
       "      <td>26.0</td>\n",
       "      <td>0</td>\n",
       "      <td>0</td>\n",
       "      <td>STON/O2. 3101282</td>\n",
       "      <td>7.9250</td>\n",
       "      <td>NaN</td>\n",
       "      <td>S</td>\n",
       "    </tr>\n",
       "    <tr>\n",
       "      <th>3</th>\n",
       "      <td>4</td>\n",
       "      <td>1</td>\n",
       "      <td>1</td>\n",
       "      <td>Futrelle, Mrs. Jacques Heath (Lily May Peel)</td>\n",
       "      <td>female</td>\n",
       "      <td>35.0</td>\n",
       "      <td>1</td>\n",
       "      <td>0</td>\n",
       "      <td>113803</td>\n",
       "      <td>53.1000</td>\n",
       "      <td>C123</td>\n",
       "      <td>S</td>\n",
       "    </tr>\n",
       "    <tr>\n",
       "      <th>4</th>\n",
       "      <td>5</td>\n",
       "      <td>0</td>\n",
       "      <td>3</td>\n",
       "      <td>Allen, Mr. William Henry</td>\n",
       "      <td>male</td>\n",
       "      <td>35.0</td>\n",
       "      <td>0</td>\n",
       "      <td>0</td>\n",
       "      <td>373450</td>\n",
       "      <td>8.0500</td>\n",
       "      <td>NaN</td>\n",
       "      <td>S</td>\n",
       "    </tr>\n",
       "  </tbody>\n",
       "</table>\n",
       "</div>"
      ],
      "text/plain": [
       "   PassengerId  Survived  Pclass  \\\n",
       "0            1         0       3   \n",
       "1            2         1       1   \n",
       "2            3         1       3   \n",
       "3            4         1       1   \n",
       "4            5         0       3   \n",
       "\n",
       "                                                Name     Sex   Age  SibSp  \\\n",
       "0                            Braund, Mr. Owen Harris    male  22.0      1   \n",
       "1  Cumings, Mrs. John Bradley (Florence Briggs Th...  female  38.0      1   \n",
       "2                             Heikkinen, Miss. Laina  female  26.0      0   \n",
       "3       Futrelle, Mrs. Jacques Heath (Lily May Peel)  female  35.0      1   \n",
       "4                           Allen, Mr. William Henry    male  35.0      0   \n",
       "\n",
       "   Parch            Ticket     Fare Cabin Embarked  \n",
       "0      0         A/5 21171   7.2500   NaN        S  \n",
       "1      0          PC 17599  71.2833   C85        C  \n",
       "2      0  STON/O2. 3101282   7.9250   NaN        S  \n",
       "3      0            113803  53.1000  C123        S  \n",
       "4      0            373450   8.0500   NaN        S  "
      ]
     },
     "execution_count": 249,
     "metadata": {},
     "output_type": "execute_result"
    }
   ],
   "source": [
    "train.head()"
   ]
  },
  {
   "cell_type": "code",
   "execution_count": 250,
   "metadata": {},
   "outputs": [],
   "source": [
    "# train.dropna(inplace=True)\n"
   ]
  },
  {
   "cell_type": "markdown",
   "metadata": {},
   "source": [
    "## Converting Categorical Features \n",
    "\n",
    "We'll need to convert categorical features to dummy variables using pandas! Otherwise our machine learning algorithm won't be able to directly take in those features as inputs."
   ]
  },
  {
   "cell_type": "code",
   "execution_count": 251,
   "metadata": {},
   "outputs": [
    {
     "data": {
      "text/html": [
       "<div>\n",
       "<style scoped>\n",
       "    .dataframe tbody tr th:only-of-type {\n",
       "        vertical-align: middle;\n",
       "    }\n",
       "\n",
       "    .dataframe tbody tr th {\n",
       "        vertical-align: top;\n",
       "    }\n",
       "\n",
       "    .dataframe thead th {\n",
       "        text-align: right;\n",
       "    }\n",
       "</style>\n",
       "<table border=\"1\" class=\"dataframe\">\n",
       "  <thead>\n",
       "    <tr style=\"text-align: right;\">\n",
       "      <th></th>\n",
       "      <th>PassengerId</th>\n",
       "      <th>Survived</th>\n",
       "      <th>Pclass</th>\n",
       "      <th>Name</th>\n",
       "      <th>Sex</th>\n",
       "      <th>Age</th>\n",
       "      <th>SibSp</th>\n",
       "      <th>Parch</th>\n",
       "      <th>Ticket</th>\n",
       "      <th>Fare</th>\n",
       "      <th>Cabin</th>\n",
       "      <th>Embarked</th>\n",
       "    </tr>\n",
       "  </thead>\n",
       "  <tbody>\n",
       "    <tr>\n",
       "      <th>0</th>\n",
       "      <td>1</td>\n",
       "      <td>0</td>\n",
       "      <td>3</td>\n",
       "      <td>Braund, Mr. Owen Harris</td>\n",
       "      <td>male</td>\n",
       "      <td>22.0</td>\n",
       "      <td>1</td>\n",
       "      <td>0</td>\n",
       "      <td>A/5 21171</td>\n",
       "      <td>7.2500</td>\n",
       "      <td>NaN</td>\n",
       "      <td>S</td>\n",
       "    </tr>\n",
       "    <tr>\n",
       "      <th>1</th>\n",
       "      <td>2</td>\n",
       "      <td>1</td>\n",
       "      <td>1</td>\n",
       "      <td>Cumings, Mrs. John Bradley (Florence Briggs Th...</td>\n",
       "      <td>female</td>\n",
       "      <td>38.0</td>\n",
       "      <td>1</td>\n",
       "      <td>0</td>\n",
       "      <td>PC 17599</td>\n",
       "      <td>71.2833</td>\n",
       "      <td>C85</td>\n",
       "      <td>C</td>\n",
       "    </tr>\n",
       "    <tr>\n",
       "      <th>2</th>\n",
       "      <td>3</td>\n",
       "      <td>1</td>\n",
       "      <td>3</td>\n",
       "      <td>Heikkinen, Miss. Laina</td>\n",
       "      <td>female</td>\n",
       "      <td>26.0</td>\n",
       "      <td>0</td>\n",
       "      <td>0</td>\n",
       "      <td>STON/O2. 3101282</td>\n",
       "      <td>7.9250</td>\n",
       "      <td>NaN</td>\n",
       "      <td>S</td>\n",
       "    </tr>\n",
       "    <tr>\n",
       "      <th>3</th>\n",
       "      <td>4</td>\n",
       "      <td>1</td>\n",
       "      <td>1</td>\n",
       "      <td>Futrelle, Mrs. Jacques Heath (Lily May Peel)</td>\n",
       "      <td>female</td>\n",
       "      <td>35.0</td>\n",
       "      <td>1</td>\n",
       "      <td>0</td>\n",
       "      <td>113803</td>\n",
       "      <td>53.1000</td>\n",
       "      <td>C123</td>\n",
       "      <td>S</td>\n",
       "    </tr>\n",
       "    <tr>\n",
       "      <th>4</th>\n",
       "      <td>5</td>\n",
       "      <td>0</td>\n",
       "      <td>3</td>\n",
       "      <td>Allen, Mr. William Henry</td>\n",
       "      <td>male</td>\n",
       "      <td>35.0</td>\n",
       "      <td>0</td>\n",
       "      <td>0</td>\n",
       "      <td>373450</td>\n",
       "      <td>8.0500</td>\n",
       "      <td>NaN</td>\n",
       "      <td>S</td>\n",
       "    </tr>\n",
       "  </tbody>\n",
       "</table>\n",
       "</div>"
      ],
      "text/plain": [
       "   PassengerId  Survived  Pclass  \\\n",
       "0            1         0       3   \n",
       "1            2         1       1   \n",
       "2            3         1       3   \n",
       "3            4         1       1   \n",
       "4            5         0       3   \n",
       "\n",
       "                                                Name     Sex   Age  SibSp  \\\n",
       "0                            Braund, Mr. Owen Harris    male  22.0      1   \n",
       "1  Cumings, Mrs. John Bradley (Florence Briggs Th...  female  38.0      1   \n",
       "2                             Heikkinen, Miss. Laina  female  26.0      0   \n",
       "3       Futrelle, Mrs. Jacques Heath (Lily May Peel)  female  35.0      1   \n",
       "4                           Allen, Mr. William Henry    male  35.0      0   \n",
       "\n",
       "   Parch            Ticket     Fare Cabin Embarked  \n",
       "0      0         A/5 21171   7.2500   NaN        S  \n",
       "1      0          PC 17599  71.2833   C85        C  \n",
       "2      0  STON/O2. 3101282   7.9250   NaN        S  \n",
       "3      0            113803  53.1000  C123        S  \n",
       "4      0            373450   8.0500   NaN        S  "
      ]
     },
     "execution_count": 251,
     "metadata": {},
     "output_type": "execute_result"
    }
   ],
   "source": [
    "train.head()"
   ]
  },
  {
   "cell_type": "code",
   "execution_count": 252,
   "metadata": {},
   "outputs": [
    {
     "data": {
      "text/html": [
       "<div>\n",
       "<style scoped>\n",
       "    .dataframe tbody tr th:only-of-type {\n",
       "        vertical-align: middle;\n",
       "    }\n",
       "\n",
       "    .dataframe tbody tr th {\n",
       "        vertical-align: top;\n",
       "    }\n",
       "\n",
       "    .dataframe thead th {\n",
       "        text-align: right;\n",
       "    }\n",
       "</style>\n",
       "<table border=\"1\" class=\"dataframe\">\n",
       "  <thead>\n",
       "    <tr style=\"text-align: right;\">\n",
       "      <th></th>\n",
       "      <th>C</th>\n",
       "      <th>Q</th>\n",
       "      <th>S</th>\n",
       "    </tr>\n",
       "  </thead>\n",
       "  <tbody>\n",
       "    <tr>\n",
       "      <th>0</th>\n",
       "      <td>0</td>\n",
       "      <td>0</td>\n",
       "      <td>1</td>\n",
       "    </tr>\n",
       "    <tr>\n",
       "      <th>1</th>\n",
       "      <td>1</td>\n",
       "      <td>0</td>\n",
       "      <td>0</td>\n",
       "    </tr>\n",
       "    <tr>\n",
       "      <th>2</th>\n",
       "      <td>0</td>\n",
       "      <td>0</td>\n",
       "      <td>1</td>\n",
       "    </tr>\n",
       "    <tr>\n",
       "      <th>3</th>\n",
       "      <td>0</td>\n",
       "      <td>0</td>\n",
       "      <td>1</td>\n",
       "    </tr>\n",
       "    <tr>\n",
       "      <th>4</th>\n",
       "      <td>0</td>\n",
       "      <td>0</td>\n",
       "      <td>1</td>\n",
       "    </tr>\n",
       "    <tr>\n",
       "      <th>...</th>\n",
       "      <td>...</td>\n",
       "      <td>...</td>\n",
       "      <td>...</td>\n",
       "    </tr>\n",
       "    <tr>\n",
       "      <th>886</th>\n",
       "      <td>0</td>\n",
       "      <td>0</td>\n",
       "      <td>1</td>\n",
       "    </tr>\n",
       "    <tr>\n",
       "      <th>887</th>\n",
       "      <td>0</td>\n",
       "      <td>0</td>\n",
       "      <td>1</td>\n",
       "    </tr>\n",
       "    <tr>\n",
       "      <th>888</th>\n",
       "      <td>0</td>\n",
       "      <td>0</td>\n",
       "      <td>1</td>\n",
       "    </tr>\n",
       "    <tr>\n",
       "      <th>889</th>\n",
       "      <td>1</td>\n",
       "      <td>0</td>\n",
       "      <td>0</td>\n",
       "    </tr>\n",
       "    <tr>\n",
       "      <th>890</th>\n",
       "      <td>0</td>\n",
       "      <td>1</td>\n",
       "      <td>0</td>\n",
       "    </tr>\n",
       "  </tbody>\n",
       "</table>\n",
       "<p>891 rows × 3 columns</p>\n",
       "</div>"
      ],
      "text/plain": [
       "     C  Q  S\n",
       "0    0  0  1\n",
       "1    1  0  0\n",
       "2    0  0  1\n",
       "3    0  0  1\n",
       "4    0  0  1\n",
       "..  .. .. ..\n",
       "886  0  0  1\n",
       "887  0  0  1\n",
       "888  0  0  1\n",
       "889  1  0  0\n",
       "890  0  1  0\n",
       "\n",
       "[891 rows x 3 columns]"
      ]
     },
     "execution_count": 252,
     "metadata": {},
     "output_type": "execute_result"
    }
   ],
   "source": [
    "sex = pd.get_dummies(train['Sex'])\n",
    "# # sex\n",
    "# embark=pd.get_dummies(train['Embarked'])\n",
    "# embark\n",
    "embark = pd.get_dummies(train['Embarked'])\n",
    "# embark\n",
    "embark"
   ]
  },
  {
   "cell_type": "code",
   "execution_count": 262,
   "metadata": {},
   "outputs": [],
   "source": [
    "# train.drop(['Name','Cabin'],axis=1,inplace=True)\n",
    "# train"
   ]
  },
  {
   "cell_type": "code",
   "execution_count": 263,
   "metadata": {},
   "outputs": [
    {
     "data": {
      "text/html": [
       "<div>\n",
       "<style scoped>\n",
       "    .dataframe tbody tr th:only-of-type {\n",
       "        vertical-align: middle;\n",
       "    }\n",
       "\n",
       "    .dataframe tbody tr th {\n",
       "        vertical-align: top;\n",
       "    }\n",
       "\n",
       "    .dataframe thead th {\n",
       "        text-align: right;\n",
       "    }\n",
       "</style>\n",
       "<table border=\"1\" class=\"dataframe\">\n",
       "  <thead>\n",
       "    <tr style=\"text-align: right;\">\n",
       "      <th></th>\n",
       "      <th>PassengerId</th>\n",
       "      <th>Survived</th>\n",
       "      <th>Pclass</th>\n",
       "      <th>Age</th>\n",
       "      <th>SibSp</th>\n",
       "      <th>Parch</th>\n",
       "      <th>Fare</th>\n",
       "      <th>female</th>\n",
       "      <th>male</th>\n",
       "      <th>C</th>\n",
       "      <th>Q</th>\n",
       "      <th>S</th>\n",
       "      <th>female</th>\n",
       "      <th>male</th>\n",
       "      <th>C</th>\n",
       "      <th>Q</th>\n",
       "      <th>S</th>\n",
       "    </tr>\n",
       "  </thead>\n",
       "  <tbody>\n",
       "    <tr>\n",
       "      <th>0</th>\n",
       "      <td>1</td>\n",
       "      <td>0</td>\n",
       "      <td>3</td>\n",
       "      <td>22.0</td>\n",
       "      <td>1</td>\n",
       "      <td>0</td>\n",
       "      <td>7.2500</td>\n",
       "      <td>0</td>\n",
       "      <td>1</td>\n",
       "      <td>0</td>\n",
       "      <td>0</td>\n",
       "      <td>1</td>\n",
       "      <td>0</td>\n",
       "      <td>1</td>\n",
       "      <td>0</td>\n",
       "      <td>0</td>\n",
       "      <td>1</td>\n",
       "    </tr>\n",
       "    <tr>\n",
       "      <th>1</th>\n",
       "      <td>2</td>\n",
       "      <td>1</td>\n",
       "      <td>1</td>\n",
       "      <td>38.0</td>\n",
       "      <td>1</td>\n",
       "      <td>0</td>\n",
       "      <td>71.2833</td>\n",
       "      <td>1</td>\n",
       "      <td>0</td>\n",
       "      <td>1</td>\n",
       "      <td>0</td>\n",
       "      <td>0</td>\n",
       "      <td>1</td>\n",
       "      <td>0</td>\n",
       "      <td>1</td>\n",
       "      <td>0</td>\n",
       "      <td>0</td>\n",
       "    </tr>\n",
       "    <tr>\n",
       "      <th>2</th>\n",
       "      <td>3</td>\n",
       "      <td>1</td>\n",
       "      <td>3</td>\n",
       "      <td>26.0</td>\n",
       "      <td>0</td>\n",
       "      <td>0</td>\n",
       "      <td>7.9250</td>\n",
       "      <td>1</td>\n",
       "      <td>0</td>\n",
       "      <td>0</td>\n",
       "      <td>0</td>\n",
       "      <td>1</td>\n",
       "      <td>1</td>\n",
       "      <td>0</td>\n",
       "      <td>0</td>\n",
       "      <td>0</td>\n",
       "      <td>1</td>\n",
       "    </tr>\n",
       "    <tr>\n",
       "      <th>3</th>\n",
       "      <td>4</td>\n",
       "      <td>1</td>\n",
       "      <td>1</td>\n",
       "      <td>35.0</td>\n",
       "      <td>1</td>\n",
       "      <td>0</td>\n",
       "      <td>53.1000</td>\n",
       "      <td>1</td>\n",
       "      <td>0</td>\n",
       "      <td>0</td>\n",
       "      <td>0</td>\n",
       "      <td>1</td>\n",
       "      <td>1</td>\n",
       "      <td>0</td>\n",
       "      <td>0</td>\n",
       "      <td>0</td>\n",
       "      <td>1</td>\n",
       "    </tr>\n",
       "    <tr>\n",
       "      <th>4</th>\n",
       "      <td>5</td>\n",
       "      <td>0</td>\n",
       "      <td>3</td>\n",
       "      <td>35.0</td>\n",
       "      <td>0</td>\n",
       "      <td>0</td>\n",
       "      <td>8.0500</td>\n",
       "      <td>0</td>\n",
       "      <td>1</td>\n",
       "      <td>0</td>\n",
       "      <td>0</td>\n",
       "      <td>1</td>\n",
       "      <td>0</td>\n",
       "      <td>1</td>\n",
       "      <td>0</td>\n",
       "      <td>0</td>\n",
       "      <td>1</td>\n",
       "    </tr>\n",
       "    <tr>\n",
       "      <th>...</th>\n",
       "      <td>...</td>\n",
       "      <td>...</td>\n",
       "      <td>...</td>\n",
       "      <td>...</td>\n",
       "      <td>...</td>\n",
       "      <td>...</td>\n",
       "      <td>...</td>\n",
       "      <td>...</td>\n",
       "      <td>...</td>\n",
       "      <td>...</td>\n",
       "      <td>...</td>\n",
       "      <td>...</td>\n",
       "      <td>...</td>\n",
       "      <td>...</td>\n",
       "      <td>...</td>\n",
       "      <td>...</td>\n",
       "      <td>...</td>\n",
       "    </tr>\n",
       "    <tr>\n",
       "      <th>886</th>\n",
       "      <td>887</td>\n",
       "      <td>0</td>\n",
       "      <td>2</td>\n",
       "      <td>27.0</td>\n",
       "      <td>0</td>\n",
       "      <td>0</td>\n",
       "      <td>13.0000</td>\n",
       "      <td>0</td>\n",
       "      <td>1</td>\n",
       "      <td>0</td>\n",
       "      <td>0</td>\n",
       "      <td>1</td>\n",
       "      <td>0</td>\n",
       "      <td>1</td>\n",
       "      <td>0</td>\n",
       "      <td>0</td>\n",
       "      <td>1</td>\n",
       "    </tr>\n",
       "    <tr>\n",
       "      <th>887</th>\n",
       "      <td>888</td>\n",
       "      <td>1</td>\n",
       "      <td>1</td>\n",
       "      <td>19.0</td>\n",
       "      <td>0</td>\n",
       "      <td>0</td>\n",
       "      <td>30.0000</td>\n",
       "      <td>1</td>\n",
       "      <td>0</td>\n",
       "      <td>0</td>\n",
       "      <td>0</td>\n",
       "      <td>1</td>\n",
       "      <td>1</td>\n",
       "      <td>0</td>\n",
       "      <td>0</td>\n",
       "      <td>0</td>\n",
       "      <td>1</td>\n",
       "    </tr>\n",
       "    <tr>\n",
       "      <th>888</th>\n",
       "      <td>889</td>\n",
       "      <td>0</td>\n",
       "      <td>3</td>\n",
       "      <td>24.0</td>\n",
       "      <td>1</td>\n",
       "      <td>2</td>\n",
       "      <td>23.4500</td>\n",
       "      <td>1</td>\n",
       "      <td>0</td>\n",
       "      <td>0</td>\n",
       "      <td>0</td>\n",
       "      <td>1</td>\n",
       "      <td>1</td>\n",
       "      <td>0</td>\n",
       "      <td>0</td>\n",
       "      <td>0</td>\n",
       "      <td>1</td>\n",
       "    </tr>\n",
       "    <tr>\n",
       "      <th>889</th>\n",
       "      <td>890</td>\n",
       "      <td>1</td>\n",
       "      <td>1</td>\n",
       "      <td>26.0</td>\n",
       "      <td>0</td>\n",
       "      <td>0</td>\n",
       "      <td>30.0000</td>\n",
       "      <td>0</td>\n",
       "      <td>1</td>\n",
       "      <td>1</td>\n",
       "      <td>0</td>\n",
       "      <td>0</td>\n",
       "      <td>0</td>\n",
       "      <td>1</td>\n",
       "      <td>1</td>\n",
       "      <td>0</td>\n",
       "      <td>0</td>\n",
       "    </tr>\n",
       "    <tr>\n",
       "      <th>890</th>\n",
       "      <td>891</td>\n",
       "      <td>0</td>\n",
       "      <td>3</td>\n",
       "      <td>32.0</td>\n",
       "      <td>0</td>\n",
       "      <td>0</td>\n",
       "      <td>7.7500</td>\n",
       "      <td>0</td>\n",
       "      <td>1</td>\n",
       "      <td>0</td>\n",
       "      <td>1</td>\n",
       "      <td>0</td>\n",
       "      <td>0</td>\n",
       "      <td>1</td>\n",
       "      <td>0</td>\n",
       "      <td>1</td>\n",
       "      <td>0</td>\n",
       "    </tr>\n",
       "  </tbody>\n",
       "</table>\n",
       "<p>891 rows × 17 columns</p>\n",
       "</div>"
      ],
      "text/plain": [
       "     PassengerId  Survived  Pclass   Age  SibSp  Parch     Fare  female  male  \\\n",
       "0              1         0       3  22.0      1      0   7.2500       0     1   \n",
       "1              2         1       1  38.0      1      0  71.2833       1     0   \n",
       "2              3         1       3  26.0      0      0   7.9250       1     0   \n",
       "3              4         1       1  35.0      1      0  53.1000       1     0   \n",
       "4              5         0       3  35.0      0      0   8.0500       0     1   \n",
       "..           ...       ...     ...   ...    ...    ...      ...     ...   ...   \n",
       "886          887         0       2  27.0      0      0  13.0000       0     1   \n",
       "887          888         1       1  19.0      0      0  30.0000       1     0   \n",
       "888          889         0       3  24.0      1      2  23.4500       1     0   \n",
       "889          890         1       1  26.0      0      0  30.0000       0     1   \n",
       "890          891         0       3  32.0      0      0   7.7500       0     1   \n",
       "\n",
       "     C  Q  S  female  male  C  Q  S  \n",
       "0    0  0  1       0     1  0  0  1  \n",
       "1    1  0  0       1     0  1  0  0  \n",
       "2    0  0  1       1     0  0  0  1  \n",
       "3    0  0  1       1     0  0  0  1  \n",
       "4    0  0  1       0     1  0  0  1  \n",
       "..  .. .. ..     ...   ... .. .. ..  \n",
       "886  0  0  1       0     1  0  0  1  \n",
       "887  0  0  1       1     0  0  0  1  \n",
       "888  0  0  1       1     0  0  0  1  \n",
       "889  1  0  0       0     1  1  0  0  \n",
       "890  0  1  0       0     1  0  1  0  \n",
       "\n",
       "[891 rows x 17 columns]"
      ]
     },
     "execution_count": 263,
     "metadata": {},
     "output_type": "execute_result"
    }
   ],
   "source": [
    "train=pd.concat([train,sex,embark],axis=1)\n",
    "train"
   ]
  },
  {
   "cell_type": "code",
   "execution_count": 264,
   "metadata": {},
   "outputs": [
    {
     "data": {
      "text/html": [
       "<div>\n",
       "<style scoped>\n",
       "    .dataframe tbody tr th:only-of-type {\n",
       "        vertical-align: middle;\n",
       "    }\n",
       "\n",
       "    .dataframe tbody tr th {\n",
       "        vertical-align: top;\n",
       "    }\n",
       "\n",
       "    .dataframe thead th {\n",
       "        text-align: right;\n",
       "    }\n",
       "</style>\n",
       "<table border=\"1\" class=\"dataframe\">\n",
       "  <thead>\n",
       "    <tr style=\"text-align: right;\">\n",
       "      <th></th>\n",
       "      <th>PassengerId</th>\n",
       "      <th>Survived</th>\n",
       "      <th>Pclass</th>\n",
       "      <th>Age</th>\n",
       "      <th>SibSp</th>\n",
       "      <th>Parch</th>\n",
       "      <th>Fare</th>\n",
       "      <th>female</th>\n",
       "      <th>male</th>\n",
       "      <th>C</th>\n",
       "      <th>Q</th>\n",
       "      <th>S</th>\n",
       "      <th>female</th>\n",
       "      <th>male</th>\n",
       "      <th>C</th>\n",
       "      <th>Q</th>\n",
       "      <th>S</th>\n",
       "    </tr>\n",
       "  </thead>\n",
       "  <tbody>\n",
       "    <tr>\n",
       "      <th>0</th>\n",
       "      <td>1</td>\n",
       "      <td>0</td>\n",
       "      <td>3</td>\n",
       "      <td>22.0</td>\n",
       "      <td>1</td>\n",
       "      <td>0</td>\n",
       "      <td>7.2500</td>\n",
       "      <td>0</td>\n",
       "      <td>1</td>\n",
       "      <td>0</td>\n",
       "      <td>0</td>\n",
       "      <td>1</td>\n",
       "      <td>0</td>\n",
       "      <td>1</td>\n",
       "      <td>0</td>\n",
       "      <td>0</td>\n",
       "      <td>1</td>\n",
       "    </tr>\n",
       "    <tr>\n",
       "      <th>1</th>\n",
       "      <td>2</td>\n",
       "      <td>1</td>\n",
       "      <td>1</td>\n",
       "      <td>38.0</td>\n",
       "      <td>1</td>\n",
       "      <td>0</td>\n",
       "      <td>71.2833</td>\n",
       "      <td>1</td>\n",
       "      <td>0</td>\n",
       "      <td>1</td>\n",
       "      <td>0</td>\n",
       "      <td>0</td>\n",
       "      <td>1</td>\n",
       "      <td>0</td>\n",
       "      <td>1</td>\n",
       "      <td>0</td>\n",
       "      <td>0</td>\n",
       "    </tr>\n",
       "    <tr>\n",
       "      <th>2</th>\n",
       "      <td>3</td>\n",
       "      <td>1</td>\n",
       "      <td>3</td>\n",
       "      <td>26.0</td>\n",
       "      <td>0</td>\n",
       "      <td>0</td>\n",
       "      <td>7.9250</td>\n",
       "      <td>1</td>\n",
       "      <td>0</td>\n",
       "      <td>0</td>\n",
       "      <td>0</td>\n",
       "      <td>1</td>\n",
       "      <td>1</td>\n",
       "      <td>0</td>\n",
       "      <td>0</td>\n",
       "      <td>0</td>\n",
       "      <td>1</td>\n",
       "    </tr>\n",
       "    <tr>\n",
       "      <th>3</th>\n",
       "      <td>4</td>\n",
       "      <td>1</td>\n",
       "      <td>1</td>\n",
       "      <td>35.0</td>\n",
       "      <td>1</td>\n",
       "      <td>0</td>\n",
       "      <td>53.1000</td>\n",
       "      <td>1</td>\n",
       "      <td>0</td>\n",
       "      <td>0</td>\n",
       "      <td>0</td>\n",
       "      <td>1</td>\n",
       "      <td>1</td>\n",
       "      <td>0</td>\n",
       "      <td>0</td>\n",
       "      <td>0</td>\n",
       "      <td>1</td>\n",
       "    </tr>\n",
       "    <tr>\n",
       "      <th>4</th>\n",
       "      <td>5</td>\n",
       "      <td>0</td>\n",
       "      <td>3</td>\n",
       "      <td>35.0</td>\n",
       "      <td>0</td>\n",
       "      <td>0</td>\n",
       "      <td>8.0500</td>\n",
       "      <td>0</td>\n",
       "      <td>1</td>\n",
       "      <td>0</td>\n",
       "      <td>0</td>\n",
       "      <td>1</td>\n",
       "      <td>0</td>\n",
       "      <td>1</td>\n",
       "      <td>0</td>\n",
       "      <td>0</td>\n",
       "      <td>1</td>\n",
       "    </tr>\n",
       "  </tbody>\n",
       "</table>\n",
       "</div>"
      ],
      "text/plain": [
       "   PassengerId  Survived  Pclass   Age  SibSp  Parch     Fare  female  male  \\\n",
       "0            1         0       3  22.0      1      0   7.2500       0     1   \n",
       "1            2         1       1  38.0      1      0  71.2833       1     0   \n",
       "2            3         1       3  26.0      0      0   7.9250       1     0   \n",
       "3            4         1       1  35.0      1      0  53.1000       1     0   \n",
       "4            5         0       3  35.0      0      0   8.0500       0     1   \n",
       "\n",
       "   C  Q  S  female  male  C  Q  S  \n",
       "0  0  0  1       0     1  0  0  1  \n",
       "1  1  0  0       1     0  1  0  0  \n",
       "2  0  0  1       1     0  0  0  1  \n",
       "3  0  0  1       1     0  0  0  1  \n",
       "4  0  0  1       0     1  0  0  1  "
      ]
     },
     "execution_count": 264,
     "metadata": {},
     "output_type": "execute_result"
    }
   ],
   "source": [
    "train.head()"
   ]
  },
  {
   "cell_type": "markdown",
   "metadata": {},
   "source": [
    "Great! Our data is ready for our model!\n",
    "\n",
    "# Building a Logistic Regression model\n",
    "\n",
    "Let's start by splitting our data into a training set and test set (there is another test.csv file that you can play around with in case you want to use all this data for training).\n",
    "\n",
    "## Train Test Split"
   ]
  },
  {
   "cell_type": "code",
   "execution_count": 265,
   "metadata": {},
   "outputs": [],
   "source": [
    "from sklearn.model_selection import train_test_split"
   ]
  },
  {
   "cell_type": "code",
   "execution_count": 266,
   "metadata": {},
   "outputs": [],
   "source": [
    "X_train, X_test, y_train, y_test = train_test_split(train.drop('Survived',axis=1), \n",
    "                                                    train['Survived'], test_size=0.30, \n",
    "                                                    random_state=101)"
   ]
  },
  {
   "cell_type": "markdown",
   "metadata": {},
   "source": [
    "## Training and Predicting"
   ]
  },
  {
   "cell_type": "code",
   "execution_count": 267,
   "metadata": {},
   "outputs": [],
   "source": [
    "from sklearn.linear_model import LogisticRegression"
   ]
  },
  {
   "cell_type": "code",
   "execution_count": 268,
   "metadata": {},
   "outputs": [
    {
     "name": "stderr",
     "output_type": "stream",
     "text": [
      "C:\\ProgramData\\Anaconda3\\lib\\site-packages\\sklearn\\linear_model\\_logistic.py:814: ConvergenceWarning:\n",
      "\n",
      "lbfgs failed to converge (status=1):\n",
      "STOP: TOTAL NO. of ITERATIONS REACHED LIMIT.\n",
      "\n",
      "Increase the number of iterations (max_iter) or scale the data as shown in:\n",
      "    https://scikit-learn.org/stable/modules/preprocessing.html\n",
      "Please also refer to the documentation for alternative solver options:\n",
      "    https://scikit-learn.org/stable/modules/linear_model.html#logistic-regression\n",
      "\n"
     ]
    },
    {
     "data": {
      "text/plain": [
       "LogisticRegression()"
      ]
     },
     "execution_count": 268,
     "metadata": {},
     "output_type": "execute_result"
    }
   ],
   "source": [
    "logmodel = LogisticRegression()\n",
    "logmodel.fit(X_train,y_train)"
   ]
  },
  {
   "cell_type": "code",
   "execution_count": 269,
   "metadata": {},
   "outputs": [],
   "source": [
    "predictions = logmodel.predict(X_test)"
   ]
  },
  {
   "cell_type": "markdown",
   "metadata": {},
   "source": [
    "Let's move on to evaluate our model!"
   ]
  },
  {
   "cell_type": "markdown",
   "metadata": {},
   "source": [
    "## Evaluation"
   ]
  },
  {
   "cell_type": "markdown",
   "metadata": {},
   "source": [
    "We can check precision,recall,f1-score using classification report!"
   ]
  },
  {
   "cell_type": "code",
   "execution_count": 270,
   "metadata": {},
   "outputs": [],
   "source": [
    "from sklearn.metrics import classification_report"
   ]
  },
  {
   "cell_type": "code",
   "execution_count": 272,
   "metadata": {},
   "outputs": [
    {
     "name": "stdout",
     "output_type": "stream",
     "text": [
      "              precision    recall  f1-score   support\n",
      "\n",
      "           0       0.77      0.88      0.82       154\n",
      "           1       0.80      0.65      0.71       114\n",
      "\n",
      "    accuracy                           0.78       268\n",
      "   macro avg       0.78      0.76      0.77       268\n",
      "weighted avg       0.78      0.78      0.78       268\n",
      "\n"
     ]
    }
   ],
   "source": [
    "print(classification_report(y_test,predictions))\n",
    "# train.corr()['Survived'][:]"
   ]
  },
  {
   "cell_type": "markdown",
   "metadata": {},
   "source": [
    "Not so bad! You might want to explore other feature engineering and the other titanic_text.csv file, some suggestions for feature engineering:\n",
    "\n",
    "* Try grabbing the Title (Dr.,Mr.,Mrs,etc..) from the name as a feature\n",
    "* Maybe the Cabin letter could be a feature\n",
    "* Is there any info you can get from the ticket?\n",
    "\n",
    "## Great Job!"
   ]
  },
  {
   "cell_type": "code",
   "execution_count": null,
   "metadata": {},
   "outputs": [],
   "source": []
  }
 ],
 "metadata": {
  "kernelspec": {
   "display_name": "Python 3 (ipykernel)",
   "language": "python",
   "name": "python3"
  },
  "language_info": {
   "codemirror_mode": {
    "name": "ipython",
    "version": 3
   },
   "file_extension": ".py",
   "mimetype": "text/x-python",
   "name": "python",
   "nbconvert_exporter": "python",
   "pygments_lexer": "ipython3",
   "version": "3.9.13"
  }
 },
 "nbformat": 4,
 "nbformat_minor": 1
}
